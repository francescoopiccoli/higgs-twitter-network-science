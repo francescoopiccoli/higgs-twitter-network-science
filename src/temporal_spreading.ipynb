{
 "cells": [
  {
   "cell_type": "code",
   "execution_count": null,
   "metadata": {},
   "outputs": [],
   "source": [
    "import matplotlib.pyplot as plt\n",
    "import numpy as np\n",
    "import pandas as pd\n",
    "import networkx as nx\n",
    "import os\n",
    "import random\n",
    "os.chdir('../Network-analysis/')\n",
    "import utilities as util\n",
    "os.chdir('../src/')"
   ]
  },
  {
   "cell_type": "code",
   "execution_count": null,
   "metadata": {},
   "outputs": [],
   "source": [
    "friends_file_path = \"../output/higgs-friends-lcc.edgelist\"\n",
    "friends_reply_path = \"../output/higgs-friends-reply.edgelist\"\n",
    "friends_mention_path = \"../output/higgs-friends-mention.edgelist\"\n",
    "friends_retweet_path = \"../output/higgs-friends-retweet.edgelist\""
   ]
  },
  {
   "cell_type": "code",
   "execution_count": null,
   "metadata": {},
   "outputs": [],
   "source": [
    "# Read the edge list file into a graph\n",
    "G_reply = nx.read_edgelist(friends_reply_path, data=((\"day\", int),))\n",
    "#print(G_reply.edges(data=True))\n",
    "\n",
    "subgraph_reply = util.get_subgraph(G_reply, 5000)\n",
    "subgraph_reply_df = pd.DataFrame(subgraph_reply.edges(data=True), columns=['source', 'target', 'attribute'])\n",
    "# Extract the 'day' attribute from the 'attribute' column and add it as a separate column\n",
    "subgraph_reply_df['day'] = [d['day'] for d in subgraph_reply_df['attribute']]\n",
    "# Drop the 'attribute' column, which is no longer needed\n",
    "subgraph_reply_df.drop('attribute', axis=1, inplace=True)\n",
    "\n",
    "# there are days above 7, so we need to remove them\n",
    "subgraph_reply_df = subgraph_reply_df[subgraph_reply_df['day'] <= 7]\n",
    "#unique_days = subgraph_reply_df['day'].unique()\n",
    "#print(unique_days)"
   ]
  },
  {
   "cell_type": "code",
   "execution_count": null,
   "metadata": {},
   "outputs": [],
   "source": [
    "# First implementation of temporal spreading\n",
    "# From the plot I am not sure if this is correct, the number of infected nodes is pretty low,\n",
    "# but that could be because the huge majority of interactions happen at time 1, and i am considering a node as spreader from the next day is infected\n",
    "# if we remove this condition I expect the number of infected nodes to be almost the same as the number of nodes in the subgraph at day 1\n",
    "\n",
    "subgraph_reply_df = subgraph_reply_df.sort_values(by=['day'])\n",
    "subgraph_reply_df.reset_index(drop=True, inplace=True)\n",
    "\n",
    "iterations = 100\n",
    "infected_nodes_time_dict = {0:[1 for _ in range(iterations)]} \n",
    "seed_nodes = []\n",
    "for n in range(iterations):\n",
    "  seed_node = random.choice(list(subgraph_reply.nodes()))\n",
    "  seed_nodes.append(seed_node)\n",
    "  infected_nodes = {seed_node}\n",
    "\n",
    "  cur_timestamp = 0\n",
    "  nodes_infected_in_timestamp = set()\n",
    "\n",
    "  # Iterate over all days\n",
    "  for day in range(1, 8):\n",
    "    # For each day get the edges that were created on that day\n",
    "    edges = subgraph_reply_df[subgraph_reply_df['day'] == day]\n",
    "    # Take the dataframe subset where either the source or the target is in the infected nodes\n",
    "    susceptible_nodes_rows = edges[edges['source'].isin(infected_nodes) | edges['target'].isin(infected_nodes)]\n",
    "    # Make a set of all the nodes that are in susceptible_nodes_rows\n",
    "    susceptible_nodes = set(susceptible_nodes_rows['source']).union(set(susceptible_nodes_rows['target']))\n",
    "    # Add the susceptible nodes to the infected nodes\n",
    "    infected_nodes = infected_nodes.union(susceptible_nodes)\n",
    "    # Add the infected nodes to the infected_nodes_time_dict\n",
    "    if day in infected_nodes_time_dict:\n",
    "      infected_nodes_time_dict[day].append(len(infected_nodes))\n",
    "    else:\n",
    "      infected_nodes_time_dict[day] = [len(infected_nodes)]\n",
    "      \n",
    "# Take the average of the infected nodes for each timestamp\n",
    "infected_nodes_time_dict = {k: sum(v)/len(v) for k, v in infected_nodes_time_dict.items()}\n",
    "\n",
    "plt.plot(list(infected_nodes_time_dict.keys()), list(infected_nodes_time_dict.values()))\n"
   ]
  }
 ],
 "metadata": {
  "kernelspec": {
   "display_name": "higgs-twitter-project-env",
   "language": "python",
   "name": "python3"
  },
  "language_info": {
   "codemirror_mode": {
    "name": "ipython",
    "version": 3
   },
   "file_extension": ".py",
   "mimetype": "text/x-python",
   "name": "python",
   "nbconvert_exporter": "python",
   "pygments_lexer": "ipython3",
   "version": "3.10.10"
  },
  "orig_nbformat": 4
 },
 "nbformat": 4,
 "nbformat_minor": 2
}
