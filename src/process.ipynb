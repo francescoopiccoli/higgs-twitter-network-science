{
 "cells": [
  {
   "cell_type": "code",
   "execution_count": 25,
   "outputs": [],
   "source": [
    "import networkx as nx\n",
    "import pandas as pd\n",
    "import numpy as np\n",
    "import matplotlib.pyplot as plt\n",
    "import random"
   ],
   "metadata": {
    "collapsed": false
   }
  },
  {
   "cell_type": "markdown",
   "source": [
    "### Helper functions that are used in the rest of the notebook"
   ],
   "metadata": {
    "collapsed": false
   }
  },
  {
   "cell_type": "code",
   "execution_count": 26,
   "outputs": [],
   "source": [
    "def extract_nodes(df):\n",
    "    \"\"\"\n",
    "    Extracts the nodes from a dataframe\n",
    "    :param df: dataframe with source and target columns\n",
    "    :return: set of nodes\n",
    "    \"\"\"\n",
    "    return set(df['source'].unique()).union(set(df['target'].unique()))\n",
    "\n",
    "def load_nodes(file_path):\n",
    "    \"\"\"\n",
    "    Loads the nodes from a file\n",
    "    :param file_path: path to the file\n",
    "    :return: set of nodes\n",
    "    \"\"\"\n",
    "    # much faster to do the operations on dataframes\n",
    "    df = pd.read_csv(file_path, delimiter = ' ', names=['source', 'target', 'day'])\n",
    "    nodes = extract_nodes(df)\n",
    "    print(f\"loaded {file_path} has {len(nodes)} nodes\")\n",
    "    return nodes\n",
    "\n",
    "def largest_connected_component(G):\n",
    "    \"\"\"\n",
    "    Returns the largest connected component of a graph\n",
    "    :param G: graph\n",
    "    :return: largest connected component\n",
    "    \"\"\"\n",
    "    # not supported for directed networks\n",
    "    subgraphs = sorted(nx.connected_components(G), key=len, reverse=True)\n",
    "    return G.subgraph(subgraphs[0])\n",
    "\n",
    "def build_network(df, directed = False):\n",
    "    \"\"\"\n",
    "    Builds a network from a dataframe\n",
    "    :param df: dataframe with source and target columns\n",
    "    :param directed: whether the network is directed or not\n",
    "    :return: networkx graph\n",
    "    \"\"\"\n",
    "    if directed:\n",
    "        G = nx.DiGraph()\n",
    "    else:\n",
    "        G = nx.Graph()\n",
    "\n",
    "    # Check if exists a day column\n",
    "    if \"day\" in df.columns:\n",
    "        to_add = [(source, target, {\"day\": day}) for source, target, day in zip(df[\"source\"], df[\"target\"], df[\"day\"])]\n",
    "    else:\n",
    "        to_add = zip(df[\"source\"], df[\"target\"])\n",
    "    G.add_edges_from(to_add)\n",
    "    return G\n",
    "\n",
    "def extract_bidirectional_subnetwork(G):\n",
    "    \"\"\"\n",
    "    creates an undirected sub network from a directed network\n",
    "\n",
    "    that only contains the edges where both\n",
    "\n",
    "    u -> v and v -> u\n",
    "\n",
    "    are in the directed network. In the followers/following sense,\n",
    "\n",
    "    This extracts the sub network where the users follow eachother.\n",
    "\n",
    "    \"\"\"\n",
    "    sub_G = nx.Graph()\n",
    "\n",
    "    for e in G.edges:\n",
    "        if len(e) == 2:\n",
    "            u, v = e\n",
    "        else:\n",
    "            u, v, _ = e\n",
    "        if G.has_edge(v, u):\n",
    "            sub_G.add_edge(u,v)\n",
    "\n",
    "    return sub_G\n",
    "\n",
    "def load_subnetwork(file_path, sub_nodes, directed = False):\n",
    "    \"\"\"\n",
    "    Loads a network from a file and extracts a subnetwork by only keeping the nodes in sub_nodes\n",
    "    :param file_path: path to the file with the network\n",
    "    :param sub_nodes: set of nodes to keep\n",
    "    :param directed: whether the network is directed or not\n",
    "    :return: networkx graph\n",
    "    \"\"\"\n",
    "\n",
    "    df = pd.read_csv(file_path, delimiter = ' ', names=['source', 'target', 'day'])\n",
    "    if df['day'].isna().all():\n",
    "        df.drop(columns=['day'], inplace=True)\n",
    "    sub_df = df[((df['source'].isin(sub_nodes)) & (df['target'].isin(sub_nodes)))]\n",
    "\n",
    "    return build_network(sub_df, directed)\n",
    "\n",
    "def get_friendships(G):\n",
    "    \"\"\"\n",
    "    Extracts the friendships from a social network defined as the subnetwork where both u -> v and v -> u are in the network\n",
    "    :param G: social network\n",
    "    :return: friendships network\n",
    "    \"\"\"\n",
    "\n",
    "    G = extract_bidirectional_subnetwork(G.to_undirected())\n",
    "\n",
    "    return G\n",
    "\n",
    "def get_lcc(G, directed = False):\n",
    "    \"\"\"\n",
    "    Returns the largest connected component of a graph\n",
    "    :param G: graph\n",
    "    :param directed: whether the graph is directed or not\n",
    "    :return: largest connected component\n",
    "    \"\"\"\n",
    "    lcc = largest_connected_component(G.to_undirected())\n",
    "\n",
    "    return lcc\n",
    "\n",
    "def get_subgraph(G, k=None, is_seed_node_most_connected=True):\n",
    "    \"\"\"\n",
    "    Returns a subgraph of G with k nodes generated by BFS from a seed node\n",
    "    :param G: graph\n",
    "    :param k: number of nodes in the subgraph\n",
    "    :param is_seed_node_most_connected: whether the seed node is the most connected node or a random node\n",
    "    :return: subgraph\n",
    "    \"\"\"\n",
    "    if k is None:\n",
    "        k = G.number_of_nodes() // 5\n",
    "    print('subgraph of: ' + str(k) + ' nodes')\n",
    "\n",
    "    if is_seed_node_most_connected:\n",
    "        seed_node = max(G.degree(), key=lambda x: x[1])[0]\n",
    "    else:\n",
    "        # Choosing a random node does not guarantee getting a subgraph of the desired size\n",
    "        seed_node = random.choice(list(G.nodes()))\n",
    "    # Initialize a queue for BFS and a set for visited nodes\n",
    "    queue = [seed_node]\n",
    "    visited = set([seed_node])\n",
    "    # Initialize the subgraph with the starting node\n",
    "    subgraph = nx.Graph()\n",
    "    subgraph.add_node(seed_node)\n",
    "    # While the subgraph has fewer than n nodes and the queue is not empty\n",
    "    while len(subgraph) < k and queue:\n",
    "        # Get the next node from the queue\n",
    "        curr_node = queue.pop(0)\n",
    "        # Add its neighbors that have not been visited to the queue and the subgraph\n",
    "        for neighbor in G.neighbors(curr_node):\n",
    "            if neighbor not in visited:\n",
    "                if len(subgraph) >= k:\n",
    "                    break\n",
    "                visited.add(neighbor)\n",
    "                subgraph.add_node(neighbor)\n",
    "                subgraph.add_edge(curr_node, neighbor, day=G[curr_node][neighbor][\"day\"])\n",
    "                queue.append(neighbor)\n",
    "    return subgraph\n"
   ],
   "metadata": {
    "collapsed": false
   }
  },
  {
   "cell_type": "markdown",
   "source": [
    "### Create the dataset of replies, mentions and retweets with real timestamps (not just days)"
   ],
   "metadata": {
    "collapsed": false
   }
  },
  {
   "cell_type": "code",
   "execution_count": 27,
   "outputs": [],
   "source": [
    "activity_time_path = \"../network-data/higgs-activity_time.txt\"\n",
    "activity_time = pd.read_csv(activity_time_path, delimiter = ' ', names=['source', 'target', 'time', 'type'])"
   ],
   "metadata": {
    "collapsed": false
   }
  },
  {
   "cell_type": "raw",
   "source": [],
   "metadata": {
    "collapsed": false
   }
  },
  {
   "cell_type": "code",
   "execution_count": 28,
   "outputs": [],
   "source": [
    "# create high resolution timestamped datasets\n",
    "reply_timestamps_file_path = \"../output/reply_timestamps.edgelist\"\n",
    "mention_timestamps_file_path = \"../output/mention_timestamps.edgelist\"\n",
    "retweet_timestamps_file_path = \"../output/retweet_timestamps.edgelist\"\n",
    "\n",
    "activity_time[activity_time['type'] == 'RE'][['source', 'target', 'time']]\\\n",
    ".to_csv(reply_timestamps_file_path, sep=' ', header=False, index=False)\n",
    "activity_time[activity_time['type'] == 'MT'][['source', 'target', 'time']]\\\n",
    ".to_csv(mention_timestamps_file_path, sep=' ', header=False, index=False)\n",
    "activity_time[activity_time['type'] == 'RT'][['source', 'target', 'time']]\\\n",
    ".to_csv(retweet_timestamps_file_path, sep=' ', header=False, index=False)"
   ],
   "metadata": {
    "collapsed": false
   }
  },
  {
   "cell_type": "code",
   "execution_count": 29,
   "outputs": [],
   "source": [
    "social_file_path = \"../network-data/higgs-social_network.edgelist\""
   ],
   "metadata": {
    "collapsed": false
   }
  },
  {
   "cell_type": "markdown",
   "source": [
    "### Create the intersection of nodes across all interaction mechanisms."
   ],
   "metadata": {
    "collapsed": false
   }
  },
  {
   "cell_type": "code",
   "execution_count": 30,
   "outputs": [
    {
     "name": "stdout",
     "output_type": "stream",
     "text": [
      "loaded ../output/reply_timestamps.edgelist has 38918 nodes\n",
      "loaded ../output/mention_timestamps.edgelist has 116408 nodes\n",
      "loaded ../output/retweet_timestamps.edgelist has 256491 nodes\n",
      "intersected network has 21346 nodes\n"
     ]
    }
   ],
   "source": [
    "\n",
    "reply_nodes = load_nodes(reply_timestamps_file_path)\n",
    "mention_nodes = load_nodes(mention_timestamps_file_path)\n",
    "reply_mention_nodes = reply_nodes.intersection(mention_nodes)\n",
    "del reply_nodes, mention_nodes\n",
    "\n",
    "\n",
    "retweet_nodes = load_nodes(retweet_timestamps_file_path)\n",
    "reply_mention_retweet_nodes = reply_mention_nodes.intersection(retweet_nodes)\n",
    "del reply_mention_nodes, retweet_nodes\n",
    "\n",
    "print(f\"intersected network has {len(reply_mention_retweet_nodes)} nodes\")"
   ],
   "metadata": {
    "collapsed": false
   }
  },
  {
   "cell_type": "markdown",
   "source": [
    "### Create the social network and the friendship network"
   ],
   "metadata": {
    "collapsed": false
   }
  },
  {
   "cell_type": "code",
   "execution_count": 31,
   "outputs": [],
   "source": [
    "# following/followers is a directed network\n",
    "social_network = load_subnetwork(social_file_path, reply_mention_retweet_nodes)\n",
    "lcc_social_network = get_lcc(social_network)\n",
    "\n",
    "friends_network = get_friendships(social_network)\n",
    "\n",
    "del social_network\n",
    "lcc_friends_network = get_lcc(friends_network)\n",
    "del friends_network\n",
    "\n",
    "nx.write_edgelist(lcc_friends_network, '../output/higgs-friends-lcc.edgelist')\n",
    "nx.write_edgelist(lcc_social_network, '../output/higgs-social-lcc.edgelist')"
   ],
   "metadata": {
    "collapsed": false
   }
  },
  {
   "cell_type": "markdown",
   "source": [
    "### Create the subnetworks for replies, mentions and retweets bby only keeping the nodes that are present in the social network or the friendship network."
   ],
   "metadata": {
    "collapsed": false
   }
  },
  {
   "cell_type": "code",
   "execution_count": 32,
   "outputs": [],
   "source": [
    "social_reply_network = load_subnetwork(reply_timestamps_file_path, lcc_social_network.nodes)\n",
    "social_mention_network = load_subnetwork(mention_timestamps_file_path, lcc_social_network.nodes)\n",
    "social_retweet_network = load_subnetwork(retweet_timestamps_file_path, lcc_social_network.nodes)\n",
    "\n",
    "friends_reply_network = load_subnetwork(reply_timestamps_file_path, lcc_friends_network.nodes)\n",
    "friends_mention_network = load_subnetwork(mention_timestamps_file_path, lcc_friends_network.nodes)\n",
    "friends_retweet_network = load_subnetwork(retweet_timestamps_file_path, lcc_friends_network.nodes)\n",
    "\n",
    "paths = ['../output/higgs-social-reply.edgelist', '../output/higgs-social-mention.edgelist', '../output/higgs-social-retweet.edgelist', '../output/higgs-friends-reply.edgelist', '../output/higgs-friends-mention.edgelist', '../output/higgs-friends-retweet.edgelist']\n",
    "networks = [social_reply_network, social_mention_network, social_retweet_network, friends_reply_network, friends_mention_network, friends_retweet_network]\n",
    "\n",
    "\n",
    "for path, network in zip(paths, networks):\n",
    "    nx.write_edgelist(network, path)\n",
    "    with open(path, 'r') as f:\n",
    "        data = f.readlines()\n",
    "\n",
    "    # Remove the \"day\" key from each line of data\n",
    "    data = [line.strip().replace(\"{'day': \", \"\").replace(\"}\", \"\") for line in data]\n",
    "\n",
    "    # Convert the data into a list of tuples with integer values\n",
    "    data = [tuple(map(int, line.split())) for line in data]\n",
    "\n",
    "    # Write the modified data to a new file\n",
    "    with open(path, 'w') as f:\n",
    "        for line in data:\n",
    "            f.write(f\"{line[0]} {line[1]} {line[2]}\\n\")\n",
    "\n"
   ],
   "metadata": {
    "collapsed": false
   }
  },
  {
   "cell_type": "code",
   "execution_count": 33,
   "outputs": [],
   "source": [
    "friends_file_path = \"../output/higgs-friends-lcc.edgelist\"\n",
    "friends_reply_path = \"../output/higgs-friends-reply.edgelist\"\n",
    "friends_mention_path = \"../output/higgs-friends-mention.edgelist\"\n",
    "friends_retweet_path = \"../output/higgs-friends-retweet.edgelist\""
   ],
   "metadata": {
    "collapsed": false
   }
  },
  {
   "cell_type": "markdown",
   "source": [
    "### Temporal analysis of the reply network"
   ],
   "metadata": {
    "collapsed": false
   }
  },
  {
   "cell_type": "code",
   "execution_count": 34,
   "outputs": [
    {
     "name": "stdout",
     "output_type": "stream",
     "text": [
      "subgraph of: 5000 nodes\n"
     ]
    },
    {
     "data": {
      "text/plain": "      source  target   timestamp   day\n3268  213163  223789  1341100972     0\n1288     677  424732  1341106079     8\n4681    8425  150805  1341109596    14\n3476    2288  174754  1341111247    17\n3465  186184   70301  1341111839    18\n...      ...     ...         ...   ...\n1729     677  142154  1341701387  1000\n173       88  195150  1341701308  1000\n4131    9021   50244  1341701458  1000\n584    15483   97296  1341705530  1007\n4132    9021   80429  1341705452  1007\n\n[4999 rows x 4 columns]",
      "text/html": "<div>\n<style scoped>\n    .dataframe tbody tr th:only-of-type {\n        vertical-align: middle;\n    }\n\n    .dataframe tbody tr th {\n        vertical-align: top;\n    }\n\n    .dataframe thead th {\n        text-align: right;\n    }\n</style>\n<table border=\"1\" class=\"dataframe\">\n  <thead>\n    <tr style=\"text-align: right;\">\n      <th></th>\n      <th>source</th>\n      <th>target</th>\n      <th>timestamp</th>\n      <th>day</th>\n    </tr>\n  </thead>\n  <tbody>\n    <tr>\n      <th>3268</th>\n      <td>213163</td>\n      <td>223789</td>\n      <td>1341100972</td>\n      <td>0</td>\n    </tr>\n    <tr>\n      <th>1288</th>\n      <td>677</td>\n      <td>424732</td>\n      <td>1341106079</td>\n      <td>8</td>\n    </tr>\n    <tr>\n      <th>4681</th>\n      <td>8425</td>\n      <td>150805</td>\n      <td>1341109596</td>\n      <td>14</td>\n    </tr>\n    <tr>\n      <th>3476</th>\n      <td>2288</td>\n      <td>174754</td>\n      <td>1341111247</td>\n      <td>17</td>\n    </tr>\n    <tr>\n      <th>3465</th>\n      <td>186184</td>\n      <td>70301</td>\n      <td>1341111839</td>\n      <td>18</td>\n    </tr>\n    <tr>\n      <th>...</th>\n      <td>...</td>\n      <td>...</td>\n      <td>...</td>\n      <td>...</td>\n    </tr>\n    <tr>\n      <th>1729</th>\n      <td>677</td>\n      <td>142154</td>\n      <td>1341701387</td>\n      <td>1000</td>\n    </tr>\n    <tr>\n      <th>173</th>\n      <td>88</td>\n      <td>195150</td>\n      <td>1341701308</td>\n      <td>1000</td>\n    </tr>\n    <tr>\n      <th>4131</th>\n      <td>9021</td>\n      <td>50244</td>\n      <td>1341701458</td>\n      <td>1000</td>\n    </tr>\n    <tr>\n      <th>584</th>\n      <td>15483</td>\n      <td>97296</td>\n      <td>1341705530</td>\n      <td>1007</td>\n    </tr>\n    <tr>\n      <th>4132</th>\n      <td>9021</td>\n      <td>80429</td>\n      <td>1341705452</td>\n      <td>1007</td>\n    </tr>\n  </tbody>\n</table>\n<p>4999 rows × 4 columns</p>\n</div>"
     },
     "execution_count": 34,
     "metadata": {},
     "output_type": "execute_result"
    }
   ],
   "source": [
    "G_reply = nx.read_edgelist(friends_reply_path, data=((\"day\", int),))\n",
    "subgraph_reply = get_subgraph(G_reply, 5000)\n",
    "subgraph_reply_df = pd.DataFrame(subgraph_reply.edges(data=True), columns=['source', 'target', 'attribute'])\n",
    "# Extract the 'day' attribute from the 'attribute' column and add it as a separate column\n",
    "subgraph_reply_df['timestamp'] = [d['day'] for d in subgraph_reply_df['attribute']]\n",
    "min_t = min(subgraph_reply_df['timestamp'])\n",
    "\n",
    "# Hardcoded normalizing to ~1000 timesteps\n",
    "subgraph_reply_df['day'] = ((subgraph_reply_df['timestamp'] - min_t)/ 600).astype(int)\n",
    "# Drop the 'attribute' column, which is no longer needed\n",
    "subgraph_reply_df.drop('attribute', axis=1, inplace=True)\n",
    "\n",
    "# there are days above 7, so we need to remove them\n",
    "# subgraph_reply_df = subgraph_reply_df[subgraph_reply_df['day'] <= 7]\n",
    "#unique_days = subgraph_reply_df['day'].unique()\n",
    "#print(unique_days)\n",
    "\n",
    "subgraph_reply_df.sort_values('day')"
   ],
   "metadata": {
    "collapsed": false
   }
  },
  {
   "cell_type": "code",
   "execution_count": 35,
   "outputs": [
    {
     "name": "stdout",
     "output_type": "stream",
     "text": [
      "Iteration 100/100 : 1006/1007 --- \rration 2/100 : 10/1007 --- Iteration 2/100 : 180/1007 --- Iteration 2/100 : 343/1007 --- Iteration 2/100 : 588/1007 --- Iteration 2/100 : 840/1007 --- Iteration 2/100 : 966/1007 --- Iteration 3/100 : 150/1007 --- Iteration 3/100 : 291/1007 --- Iteration 3/100 : 568/1007 --- Iteration 3/100 : 669/1007 --- Iteration 4/100 : 1/1007 --- Iteration 4/100 : 347/1007 --- Iteration 4/100 : 453/1007 --- Iteration 4/100 : 796/1007 --- Iteration 5/100 : 109/1007 --- Iteration 5/100 : 505/1007 --- Iteration 5/100 : 869/1007 --- Iteration 6/100 : 174/1007 --- Iteration 6/100 : 592/1007 --- Iteration 6/100 : 970/1007 --- Iteration 7/100 : 389/1007 --- Iteration 7/100 : 750/1007 --- Iteration 8/100 : 226/1007 --- Iteration 8/100 : 571/1007 --- Iteration 9/100 : 0/1007 --- Iteration 9/100 : 396/1007 --- Iteration 9/100 : 828/1007 --- Iteration 10/100 : 126/1007 --- Iteration 10/100 : 533/1007 --- Iteration 10/100 : 868/1007 --- Iteration 11/100 : 236/1007 --- Iteration 11/100 : 606/1007 --- Iteration 12/100 : 0/1007 --- Iteration 12/100 : 406/1007 --- Iteration 12/100 : 783/1007 --- Iteration 13/100 : 69/1007 --- Iteration 13/100 : 480/1007 --- Iteration 13/100 : 929/1007 --- Iteration 14/100 : 244/1007 --- Iteration 14/100 : 689/1007 --- Iteration 15/100 : 0/1007 --- Iteration 15/100 : 329/1007 --- Iteration 15/100 : 634/1007 --- Iteration 15/100 : 982/1007 --- Iteration 16/100 : 302/1007 --- Iteration 16/100 : 632/1007 --- Iteration 17/100 : 0/1007 --- Iteration 17/100 : 362/1007 --- Iteration 17/100 : 736/1007 --- Iteration 18/100 : 122/1007 --- Iteration 18/100 : 527/1007 --- Iteration 18/100 : 910/1007 --- Iteration 19/100 : 242/1007 --- Iteration 19/100 : 621/1007 --- Iteration 20/100 : 11/1007 --- Iteration 20/100 : 355/1007 --- Iteration 20/100 : 725/1007 --- Iteration 21/100 : 28/1007 --- Iteration 21/100 : 437/1007 --- Iteration 21/100 : 783/1007 --- Iteration 22/100 : 172/1007 --- Iteration 22/100 : 562/1007 --- Iteration 22/100 : 899/1007 --- Iteration 23/100 : 215/1007 --- Iteration 23/100 : 525/1007 --- Iteration 23/100 : 942/1007 --- Iteration 24/100 : 239/1007 --- Iteration 24/100 : 714/1007 --- Iteration 25/100 : 62/1007 --- Iteration 25/100 : 471/1007 --- Iteration 25/100 : 846/1007 --- Iteration 26/100 : 145/1007 --- Iteration 26/100 : 550/1007 --- Iteration 26/100 : 895/1007 --- Iteration 27/100 : 238/1007 --- Iteration 27/100 : 670/1007 --- Iteration 28/100 : 3/1007 --- Iteration 28/100 : 402/1007 --- Iteration 28/100 : 718/1007 --- Iteration 29/100 : 58/1007 --- Iteration 29/100 : 471/1007 --- Iteration 29/100 : 815/1007 --- Iteration 30/100 : 410/1007 --- Iteration 30/100 : 773/1007 --- Iteration 31/100 : 51/1007 --- Iteration 31/100 : 427/1007 --- Iteration 31/100 : 830/1007 --- Iteration 32/100 : 174/1007 --- Iteration 32/100 : 564/1007 --- Iteration 32/100 : 911/1007 --- Iteration 33/100 : 326/1007 --- Iteration 33/100 : 682/1007 --- Iteration 34/100 : 62/1007 --- Iteration 34/100 : 440/1007 --- Iteration 34/100 : 831/1007 --- Iteration 35/100 : 47/1007 --- Iteration 35/100 : 487/1007 --- Iteration 35/100 : 928/1007 --- Iteration 36/100 : 220/1007 --- Iteration 36/100 : 625/1007 --- Iteration 37/100 : 0/1007 --- Iteration 37/100 : 411/1007 --- Iteration 37/100 : 985/1007 --- Iteration 38/100 : 283/1007 --- Iteration 38/100 : 655/1007 --- Iteration 38/100 : 956/1007 --- Iteration 39/100 : 266/1007 --- Iteration 39/100 : 699/1007 --- Iteration 40/100 : 12/1007 --- Iteration 40/100 : 411/1007 --- Iteration 40/100 : 783/1007 --- Iteration 41/100 : 150/1007 --- Iteration 41/100 : 529/1007 --- Iteration 42/100 : 0/1007 --- Iteration 42/100 : 409/1007 --- Iteration 42/100 : 797/1007 --- Iteration 43/100 : 104/1007 --- Iteration 43/100 : 536/1007 --- Iteration 43/100 : 890/1007 --- Iteration 44/100 : 507/1007 --- Iteration 44/100 : 848/1007 --- Iteration 45/100 : 166/1007 --- Iteration 45/100 : 534/1007 --- Iteration 45/100 : 1003/1007 --- Iteration 46/100 : 278/1007 --- Iteration 46/100 : 705/1007 --- Iteration 47/100 : 0/1007 --- Iteration 47/100 : 407/1007 --- Iteration 47/100 : 753/1007 --- Iteration 48/100 : 92/1007 --- Iteration 48/100 : 556/1007 --- Iteration 48/100 : 864/1007 --- Iteration 49/100 : 214/1007 --- Iteration 49/100 : 596/1007 --- Iteration 49/100 : 978/1007 --- Iteration 50/100 : 284/1007 --- Iteration 50/100 : 730/1007 --- Iteration 51/100 : 46/1007 --- Iteration 51/100 : 461/1007 --- Iteration 51/100 : 826/1007 --- Iteration 52/100 : 154/1007 --- Iteration 52/100 : 570/1007 --- Iteration 52/100 : 931/1007 --- Iteration 53/100 : 253/1007 --- Iteration 53/100 : 694/1007 --- Iteration 53/100 : 991/1007 --- Iteration 54/100 : 413/1007 --- Iteration 54/100 : 750/1007 --- Iteration 55/100 : 97/1007 --- Iteration 55/100 : 523/1007 --- Iteration 55/100 : 953/1007 --- Iteration 56/100 : 239/1007 --- Iteration 56/100 : 690/1007 --- Iteration 56/100 : 942/1007 --- Iteration 57/100 : 409/1007 --- Iteration 57/100 : 793/1007 --- Iteration 58/100 : 36/1007 --- Iteration 58/100 : 443/1007 --- Iteration 58/100 : 796/1007 --- Iteration 59/100 : 214/1007 --- Iteration 59/100 : 690/1007 --- Iteration 60/100 : 12/1007 --- Iteration 60/100 : 465/1007 --- Iteration 60/100 : 846/1007 --- Iteration 61/100 : 172/1007 --- Iteration 61/100 : 569/1007 --- Iteration 61/100 : 837/1007 --- Iteration 62/100 : 223/1007 --- Iteration 62/100 : 602/1007 --- Iteration 62/100 : 981/1007 --- Iteration 63/100 : 320/1007 --- Iteration 63/100 : 742/1007 --- Iteration 64/100 : 69/1007 --- Iteration 64/100 : 471/1007 --- Iteration 64/100 : 874/1007 --- Iteration 65/100 : 165/1007 --- Iteration 65/100 : 579/1007 --- Iteration 65/100 : 923/1007 --- Iteration 66/100 : 178/1007 --- Iteration 66/100 : 799/1007 --- Iteration 67/100 : 120/1007 --- Iteration 67/100 : 424/1007 --- Iteration 67/100 : 836/1007 --- Iteration 68/100 : 114/1007 --- Iteration 68/100 : 489/1007 --- Iteration 68/100 : 824/1007 --- Iteration 69/100 : 188/1007 --- Iteration 69/100 : 588/1007 --- Iteration 69/100 : 973/1007 --- Iteration 70/100 : 233/1007 --- Iteration 70/100 : 657/1007 --- Iteration 70/100 : 989/1007 --- Iteration 71/100 : 420/1007 --- Iteration 71/100 : 789/1007 --- Iteration 72/100 : 165/1007 --- Iteration 72/100 : 546/1007 --- Iteration 72/100 : 887/1007 --- Iteration 73/100 : 187/1007 --- Iteration 73/100 : 609/1007 --- Iteration 73/100 : 954/1007 --- Iteration 74/100 : 309/1007 --- Iteration 74/100 : 704/1007 --- Iteration 74/100 : 936/1007 --- Iteration 75/100 : 383/1007 --- Iteration 75/100 : 795/1007 --- Iteration 76/100 : 111/1007 --- Iteration 76/100 : 538/1007 --- Iteration 76/100 : 915/1007 --- Iteration 77/100 : 242/1007 --- Iteration 77/100 : 575/1007 --- Iteration 77/100 : 951/1007 --- Iteration 78/100 : 268/1007 --- Iteration 78/100 : 695/1007 --- Iteration 79/100 : 13/1007 --- Iteration 79/100 : 419/1007 --- Iteration 79/100 : 773/1007 --- Iteration 80/100 : 192/1007 --- Iteration 80/100 : 541/1007 --- Iteration 80/100 : 971/1007 --- Iteration 81/100 : 294/1007 --- Iteration 81/100 : 715/1007 --- Iteration 82/100 : 8/1007 --- Iteration 82/100 : 374/1007 --- Iteration 82/100 : 695/1007 --- Iteration 83/100 : 35/1007 --- Iteration 83/100 : 454/1007 --- Iteration 83/100 : 844/1007 --- Iteration 84/100 : 142/1007 --- Iteration 84/100 : 585/1007 --- Iteration 84/100 : 939/1007 --- Iteration 85/100 : 200/1007 --- Iteration 85/100 : 614/1007 --- Iteration 85/100 : 931/1007 --- Iteration 86/100 : 308/1007 --- Iteration 86/100 : 720/1007 --- Iteration 87/100 : 46/1007 --- Iteration 87/100 : 476/1007 --- Iteration 87/100 : 856/1007 --- Iteration 88/100 : 166/1007 --- Iteration 88/100 : 587/1007 --- Iteration 88/100 : 948/1007 --- Iteration 89/100 : 320/1007 --- Iteration 89/100 : 662/1007 --- Iteration 90/100 : 9/1007 --- Iteration 90/100 : 396/1007 --- Iteration 90/100 : 721/1007 --- Iteration 91/100 : 152/1007 --- Iteration 91/100 : 564/1007 --- Iteration 91/100 : 871/1007 --- Iteration 92/100 : 424/1007 --- Iteration 92/100 : 699/1007 --- Iteration 93/100 : 0/1007 --- Iteration 93/100 : 353/1007 --- Iteration 93/100 : 705/1007 --- Iteration 94/100 : 3/1007 --- Iteration 94/100 : 377/1007 --- Iteration 94/100 : 765/1007 --- Iteration 95/100 : 64/1007 --- Iteration 95/100 : 442/1007 --- Iteration 95/100 : 873/1007 --- Iteration 96/100 : 31/1007 --- Iteration 96/100 : 423/1007 --- Iteration 96/100 : 825/1007 --- Iteration 97/100 : 110/1007 --- Iteration 97/100 : 480/1007 --- Iteration 97/100 : 934/1007 --- Iteration 98/100 : 239/1007 --- Iteration 98/100 : 683/1007 --- Iteration 99/100 : 2/1007 --- Iteration 99/100 : 404/1007 --- Iteration 99/100 : 799/1007 --- Iteration 100/100 : 115/1007 --- Iteration 100/100 : 505/1007 --- Iteration 100/100 : 862/1007 --- "
     ]
    },
    {
     "data": {
      "text/plain": "<Figure size 640x480 with 1 Axes>",
      "image/png": "[encoded data removed]"
     },
     "metadata": {},
     "output_type": "display_data"
    }
   ],
   "source": [
    "#  First implementation of temporal spreading\n",
    "# From the plot I am not sure if this is correct, the number of infected nodes is pretty low,\n",
    "# but that could be because the huge majority of interactions happen at time 1, and i am considering a node as spreader from the next day is infected\n",
    "# if we remove this condition I expect the number of infected nodes to be almost the same as the number of nodes in the subgraph at day 1\n",
    "\n",
    "subgraph_reply_df = subgraph_reply_df.sort_values(by=['day'])\n",
    "subgraph_reply_df.reset_index(drop=True, inplace=True)\n",
    "\n",
    "iterations = 100\n",
    "infected_nodes_time_dict = {0:[1 for _ in range(iterations)]}\n",
    "seed_nodes = []\n",
    "\n",
    "min_day = min(subgraph_reply_df['day'])\n",
    "max_day = max(subgraph_reply_df['day'])\n",
    "number_of_nodes = len(subgraph_reply.nodes())\n",
    "for n in range(iterations):\n",
    "    seed_node = random.choice(list(subgraph_reply.nodes()))\n",
    "    seed_nodes.append(seed_node)\n",
    "    infected_nodes = {seed_node}\n",
    "\n",
    "    cur_timestamp = min_day\n",
    "    nodes_infected_in_timestamp = set()\n",
    "\n",
    "    # Iterate over all days\n",
    "    for day in range(min_day, max_day):\n",
    "        print(f'Iteration {n+1}/{iterations} : {day}/{max_day} --- ', end='\\r')\n",
    "        # For each day get the edges that were created on that day\n",
    "        edges = subgraph_reply_df[subgraph_reply_df['day'] == day]\n",
    "        # Take the dataframe subset where either the source or the target is in the infected nodes\n",
    "        susceptible_nodes_rows = edges[edges['source'].isin(infected_nodes) | edges['target'].isin(infected_nodes)]\n",
    "        # Make a set of all the nodes that are in susceptible_nodes_rows\n",
    "        susceptible_nodes = set(susceptible_nodes_rows['source']).union(set(susceptible_nodes_rows['target']))\n",
    "        # Add the susceptible nodes to the infected nodes\n",
    "        infected_nodes = infected_nodes.union(susceptible_nodes)\n",
    "        # Add the infected nodes to the infected_nodes_time_dict\n",
    "        if day in infected_nodes_time_dict:\n",
    "            infected_nodes_time_dict[day].append(len(infected_nodes))\n",
    "        else:\n",
    "            infected_nodes_time_dict[day] = [len(infected_nodes)]\n",
    "\n",
    "    # Take the average of the infected nodes for each timestamp\n",
    "    infected_nodes_time_dict = {k: [np.sum(v)/(len(v)*number_of_nodes)] for k, v in infected_nodes_time_dict.items()}\n",
    "    plt.clf()\n",
    "    plt.plot(list(infected_nodes_time_dict.keys()), list(infected_nodes_time_dict.values()))"
   ],
   "metadata": {
    "collapsed": false
   }
  },
  {
   "cell_type": "code",
   "execution_count": 35,
   "outputs": [],
   "source": [],
   "metadata": {
    "collapsed": false
   }
  }
 ],
 "metadata": {
  "kernelspec": {
   "display_name": "Python 3",
   "language": "python",
   "name": "python3"
  },
  "language_info": {
   "codemirror_mode": {
    "name": "ipython",
    "version": 2
   },
   "file_extension": ".py",
   "mimetype": "text/x-python",
   "name": "python",
   "nbconvert_exporter": "python",
   "pygments_lexer": "ipython2",
   "version": "2.7.6"
  }
 },
 "nbformat": 4,
 "nbformat_minor": 0
}
