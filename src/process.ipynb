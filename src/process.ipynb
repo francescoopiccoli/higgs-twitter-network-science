{
 "cells": [
  {
   "cell_type": "code",
   "execution_count": 144,
   "outputs": [],
   "source": [
    "import networkx as nx\n",
    "import pandas as pd\n",
    "import numpy as np\n",
    "import matplotlib.pyplot as plt\n",
    "import random"
   ],
   "metadata": {
    "collapsed": false
   }
  },
  {
   "cell_type": "markdown",
   "source": [
    "### Helper functions that are used in the rest of the notebook"
   ],
   "metadata": {
    "collapsed": false
   }
  },
  {
   "cell_type": "code",
   "execution_count": 183,
   "outputs": [],
   "source": [
    "def extract_nodes(df):\n",
    "    \"\"\"\n",
    "    Extracts the nodes from a dataframe\n",
    "    :param df: dataframe with source and target columns\n",
    "    :return: set of nodes\n",
    "    \"\"\"\n",
    "    return set(df['source'].unique()).union(set(df['target'].unique()))\n",
    "\n",
    "def load_nodes(file_path):\n",
    "    \"\"\"\n",
    "    Loads the nodes from a file\n",
    "    :param file_path: path to the file\n",
    "    :return: set of nodes\n",
    "    \"\"\"\n",
    "    # much faster to do the operations on dataframes\n",
    "    df = pd.read_csv(file_path, delimiter = ' ', names=['source', 'target', 'day'])\n",
    "    nodes = extract_nodes(df)\n",
    "    print(f\"loaded {file_path} has {len(nodes)} nodes\")\n",
    "    return nodes\n",
    "\n",
    "def largest_connected_component(G):\n",
    "    \"\"\"\n",
    "    Returns the largest connected component of a graph\n",
    "    :param G: graph\n",
    "    :return: largest connected component\n",
    "    \"\"\"\n",
    "    # not supported for directed networks\n",
    "    subgraphs = sorted(nx.connected_components(G), key=len, reverse=True)\n",
    "    return G.subgraph(subgraphs[0])\n",
    "\n",
    "def build_network(df, directed = False):\n",
    "    \"\"\"\n",
    "    Builds a network from a dataframe\n",
    "    :param df: dataframe with source and target columns\n",
    "    :param directed: whether the network is directed or not\n",
    "    :return: networkx graph\n",
    "    \"\"\"\n",
    "    if directed:\n",
    "        G = nx.DiGraph()\n",
    "    else:\n",
    "        G = nx.Graph()\n",
    "\n",
    "    # Check if exists a day column\n",
    "    if \"day\" in df.columns:\n",
    "        to_add = [(source, target, {\"day\": day}) for source, target, day in zip(df[\"source\"], df[\"target\"], df[\"day\"])]\n",
    "    else:\n",
    "        to_add = zip(df[\"source\"], df[\"target\"])\n",
    "    G.add_edges_from(to_add)\n",
    "    return G\n",
    "\n",
    "def extract_bidirectional_subnetwork(G):\n",
    "    \"\"\"\n",
    "    creates an undirected sub network from a directed network\n",
    "\n",
    "    that only contains the edges where both\n",
    "\n",
    "    u -> v and v -> u\n",
    "\n",
    "    are in the directed network. In the followers/following sense,\n",
    "\n",
    "    This extracts the sub network where the users follow eachother.\n",
    "\n",
    "    \"\"\"\n",
    "    sub_G = nx.Graph()\n",
    "\n",
    "    for e in G.edges:\n",
    "        if len(e) == 2:\n",
    "            u, v = e\n",
    "        else:\n",
    "            u, v, _ = e\n",
    "        if G.has_edge(v, u):\n",
    "            sub_G.add_edge(u,v)\n",
    "\n",
    "    return sub_G\n",
    "\n",
    "def load_subnetwork(file_path, sub_nodes, directed = False):\n",
    "    \"\"\"\n",
    "    Loads a network from a file and extracts a subnetwork by only keeping the nodes in sub_nodes\n",
    "    :param file_path: path to the file with the network\n",
    "    :param sub_nodes: set of nodes to keep\n",
    "    :param directed: whether the network is directed or not\n",
    "    :return: networkx graph\n",
    "    \"\"\"\n",
    "\n",
    "    df = pd.read_csv(file_path, delimiter = ' ', names=['source', 'target', 'day'])\n",
    "    if df['day'].isna().all():\n",
    "        df.drop(columns=['day'], inplace=True)\n",
    "    sub_df = df[((df['source'].isin(sub_nodes)) & (df['target'].isin(sub_nodes)))]\n",
    "\n",
    "    return build_network(sub_df, directed)\n",
    "\n",
    "def get_friendships(G):\n",
    "    \"\"\"\n",
    "    Extracts the friendships from a social network defined as the subnetwork where both u -> v and v -> u are in the network\n",
    "    :param G: social network\n",
    "    :return: friendships network\n",
    "    \"\"\"\n",
    "\n",
    "    G = extract_bidirectional_subnetwork(G)\n",
    "\n",
    "    return G.to_undirected()\n",
    "\n",
    "def get_lcc(G, directed = False):\n",
    "    \"\"\"\n",
    "    Returns the largest connected component of a graph\n",
    "    :param G: graph\n",
    "    :param directed: whether the graph is directed or not\n",
    "    :return: largest connected component\n",
    "    \"\"\"\n",
    "    lcc = largest_connected_component(G.to_undirected())\n",
    "\n",
    "    if directed:\n",
    "        return lcc.to_directed()\n",
    "    else:\n",
    "        return lcc.to_undirected()\n",
    "\n",
    "def get_subgraph(G, k=None, is_seed_node_most_connected=True, seed = None):\n",
    "    \"\"\"\n",
    "    Returns a subgraph of G with k nodes generated by BFS from a seed node\n",
    "    :param G: graph\n",
    "    :param k: number of nodes in the subgraph\n",
    "    :param is_seed_node_most_connected: whether the seed node is the most connected node or a random node\n",
    "    :param seed: seed node, random if None\n",
    "    :return: subgraph\n",
    "    \"\"\"\n",
    "    if k is None:\n",
    "        k = G.number_of_nodes() // 5\n",
    "    print('subgraph of: ' + str(k) + ' nodes')\n",
    "\n",
    "    if seed:\n",
    "        seed_node = seed\n",
    "    elif is_seed_node_most_connected:\n",
    "        seed_node = max(G.degree(), key=lambda x: x[1])[0]\n",
    "    else:\n",
    "        # Choosing a random node does not guarantee getting a subgraph of the desired size\n",
    "        seed_node = random.choice(list(G.nodes()))\n",
    "    # Initialize a queue for BFS and a set for visited nodes\n",
    "    queue = [seed_node]\n",
    "    visited = set([seed_node])\n",
    "    # Initialize the subgraph with the starting node\n",
    "    subgraph = nx.Graph()\n",
    "    subgraph.add_node(seed_node)\n",
    "    # While the subgraph has fewer than n nodes and the queue is not empty\n",
    "    while len(subgraph) < k and queue:\n",
    "        # Get the next node from the queue\n",
    "        curr_node = queue.pop(0)\n",
    "        # Add its neighbors that have not been visited to the queue and the subgraph\n",
    "        for neighbor in G.neighbors(curr_node):\n",
    "            if neighbor not in visited:\n",
    "                if len(subgraph) >= k:\n",
    "                    break\n",
    "                visited.add(neighbor)\n",
    "                subgraph.add_node(neighbor)\n",
    "                subgraph.add_edge(curr_node, neighbor, day=G[curr_node][neighbor][\"day\"])\n",
    "                queue.append(neighbor)\n",
    "    return subgraph\n"
   ],
   "metadata": {
    "collapsed": false
   }
  },
  {
   "cell_type": "markdown",
   "source": [
    "### Create the dataset of replies, mentions and retweets with real timestamps (not just days)"
   ],
   "metadata": {
    "collapsed": false
   }
  },
  {
   "cell_type": "code",
   "execution_count": 185,
   "outputs": [],
   "source": [
    "activity_time_path = \"../network-data/higgs-activity_time.txt\"\n",
    "activity_time = pd.read_csv(activity_time_path, delimiter = ' ', names=['source', 'target', 'time', 'type'])"
   ],
   "metadata": {
    "collapsed": false
   }
  },
  {
   "cell_type": "raw",
   "source": [],
   "metadata": {
    "collapsed": false
   }
  },
  {
   "cell_type": "code",
   "execution_count": 247,
   "outputs": [],
   "source": [
    "# create high resolution timestamped datasets\n",
    "reply_timestamps_file_path = \"../output/reply_timestamps.edgelist\"\n",
    "mention_timestamps_file_path = \"../output/mention_timestamps.edgelist\"\n",
    "retweet_timestamps_file_path = \"../output/retweet_timestamps.edgelist\"\n",
    "\n",
    "activity_time[activity_time['type'] == 'RE'][['source', 'target', 'time']]\\\n",
    ".to_csv(reply_timestamps_file_path, sep=' ', header=False, index=False)\n",
    "replies = activity_time[activity_time['type'] == 'RE'].copy()\n",
    "# replies[['source', 'target']] = replies[['target', 'source']]\n",
    "replies[['source', 'target', 'time']].to_csv(reply_timestamps_file_path, sep=' ', header=False, index=False)\n",
    "# activity_time[activity_time['type'] == 'MT'][['source', 'target', 'time']]\\\n",
    "# .to_csv(mention_timestamps_file_path, sep=' ', header=False, index=False)\n",
    "mentions = activity_time[activity_time['type'] == 'MT'].copy()\n",
    "#mentions[['source', 'target']] = mentions[['target', 'source']]\n",
    "mentions[['source', 'target', 'time']].to_csv(retweet_timestamps_file_path, sep=' ', header=False, index=False)\n",
    "# Swap source and target columns in the retweet dataset to effectively simulate the dataflow (as mentioned on the website)\n",
    "retweets = activity_time[activity_time['type'] == 'RT'].copy()\n",
    "retweets[['source', 'target']] = retweets[['target', 'source']]\n",
    "retweets[['source', 'target', 'time']].to_csv(retweet_timestamps_file_path, sep=' ', header=False, index=False)"
   ],
   "metadata": {
    "collapsed": false
   }
  },
  {
   "cell_type": "code",
   "execution_count": 248,
   "outputs": [],
   "source": [
    "social_file_path = \"../network-data/higgs-social_network.edgelist\""
   ],
   "metadata": {
    "collapsed": false
   }
  },
  {
   "cell_type": "markdown",
   "source": [
    "### Create the intersection of nodes across all interaction mechanisms."
   ],
   "metadata": {
    "collapsed": false
   }
  },
  {
   "cell_type": "code",
   "execution_count": 249,
   "outputs": [
    {
     "name": "stdout",
     "output_type": "stream",
     "text": [
      "loaded ../output/reply_timestamps.edgelist has 38918 nodes\n",
      "loaded ../output/mention_timestamps.edgelist has 116408 nodes\n",
      "loaded ../output/retweet_timestamps.edgelist has 256491 nodes\n",
      "intersected network has 21346 nodes\n"
     ]
    }
   ],
   "source": [
    "\n",
    "reply_nodes = load_nodes(reply_timestamps_file_path)\n",
    "mention_nodes = load_nodes(mention_timestamps_file_path)\n",
    "reply_mention_nodes = reply_nodes.intersection(mention_nodes)\n",
    "del reply_nodes, mention_nodes\n",
    "\n",
    "\n",
    "retweet_nodes = load_nodes(retweet_timestamps_file_path)\n",
    "reply_mention_retweet_nodes = reply_mention_nodes.intersection(retweet_nodes)\n",
    "del reply_mention_nodes, retweet_nodes\n",
    "\n",
    "print(f\"intersected network has {len(reply_mention_retweet_nodes)} nodes\")"
   ],
   "metadata": {
    "collapsed": false
   }
  },
  {
   "cell_type": "markdown",
   "source": [
    "### Create the social network and the friendship network"
   ],
   "metadata": {
    "collapsed": false
   }
  },
  {
   "cell_type": "code",
   "execution_count": 250,
   "outputs": [
    {
     "name": "stdout",
     "output_type": "stream",
     "text": [
      "Graph with 17186 nodes and 84592 edges\n",
      "DiGraph with 21193 nodes and 569025 edges\n",
      "Graph with 21114 nodes and 484392 edges\n"
     ]
    }
   ],
   "source": [
    "# following/followers is a directed network\n",
    "social_network = load_subnetwork(social_file_path, reply_mention_retweet_nodes, directed=True)\n",
    "# Print information about the directionality of the network\n",
    "lcc_social_network = get_lcc(social_network)\n",
    "friends_network = get_friendships(social_network)\n",
    "print(friends_network)\n",
    "print(social_network)\n",
    "print(lcc_social_network)\n",
    "del social_network\n",
    "lcc_friends_network = get_lcc(friends_network)\n",
    "del friends_network\n",
    "\n",
    "nx.write_edgelist(lcc_friends_network, '../output/higgs-friends-lcc.edgelist')\n",
    "nx.write_edgelist(lcc_social_network, '../output/higgs-social-lcc.edgelist')"
   ],
   "metadata": {
    "collapsed": false
   }
  },
  {
   "cell_type": "markdown",
   "source": [
    "### Create the subnetworks for replies, mentions and retweets bby only keeping the nodes that are present in the social network or the friendship network."
   ],
   "metadata": {
    "collapsed": false
   }
  },
  {
   "cell_type": "code",
   "execution_count": 251,
   "outputs": [
    {
     "name": "stdout",
     "output_type": "stream",
     "text": [
      "DiGraph with 16937 nodes and 14687 edges\n",
      "DiGraph with 18222 nodes and 32143 edges\n",
      "DiGraph with 17094 nodes and 30906 edges\n",
      "DiGraph with 11949 nodes and 10558 edges\n",
      "DiGraph with 13173 nodes and 24736 edges\n",
      "DiGraph with 12043 nodes and 23041 edges\n"
     ]
    }
   ],
   "source": [
    "social_reply_network = load_subnetwork(reply_timestamps_file_path, lcc_social_network.nodes, directed=True)\n",
    "social_mention_network = load_subnetwork(mention_timestamps_file_path, lcc_social_network.nodes, directed=True)\n",
    "social_retweet_network = load_subnetwork(retweet_timestamps_file_path, lcc_social_network.nodes, directed=True)\n",
    "print(social_reply_network)\n",
    "print(social_mention_network)\n",
    "print(social_retweet_network)\n",
    "friends_reply_network = load_subnetwork(reply_timestamps_file_path, lcc_friends_network.nodes, directed=True)\n",
    "friends_mention_network = load_subnetwork(mention_timestamps_file_path, lcc_friends_network.nodes, directed=True)\n",
    "friends_retweet_network = load_subnetwork(retweet_timestamps_file_path, lcc_friends_network.nodes, directed=True)\n",
    "print(friends_reply_network)\n",
    "print(friends_mention_network)\n",
    "print(friends_retweet_network)\n",
    "paths = ['../output/higgs-social-reply.edgelist', '../output/higgs-social-mention.edgelist', '../output/higgs-social-retweet.edgelist', '../output/higgs-friends-reply.edgelist', '../output/higgs-friends-mention.edgelist', '../output/higgs-friends-retweet.edgelist']\n",
    "networks = [social_reply_network, social_mention_network, social_retweet_network, friends_reply_network, friends_mention_network, friends_retweet_network]\n",
    "\n",
    "\n",
    "for path, network in zip(paths, networks):\n",
    "    nx.write_edgelist(network, path)\n",
    "    with open(path, 'r') as f:\n",
    "        data = f.readlines()\n",
    "\n",
    "    # Remove the \"day\" key from each line of data\n",
    "    data = [line.strip().replace(\"{'day': \", \"\").replace(\"}\", \"\") for line in data]\n",
    "\n",
    "    # Convert the data into a list of tuples with integer values\n",
    "    data = [tuple(map(int, line.split())) for line in data]\n",
    "\n",
    "    # Write the modified data to a new file\n",
    "    with open(path, 'w') as f:\n",
    "        for line in data:\n",
    "            f.write(f\"{line[0]} {line[1]} {line[2]}\\n\")\n",
    "\n"
   ],
   "metadata": {
    "collapsed": false
   }
  },
  {
   "cell_type": "code",
   "execution_count": 252,
   "outputs": [],
   "source": [
    "friends_file_path = \"../output/higgs-friends-lcc.edgelist\"\n",
    "friends_reply_path = \"../output/higgs-friends-reply.edgelist\"\n",
    "friends_mention_path = \"../output/higgs-friends-mention.edgelist\"\n",
    "friends_retweet_path = \"../output/higgs-friends-retweet.edgelist\""
   ],
   "metadata": {
    "collapsed": false
   }
  },
  {
   "cell_type": "markdown",
   "source": [
    "### Temporal analysis of the reply network (Can be skipped now that we have a better way to do it presented in the next section)"
   ],
   "metadata": {
    "collapsed": false
   }
  },
  {
   "cell_type": "code",
   "execution_count": 253,
   "outputs": [
    {
     "name": "stdout",
     "output_type": "stream",
     "text": [
      "subgraph of: 5000 nodes\n",
      "1\n"
     ]
    },
    {
     "ename": "ValueError",
     "evalue": "min() arg is an empty sequence",
     "output_type": "error",
     "traceback": [
      "\u001B[1;31m---------------------------------------------------------------------------\u001B[0m",
      "\u001B[1;31mValueError\u001B[0m                                Traceback (most recent call last)",
      "Cell \u001B[1;32mIn[253], line 7\u001B[0m\n\u001B[0;32m      5\u001B[0m \u001B[38;5;66;03m# Extract the 'day' attribute from the 'attribute' column and add it as a separate column\u001B[39;00m\n\u001B[0;32m      6\u001B[0m subgraph_reply_df[\u001B[38;5;124m'\u001B[39m\u001B[38;5;124mtimestamp\u001B[39m\u001B[38;5;124m'\u001B[39m] \u001B[38;5;241m=\u001B[39m [d[\u001B[38;5;124m'\u001B[39m\u001B[38;5;124mday\u001B[39m\u001B[38;5;124m'\u001B[39m] \u001B[38;5;28;01mfor\u001B[39;00m d \u001B[38;5;129;01min\u001B[39;00m subgraph_reply_df[\u001B[38;5;124m'\u001B[39m\u001B[38;5;124mattribute\u001B[39m\u001B[38;5;124m'\u001B[39m]]\n\u001B[1;32m----> 7\u001B[0m min_t \u001B[38;5;241m=\u001B[39m \u001B[38;5;28;43mmin\u001B[39;49m\u001B[43m(\u001B[49m\u001B[43msubgraph_reply_df\u001B[49m\u001B[43m[\u001B[49m\u001B[38;5;124;43m'\u001B[39;49m\u001B[38;5;124;43mtimestamp\u001B[39;49m\u001B[38;5;124;43m'\u001B[39;49m\u001B[43m]\u001B[49m\u001B[43m)\u001B[49m\n\u001B[0;32m      9\u001B[0m \u001B[38;5;66;03m# Hardcoded normalizing to ~1000 timesteps\u001B[39;00m\n\u001B[0;32m     10\u001B[0m subgraph_reply_df[\u001B[38;5;124m'\u001B[39m\u001B[38;5;124mday\u001B[39m\u001B[38;5;124m'\u001B[39m] \u001B[38;5;241m=\u001B[39m ((subgraph_reply_df[\u001B[38;5;124m'\u001B[39m\u001B[38;5;124mtimestamp\u001B[39m\u001B[38;5;124m'\u001B[39m] \u001B[38;5;241m-\u001B[39m min_t)\u001B[38;5;241m/\u001B[39m \u001B[38;5;241m600\u001B[39m)\u001B[38;5;241m.\u001B[39mastype(\u001B[38;5;28mint\u001B[39m)\n",
      "\u001B[1;31mValueError\u001B[0m: min() arg is an empty sequence"
     ]
    }
   ],
   "source": [
    "G_reply = nx.read_edgelist(friends_reply_path, data=((\"day\", int),), create_using=nx.DiGraph)\n",
    "subgraph_reply = get_subgraph(G_reply, 5000, is_seed_node_most_connected=True)\n",
    "print(subgraph_reply.number_of_nodes())\n",
    "subgraph_reply_df = pd.DataFrame(subgraph_reply.edges(data=True), columns=['source', 'target', 'attribute'])\n",
    "# Extract the 'day' attribute from the 'attribute' column and add it as a separate column\n",
    "subgraph_reply_df['timestamp'] = [d['day'] for d in subgraph_reply_df['attribute']]\n",
    "min_t = min(subgraph_reply_df['timestamp'])\n",
    "\n",
    "# Hardcoded normalizing to ~1000 timesteps\n",
    "subgraph_reply_df['day'] = ((subgraph_reply_df['timestamp'] - min_t)/ 600).astype(int)\n",
    "# subgraph_reply_df['day'] = ((subgraph_reply_df['timestamp'] - min_t)).astype(int)\n",
    "# Drop the 'attribute' column, which is no longer needed\n",
    "subgraph_reply_df.drop('attribute', axis=1, inplace=True)\n",
    "\n",
    "# there are days above 7, so we need to remove them\n",
    "# subgraph_reply_df = subgraph_reply_df[subgraph_reply_df['day'] <= 7]\n",
    "#unique_days = subgraph_reply_df['day'].unique()\n",
    "#print(unique_days)\n",
    "\n",
    "subgraph_reply_df.sort_values('day')\n",
    "# nx.draw(subgraph_reply)"
   ],
   "metadata": {
    "collapsed": false
   }
  },
  {
   "cell_type": "code",
   "execution_count": null,
   "outputs": [],
   "source": [
    "#  First implementation of temporal spreading\n",
    "# From the plot I am not sure if this is correct, the number of infected nodes is pretty low,\n",
    "# but that could be because the huge majority of interactions happen at time 1, and i am considering a node as spreader from the next day is infected\n",
    "# if we remove this condition I expect the number of infected nodes to be almost the same as the number of nodes in the subgraph at day 1\n",
    "\n",
    "subgraph_reply_df = subgraph_reply_df.sort_values(by=['day'])\n",
    "subgraph_reply_df.reset_index(drop=True, inplace=True)\n",
    "\n",
    "iterations = 1\n",
    "infected_nodes_time_dict = {0:[1 for _ in range(iterations)]}\n",
    "seed_nodes = []\n",
    "\n",
    "min_day = min(subgraph_reply_df['day'])\n",
    "max_day = max(subgraph_reply_df['day'])\n",
    "number_of_nodes = len(subgraph_reply.nodes())\n",
    "for n in range(iterations):\n",
    "    seed_node = random.choice(list(subgraph_reply.nodes()))\n",
    "    seed_nodes.append(seed_node)\n",
    "    infected_nodes = {seed_node}\n",
    "\n",
    "    cur_timestamp = min_day\n",
    "    nodes_infected_in_timestamp = set()\n",
    "\n",
    "    # Iterate over all days\n",
    "    for day in subgraph_reply_df['day']:\n",
    "        print(f'Iteration {n+1}/{iterations} : {day}/{max_day} --- ', end='\\r')\n",
    "        # For each day get the edges that were created on that day\n",
    "        edges = subgraph_reply_df[subgraph_reply_df['day'] == day]\n",
    "        # Take the dataframe subset where either the source or the target is in the infected nodes\n",
    "        susceptible_nodes_rows = edges[edges['source'].isin(infected_nodes) | edges['target'].isin(infected_nodes)]\n",
    "        # Make a set of all the nodes that are in susceptible_nodes_rows\n",
    "        susceptible_nodes = set(susceptible_nodes_rows['source']).union(set(susceptible_nodes_rows['target']))\n",
    "        # Add the susceptible nodes to the infected nodes\n",
    "        infected_nodes = infected_nodes.union(susceptible_nodes)\n",
    "        # Add the infected nodes to the infected_nodes_time_dict\n",
    "        if day in infected_nodes_time_dict:\n",
    "            infected_nodes_time_dict[day].append(len(infected_nodes))\n",
    "        else:\n",
    "            infected_nodes_time_dict[day] = [len(infected_nodes)]\n",
    "\n",
    "    # Take the average of the infected nodes for each timestamp\n",
    "    infected_nodes_time_dict = {k: [np.sum(v)/(len(v)*number_of_nodes)] for k, v in infected_nodes_time_dict.items()}\n",
    "    plt.clf()\n",
    "    plt.plot(list(infected_nodes_time_dict.keys()), list(infected_nodes_time_dict.values()))"
   ],
   "metadata": {
    "collapsed": false
   }
  },
  {
   "cell_type": "code",
   "execution_count": null,
   "outputs": [],
   "source": [],
   "metadata": {
    "collapsed": false
   }
  },
  {
   "cell_type": "markdown",
   "source": [
    "### Try to find correlations between different networks"
   ],
   "metadata": {
    "collapsed": false
   }
  },
  {
   "cell_type": "code",
   "execution_count": null,
   "outputs": [],
   "source": [
    "G_mention = nx.read_edgelist(friends_mention_path, data=((\"day\", int),), create_using=nx.DiGraph)\n",
    "G_retweet = nx.read_edgelist(friends_retweet_path, data=((\"day\", int),), create_using=nx.DiGraph)\n",
    "common_nodes = set(G_reply.nodes()).intersection(set(G_mention.nodes())).intersection(set(G_retweet.nodes()))\n",
    "\n",
    "seed = random.choice(list(common_nodes))\n",
    "subgraph_mention = get_subgraph(G_mention, 5000, seed=seed)\n",
    "subgraph_reply = get_subgraph(G_reply, 5000, seed=seed)\n",
    "subgraph_retweet = get_subgraph(G_retweet, 5000, seed=seed)\n",
    "print(subgraph_reply)"
   ],
   "metadata": {
    "collapsed": false
   }
  },
  {
   "cell_type": "code",
   "execution_count": null,
   "outputs": [],
   "source": [
    "# Leave only the rows where the source and the target are unique pairs\n",
    "# subgraph_reply_unique_df = subgraph_reply_df.drop_duplicates(subset=['source', 'target'])\n",
    "# degrees = subgraph_reply_unique_df.groupby('source').count()\n",
    "reply_degrees = G_reply.degree()\n",
    "retweet_degrees = G_retweet.degree()\n",
    "mention_degrees = G_mention.degree()\n",
    "\n",
    "# Create a numpy array from reply_degrees where the index is the node id and the value is the degree\n",
    "i = 0\n",
    "node_index_dict = {}\n",
    "for k, v in reply_degrees:\n",
    "    node_index_dict[k] = i\n",
    "    i += 1\n",
    "for k,v in retweet_degrees:\n",
    "    if k not in node_index_dict.keys():\n",
    "        node_index_dict[k] = i\n",
    "        i += 1\n",
    "for k,v in mention_degrees:\n",
    "    if k not in node_index_dict.keys():\n",
    "        node_index_dict[k] = i\n",
    "        i += 1\n",
    "\n",
    "total_length = len(reply_degrees) + len(retweet_degrees) + len(mention_degrees)\n",
    "reply_degrees_array = np.zeros(total_length)\n",
    "for k, v in reply_degrees:\n",
    "    reply_degrees_array[node_index_dict[k]] = v\n",
    "retweet_degrees_array = np.zeros(total_length)\n",
    "for k, v in retweet_degrees:\n",
    "    retweet_degrees_array[node_index_dict[k]] = v\n",
    "mention_degrees_array = np.zeros(total_length)\n",
    "for k, v in mention_degrees:\n",
    "    mention_degrees_array[node_index_dict[k]] = v\n",
    "\n",
    "# Remove trailing zeros from the arrays\n",
    "# reply_degrees_array = reply_degrees_array[~np.all(reply_degrees_array == 0)]\n",
    "# retweet_degrees_array = retweet_degrees_array[~np.all(retweet_degrees_array == 0)]\n",
    "# mention_degrees_array = mention_degrees_array[~np.all(mention_degrees_array == 0)]\n",
    "\n",
    "# Calculate the correlation between the degrees of the different networks\n",
    "print(f\"Correlation between reply and retweet degrees: {np.corrcoef(reply_degrees_array, retweet_degrees_array)[0,1]}\")\n",
    "print(f\"Correlation between reply and mention degrees: {np.corrcoef(reply_degrees_array, mention_degrees_array)[0,1]}\")\n",
    "print(f\"Correlation between retweet and mention degrees: {np.corrcoef(retweet_degrees_array, mention_degrees_array)[0,1]}\")"
   ],
   "metadata": {
    "collapsed": false
   }
  },
  {
   "cell_type": "markdown",
   "source": [
    "### Calculate autocorrelation of the number of infected nodes when starting from the node with maximum average degree"
   ],
   "metadata": {
    "collapsed": false
   }
  },
  {
   "cell_type": "code",
   "execution_count": 254,
   "outputs": [
    {
     "name": "stdout",
     "output_type": "stream",
     "text": [
      "11949\n",
      "13173\n",
      "12043\n",
      "9940\n",
      "9940\n",
      "9940\n",
      "9940\n",
      "subgraph of: 5000 nodes\n",
      "subgraph of: 5000 nodes\n",
      "subgraph of: 5000 nodes\n",
      "Graph with 1 nodes and 0 edges\n",
      "Graph with 5000 nodes and 4999 edges\n",
      "Graph with 1650 nodes and 1649 edges\n",
      "0\n",
      "1191\n",
      "5\n"
     ]
    }
   ],
   "source": [
    "# Get only the nodes that have non-zero degree in all the networks\n",
    "common_nodes = set(G_reply.nodes()).intersection(set(G_mention.nodes())).intersection(set(G_retweet.nodes()))\n",
    "# Construct a subgraph of each of the reply/mention/retweet graphs with only the common nodes but edges between nodes that are not in the common nodes\n",
    "print(G_reply.number_of_nodes())\n",
    "print(G_mention.number_of_nodes())\n",
    "print(G_retweet.number_of_nodes())\n",
    "print(len(common_nodes))\n",
    "G_common_reply = G_reply.subgraph(common_nodes)\n",
    "G_common_mention = G_mention.subgraph(common_nodes)\n",
    "G_common_retweet = G_retweet.subgraph(common_nodes)\n",
    "print(G_common_reply.number_of_nodes())\n",
    "print(G_common_mention.number_of_nodes())\n",
    "print(G_common_retweet.number_of_nodes())\n",
    "# Create degrees_array with the degrees of the nodes in the common nodes subgraph\n",
    "degrees_array = np.zeros(total_length)\n",
    "for node in G_common_reply.nodes():\n",
    "    degrees_array[node_index_dict[node]] = np.sqrt(G_common_reply.out_degree(node)) + np.sqrt(G_common_mention.out_degree(node)) + np.sqrt(G_common_retweet.out_degree(node))\n",
    "# Get the index of the node with the maximum average degree\n",
    "# print(\"Degrees\", degrees_array)\n",
    "# Get index of the maximum degree\n",
    "max_degree_index = np.argmax(degrees_array)\n",
    "# Get the node with the maximum average degree\n",
    "max_degree_node = list(node_index_dict.keys())[list(node_index_dict.values()).index(max_degree_index)]\n",
    "\n",
    "# Get the subgraph of the node with the maximum average degree\n",
    "subgraph_reply = get_subgraph(G_reply, 5000, seed=max_degree_node)\n",
    "subgraph_mention = get_subgraph(G_mention, 5000, seed=max_degree_node)\n",
    "subgraph_retweet = get_subgraph(G_retweet, 5000, seed=max_degree_node)\n",
    "print(subgraph_reply)\n",
    "print(subgraph_retweet)\n",
    "print(subgraph_mention)\n",
    "print(G_common_reply.out_degree(max_degree_node))\n",
    "print(G_common_retweet.out_degree(max_degree_node))\n",
    "print(G_common_mention.out_degree(max_degree_node))"
   ],
   "metadata": {
    "collapsed": false
   }
  },
  {
   "cell_type": "code",
   "execution_count": 255,
   "outputs": [
    {
     "name": "stdout",
     "output_type": "stream",
     "text": [
      "32\n",
      "1388\n",
      "135\n",
      "subgraph of: 5000 nodes\n",
      "subgraph of: 5000 nodes\n",
      "subgraph of: 5000 nodes\n",
      "Graph with 1650 nodes and 1649 edges\n",
      "Graph with 5000 nodes and 4999 edges\n",
      "Graph with 523 nodes and 522 edges\n"
     ]
    }
   ],
   "source": [
    "# Start spreading from the node with the maximal out_degree in each of the networks\n",
    "max_degree_reply = max(G_reply.out_degree(), key=lambda x: x[1])[0]\n",
    "max_degree_retweet = max(G_retweet.out_degree(), key=lambda x: x[1])[0]\n",
    "max_degree_mention = max(G_mention.out_degree(), key=lambda x: x[1])[0]\n",
    "print(G_reply.out_degree(max_degree_reply))\n",
    "print(G_retweet.out_degree(max_degree_retweet))\n",
    "print(G_mention.out_degree(max_degree_mention))\n",
    "# Get the subgraph of the node with the maximum average degree\n",
    "subgraph_reply = get_subgraph(G_reply, 5000, seed=max_degree_reply)\n",
    "subgraph_mention = get_subgraph(G_mention, 5000, seed=max_degree_mention)\n",
    "subgraph_retweet = get_subgraph(G_retweet, 5000, seed=max_degree_retweet)\n",
    "print(subgraph_mention)\n",
    "print(subgraph_retweet)\n",
    "print(subgraph_reply)"
   ],
   "metadata": {
    "collapsed": false
   }
  },
  {
   "cell_type": "code",
   "execution_count": 256,
   "outputs": [],
   "source": [
    "# Functions for simulating spreading\n",
    "def simulate_spreading(graph_df, seed_node, start_day, end_day, name = \"name_not_given\"):\n",
    "\n",
    "    infected_nodes_time = []\n",
    "    infected_nodes = {seed_node}\n",
    "\n",
    "    min_day = start_day\n",
    "    max_day = end_day\n",
    "    number_of_nodes = graph_df.size\n",
    "\n",
    "    # Iterate over all days\n",
    "    for day in np.arange(min_day, max_day+1):\n",
    "        print(f'Day {day}/{max_day} --- ', end='\\r')\n",
    "        # For each day get the edges that were created on that day\n",
    "        edges = graph_df[graph_df['day'] == day]\n",
    "        # Take the dataframe subset where either the source or the target is in the infected nodes\n",
    "        susceptible_nodes_rows = edges[edges['source'].isin(infected_nodes)]\n",
    "        # Make a set of all the nodes that are in susceptible_nodes_rows\n",
    "        susceptible_nodes = set(susceptible_nodes_rows['target'])\n",
    "        # Add the susceptible nodes to the infected nodes\n",
    "        infected_nodes = infected_nodes.union(susceptible_nodes)\n",
    "        # Add the infected nodes to the infected_nodes_time_dict\n",
    "        infected_nodes_time.append(infected_nodes.copy())\n",
    "\n",
    "    # Take the number of infected nodes per timestamp\n",
    "    infected_nodes_ratio_time_count = [len(infected_nodes)/number_of_nodes for infected_nodes in infected_nodes_time]\n",
    "    # Add legend to the plot\n",
    "\n",
    "    plt.plot(np.arange(min_day, max_day+1), infected_nodes_ratio_time_count, label=f'{name}')\n",
    "    plt.legend()\n",
    "    return infected_nodes_ratio_time_count\n",
    "\n",
    "def build_df_from_graph(graph):\n",
    "    graph_df = pd.DataFrame(graph.edges(data=True), columns=['source', 'target', 'attribute'])\n",
    "    # Extract the 'day' attribute from the 'attribute' column and add it as a separate column\n",
    "    graph_df['timestamp'] = [d['day'] for d in graph_df['attribute']]\n",
    "    min_t = min(graph_df['timestamp'])\n",
    "\n",
    "    # Hardcoded normalizing to ~1000 timesteps\n",
    "    graph_df['day'] = ((graph_df['timestamp'] - min_t)/ 600).astype(int)\n",
    "    # subgraph_df['day'] = ((subgraph_df['timestamp'] - min_t)).astype(int)\n",
    "\n",
    "    # Drop the 'attribute' column, which is no longer needed\n",
    "    graph_df.drop('attribute', axis=1, inplace=True)\n",
    "\n",
    "    graph_df.sort_values('day')\n",
    "\n",
    "    # Simulate temporal spreading starting from the node with the highest average degree\n",
    "    graph_df = graph_df.sort_values(by=['day'])\n",
    "    graph_df.reset_index(drop=True, inplace=True)\n",
    "    return graph_df"
   ],
   "metadata": {
    "collapsed": false
   }
  },
  {
   "cell_type": "code",
   "execution_count": 258,
   "outputs": [
    {
     "name": "stdout",
     "output_type": "stream",
     "text": [
      "Graph with 523 nodes and 522 edges\n",
      "Day 1007/1007 --- \r"
     ]
    },
    {
     "data": {
      "text/plain": "<Figure size 640x480 with 1 Axes>",
      "image/png": "[encoded data removed]"
     },
     "metadata": {},
     "output_type": "display_data"
    }
   ],
   "source": [
    "# Simulate spreading for the node with the maximum average degree\n",
    "print(subgraph_reply)\n",
    "# Build dataframes for each graph\n",
    "subgraph_reply_df = build_df_from_graph(subgraph_reply)\n",
    "subgraph_mention_df = build_df_from_graph(subgraph_mention)\n",
    "subgraph_retweet_df = build_df_from_graph(subgraph_retweet)\n",
    "\n",
    "start_day_reply = min(subgraph_reply_df['day'])\n",
    "start_day_mention = min(subgraph_mention_df['day'])\n",
    "start_day_retweet = min(subgraph_retweet_df['day'])\n",
    "end_day_reply = max(subgraph_reply_df['day'])\n",
    "end_day_mention = max(subgraph_mention_df['day'])\n",
    "end_day_retweet = max(subgraph_retweet_df['day'])\n",
    "\n",
    "start_day = min(start_day_reply, start_day_mention, start_day_retweet)\n",
    "end_day = max(end_day_reply, end_day_mention, end_day_retweet)\n",
    "reply_infection_rates = simulate_spreading(subgraph_reply_df, max_degree_reply, start_day, end_day, name=\"reply\")\n",
    "mention_infection_rates = simulate_spreading(subgraph_mention_df, max_degree_mention, start_day, end_day, name=\"mention\")\n",
    "retweet_infection_rates = simulate_spreading(subgraph_retweet_df, max_degree_retweet, start_day, end_day, name=\"retweet\")\n"
   ],
   "metadata": {
    "collapsed": false
   }
  },
  {
   "cell_type": "code",
   "execution_count": 259,
   "outputs": [
    {
     "name": "stdout",
     "output_type": "stream",
     "text": [
      "[2.94065369e-05 5.87404650e-05 8.80743932e-05 ... 9.58435276e-06\n",
      " 6.38956851e-06 3.19478425e-06]\n"
     ]
    },
    {
     "data": {
      "text/plain": "Text(0.5, 1.0, 'Correlation between infection rates')"
     },
     "execution_count": 259,
     "metadata": {},
     "output_type": "execute_result"
    },
    {
     "data": {
      "text/plain": "<Figure size 640x480 with 1 Axes>",
      "image/png": "[encoded data removed]"
     },
     "metadata": {},
     "output_type": "display_data"
    }
   ],
   "source": [
    "correlation_reply_mention = np.correlate(reply_infection_rates, mention_infection_rates, \"full\")\n",
    "correlation_reply_retweet = np.correlate(reply_infection_rates, retweet_infection_rates, \"full\")\n",
    "correlation_mention_retweet = np.correlate(mention_infection_rates, retweet_infection_rates, \"full\")\n",
    "print(correlation_reply_mention)\n",
    "plt.clf()\n",
    "plt.plot(correlation_reply_mention, label=\"reply-mention\")\n",
    "plt.plot(correlation_reply_retweet, label=\"reply-retweet\")\n",
    "plt.plot(correlation_mention_retweet, label=\"mention-retweet\")\n",
    "plt.legend()\n",
    "plt.title(\"Correlation between infection rates\")"
   ],
   "metadata": {
    "collapsed": false
   }
  },
  {
   "cell_type": "code",
   "execution_count": 260,
   "outputs": [
    {
     "ename": "ValueError",
     "evalue": "all the input array dimensions except for the concatenation axis must match exactly, but along dimension 1, the array at index 0 has size 0 and the array at index 1 has size 1008",
     "output_type": "error",
     "traceback": [
      "\u001B[1;31m---------------------------------------------------------------------------\u001B[0m",
      "\u001B[1;31mValueError\u001B[0m                                Traceback (most recent call last)",
      "Cell \u001B[1;32mIn[260], line 4\u001B[0m\n\u001B[0;32m      2\u001B[0m corr_coefs \u001B[38;5;241m=\u001B[39m []\n\u001B[0;32m      3\u001B[0m \u001B[38;5;28;01mfor\u001B[39;00m i \u001B[38;5;129;01min\u001B[39;00m \u001B[38;5;28mrange\u001B[39m(\u001B[38;5;28mlen\u001B[39m(reply_infection_rates)):\n\u001B[1;32m----> 4\u001B[0m     corr_coefs\u001B[38;5;241m.\u001B[39mappend(\u001B[43mnp\u001B[49m\u001B[38;5;241;43m.\u001B[39;49m\u001B[43mcorrcoef\u001B[49m\u001B[43m(\u001B[49m\u001B[43mreply_infection_rates\u001B[49m\u001B[43m[\u001B[49m\u001B[43m:\u001B[49m\u001B[38;5;241;43m-\u001B[39;49m\u001B[43mi\u001B[49m\u001B[43m]\u001B[49m\u001B[43m,\u001B[49m\u001B[43m \u001B[49m\u001B[43mmention_infection_rates\u001B[49m\u001B[43m[\u001B[49m\u001B[43mi\u001B[49m\u001B[43m:\u001B[49m\u001B[43m]\u001B[49m\u001B[43m)\u001B[49m[\u001B[38;5;241m0\u001B[39m][\u001B[38;5;241m1\u001B[39m])\n\u001B[0;32m      5\u001B[0m correlation_reply_retweet \u001B[38;5;241m=\u001B[39m np\u001B[38;5;241m.\u001B[39mcorrcoef(reply_infection_rates, retweet_infection_rates)[\u001B[38;5;241m0\u001B[39m][\u001B[38;5;241m1\u001B[39m]\n\u001B[0;32m      6\u001B[0m correlation_mention_retweet \u001B[38;5;241m=\u001B[39m np\u001B[38;5;241m.\u001B[39mcorrcoef(mention_infection_rates, retweet_infection_rates)[\u001B[38;5;241m0\u001B[39m][\u001B[38;5;241m1\u001B[39m]\n",
      "File \u001B[1;32m<__array_function__ internals>:200\u001B[0m, in \u001B[0;36mcorrcoef\u001B[1;34m(*args, **kwargs)\u001B[0m\n",
      "File \u001B[1;32m~\\AppData\\Local\\Programs\\Python\\Python311\\Lib\\site-packages\\numpy\\lib\\function_base.py:2846\u001B[0m, in \u001B[0;36mcorrcoef\u001B[1;34m(x, y, rowvar, bias, ddof, dtype)\u001B[0m\n\u001B[0;32m   2842\u001B[0m \u001B[38;5;28;01mif\u001B[39;00m bias \u001B[38;5;129;01mis\u001B[39;00m \u001B[38;5;129;01mnot\u001B[39;00m np\u001B[38;5;241m.\u001B[39m_NoValue \u001B[38;5;129;01mor\u001B[39;00m ddof \u001B[38;5;129;01mis\u001B[39;00m \u001B[38;5;129;01mnot\u001B[39;00m np\u001B[38;5;241m.\u001B[39m_NoValue:\n\u001B[0;32m   2843\u001B[0m     \u001B[38;5;66;03m# 2015-03-15, 1.10\u001B[39;00m\n\u001B[0;32m   2844\u001B[0m     warnings\u001B[38;5;241m.\u001B[39mwarn(\u001B[38;5;124m'\u001B[39m\u001B[38;5;124mbias and ddof have no effect and are deprecated\u001B[39m\u001B[38;5;124m'\u001B[39m,\n\u001B[0;32m   2845\u001B[0m                   \u001B[38;5;167;01mDeprecationWarning\u001B[39;00m, stacklevel\u001B[38;5;241m=\u001B[39m\u001B[38;5;241m3\u001B[39m)\n\u001B[1;32m-> 2846\u001B[0m c \u001B[38;5;241m=\u001B[39m \u001B[43mcov\u001B[49m\u001B[43m(\u001B[49m\u001B[43mx\u001B[49m\u001B[43m,\u001B[49m\u001B[43m \u001B[49m\u001B[43my\u001B[49m\u001B[43m,\u001B[49m\u001B[43m \u001B[49m\u001B[43mrowvar\u001B[49m\u001B[43m,\u001B[49m\u001B[43m \u001B[49m\u001B[43mdtype\u001B[49m\u001B[38;5;241;43m=\u001B[39;49m\u001B[43mdtype\u001B[49m\u001B[43m)\u001B[49m\n\u001B[0;32m   2847\u001B[0m \u001B[38;5;28;01mtry\u001B[39;00m:\n\u001B[0;32m   2848\u001B[0m     d \u001B[38;5;241m=\u001B[39m diag(c)\n",
      "File \u001B[1;32m<__array_function__ internals>:200\u001B[0m, in \u001B[0;36mcov\u001B[1;34m(*args, **kwargs)\u001B[0m\n",
      "File \u001B[1;32m~\\AppData\\Local\\Programs\\Python\\Python311\\Lib\\site-packages\\numpy\\lib\\function_base.py:2640\u001B[0m, in \u001B[0;36mcov\u001B[1;34m(m, y, rowvar, bias, ddof, fweights, aweights, dtype)\u001B[0m\n\u001B[0;32m   2638\u001B[0m     \u001B[38;5;28;01mif\u001B[39;00m \u001B[38;5;129;01mnot\u001B[39;00m rowvar \u001B[38;5;129;01mand\u001B[39;00m y\u001B[38;5;241m.\u001B[39mshape[\u001B[38;5;241m0\u001B[39m] \u001B[38;5;241m!=\u001B[39m \u001B[38;5;241m1\u001B[39m:\n\u001B[0;32m   2639\u001B[0m         y \u001B[38;5;241m=\u001B[39m y\u001B[38;5;241m.\u001B[39mT\n\u001B[1;32m-> 2640\u001B[0m     X \u001B[38;5;241m=\u001B[39m \u001B[43mnp\u001B[49m\u001B[38;5;241;43m.\u001B[39;49m\u001B[43mconcatenate\u001B[49m\u001B[43m(\u001B[49m\u001B[43m(\u001B[49m\u001B[43mX\u001B[49m\u001B[43m,\u001B[49m\u001B[43m \u001B[49m\u001B[43my\u001B[49m\u001B[43m)\u001B[49m\u001B[43m,\u001B[49m\u001B[43m \u001B[49m\u001B[43maxis\u001B[49m\u001B[38;5;241;43m=\u001B[39;49m\u001B[38;5;241;43m0\u001B[39;49m\u001B[43m)\u001B[49m\n\u001B[0;32m   2642\u001B[0m \u001B[38;5;28;01mif\u001B[39;00m ddof \u001B[38;5;129;01mis\u001B[39;00m \u001B[38;5;28;01mNone\u001B[39;00m:\n\u001B[0;32m   2643\u001B[0m     \u001B[38;5;28;01mif\u001B[39;00m bias \u001B[38;5;241m==\u001B[39m \u001B[38;5;241m0\u001B[39m:\n",
      "File \u001B[1;32m<__array_function__ internals>:200\u001B[0m, in \u001B[0;36mconcatenate\u001B[1;34m(*args, **kwargs)\u001B[0m\n",
      "\u001B[1;31mValueError\u001B[0m: all the input array dimensions except for the concatenation axis must match exactly, but along dimension 1, the array at index 0 has size 0 and the array at index 1 has size 1008"
     ]
    }
   ],
   "source": [
    "\n",
    "correlation_reply_mention = np.corrcoef(reply_infection_rates, mention_infection_rates)[0][1]\n",
    "corr_coefs = []\n",
    "for i in range(len(reply_infection_rates)):\n",
    "    corr_coefs.append(np.corrcoef(reply_infection_rates[:-i], mention_infection_rates[i:])[0][1])\n",
    "correlation_reply_retweet = np.corrcoef(reply_infection_rates, retweet_infection_rates)[0][1]\n",
    "correlation_mention_retweet = np.corrcoef(mention_infection_rates, retweet_infection_rates)[0][1]\n",
    "print(correlation_reply_mention)\n",
    "plt.clf()\n",
    "plt.plot(corr_coefs, label=\"reply-mention\")\n",
    "plt.plot(correlation_reply_retweet, label=\"reply-retweet\")\n",
    "plt.plot(correlation_mention_retweet, label=\"mention-retweet\")\n",
    "plt.legend()\n",
    "plt.title(\"Correlation between infection rates\")"
   ],
   "metadata": {
    "collapsed": false
   }
  },
  {
   "cell_type": "code",
   "execution_count": null,
   "outputs": [],
   "source": [],
   "metadata": {
    "collapsed": false,
    "pycharm": {
     "is_executing": true
    }
   }
  },
  {
   "cell_type": "code",
   "execution_count": null,
   "outputs": [],
   "source": [],
   "metadata": {
    "collapsed": false
   }
  },
  {
   "cell_type": "code",
   "execution_count": null,
   "outputs": [],
   "source": [],
   "metadata": {
    "collapsed": false
   }
  }
 ],
 "metadata": {
  "kernelspec": {
   "display_name": "Python 3",
   "language": "python",
   "name": "python3"
  },
  "language_info": {
   "codemirror_mode": {
    "name": "ipython",
    "version": 2
   },
   "file_extension": ".py",
   "mimetype": "text/x-python",
   "name": "python",
   "nbconvert_exporter": "python",
   "pygments_lexer": "ipython2",
   "version": "2.7.6"
  }
 },
 "nbformat": 4,
 "nbformat_minor": 0
}
