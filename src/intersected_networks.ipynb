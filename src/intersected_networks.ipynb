{
 "cells": [
  {
   "cell_type": "code",
   "execution_count": 1,
   "metadata": {},
   "outputs": [
    {
     "name": "stdout",
     "output_type": "stream",
     "text": [
      "['c:\\\\Users\\\\Vince\\\\OneDrive\\\\Documenten\\\\School\\\\TU\\\\2223\\\\modelling-networks-and-data-analysis\\\\project_higgs\\\\higgs-twitter-network-science\\\\src', 'c:\\\\Users\\\\Vince\\\\AppData\\\\Local\\\\Programs\\\\Python\\\\Python39\\\\python39.zip', 'c:\\\\Users\\\\Vince\\\\AppData\\\\Local\\\\Programs\\\\Python\\\\Python39\\\\DLLs', 'c:\\\\Users\\\\Vince\\\\AppData\\\\Local\\\\Programs\\\\Python\\\\Python39\\\\lib', 'c:\\\\Users\\\\Vince\\\\AppData\\\\Local\\\\Programs\\\\Python\\\\Python39', '', 'c:\\\\Users\\\\Vince\\\\AppData\\\\Local\\\\Programs\\\\Python\\\\Python39\\\\lib\\\\site-packages', 'c:\\\\users\\\\vince\\\\projects\\\\fantoom\\\\emmel\\\\basy-synths', 'c:\\\\users\\\\vince\\\\projects\\\\fantoom\\\\emmel\\\\evairy', 'c:\\\\Users\\\\Vince\\\\AppData\\\\Local\\\\Programs\\\\Python\\\\Python39\\\\lib\\\\site-packages\\\\win32', 'c:\\\\Users\\\\Vince\\\\AppData\\\\Local\\\\Programs\\\\Python\\\\Python39\\\\lib\\\\site-packages\\\\win32\\\\lib', 'c:\\\\Users\\\\Vince\\\\AppData\\\\Local\\\\Programs\\\\Python\\\\Python39\\\\lib\\\\site-packages\\\\Pythonwin', 'c:\\\\Users\\\\Vince\\\\AppData\\\\Local\\\\Programs\\\\Python\\\\Python39\\\\lib\\\\site-packages\\\\IPython\\\\extensions', 'C:\\\\Users\\\\Vince\\\\.ipython', '../']\n"
     ]
    }
   ],
   "source": [
    "import matplotlib.pyplot as plt\n",
    "import numpy as np\n",
    "import pandas as pd\n",
    "import networkx as nx\n",
    "import utilities as util\n"
   ]
  },
  {
   "cell_type": "code",
   "execution_count": 2,
   "metadata": {},
   "outputs": [],
   "source": [
    "social_file_path = \"../network-data/higgs-social_network.edgelist\"\n",
    "mention_file_path = \"../network-data/higgs-mention_network.edgelist\"\n",
    "retweet_file_path = \"../network-data/higgs-retweet_network.edgelist\"\n",
    "reply_file_path = \"../network-data/higgs-reply_network.edgelist\""
   ]
  },
  {
   "cell_type": "code",
   "execution_count": 3,
   "metadata": {},
   "outputs": [],
   "source": [
    "def extract_nodes(df):\n",
    "    return set(df['source'].unique()).union(set(df['target'].unique()))\n",
    "\n",
    "def load_nodes(file_path):\n",
    "    # much faster to do the operations on dataframes\n",
    "    df = pd.read_csv(file_path, delimiter = ' ', names=['source', 'target', 'weight'])\n",
    "    nodes = extract_nodes(df)\n",
    "    print(f\"loaded {file_path} has {len(nodes)} nodes\")\n",
    "    return nodes\n"
   ]
  },
  {
   "cell_type": "code",
   "execution_count": 4,
   "metadata": {},
   "outputs": [
    {
     "name": "stdout",
     "output_type": "stream",
     "text": [
      "loaded ../network-data/higgs-reply_network.edgelist has 38918 nodes\n",
      "loaded ../network-data/higgs-mention_network.edgelist has 116408 nodes\n",
      "loaded ../network-data/higgs-retweet_network.edgelist has 256491 nodes\n",
      "intersected network has 21346 nodes\n"
     ]
    }
   ],
   "source": [
    "# create the intersection of nodes across all interaction mechanisms.\n",
    "\n",
    "reply_nodes = load_nodes(reply_file_path)\n",
    "mention_nodes = load_nodes(mention_file_path)\n",
    "reply_mention_nodes = reply_nodes.intersection(mention_nodes)\n",
    "del reply_nodes, mention_nodes\n",
    "\n",
    "\n",
    "retweet_nodes = load_nodes(retweet_file_path)\n",
    "reply_mention_retweet_nodes = reply_mention_nodes.intersection(retweet_nodes)\n",
    "del reply_mention_nodes, retweet_nodes\n",
    "\n",
    "print(f\"intersected network has {len(reply_mention_retweet_nodes)} nodes\")"
   ]
  },
  {
   "cell_type": "code",
   "execution_count": 5,
   "metadata": {},
   "outputs": [],
   "source": [
    "def largest_connected_component(G):\n",
    "    # not supported for directed networks\n",
    "    subgraphs = sorted(nx.connected_components(G), key=len, reverse=True)\n",
    "    return G.subgraph(subgraphs[0])"
   ]
  },
  {
   "cell_type": "code",
   "execution_count": 18,
   "metadata": {},
   "outputs": [],
   "source": [
    "def build_network(df, directed = False):\n",
    "\n",
    "    if directed: \n",
    "        G = nx.DiGraph()\n",
    "    else:\n",
    "        G = nx.Graph()\n",
    "\n",
    "    to_add = zip(df[\"source\"], df[\"target\"])\n",
    "    G.add_edges_from(to_add)\n",
    "    return G"
   ]
  },
  {
   "cell_type": "code",
   "execution_count": 19,
   "metadata": {},
   "outputs": [],
   "source": [
    "def extract_bidirectional_subnetwork(G):\n",
    "    \"\"\"\n",
    "    creates an undirected sub network from a directed network\n",
    "     \n",
    "    that only contains the edges where both \n",
    "    \n",
    "    u -> v and v -> u\n",
    "\n",
    "    are in the directed network. In the followers/following sense,\n",
    "\n",
    "    This extracts the sub network where the users follow eachother.\n",
    "\n",
    "    \"\"\"\n",
    "    sub_G = nx.Graph()\n",
    "\n",
    "    for e in G.edges:\n",
    "        if len(e) == 2:\n",
    "            u, v = e\n",
    "        else:\n",
    "            u, v, _ = e\n",
    "        if G.has_edge(v, u):\n",
    "            sub_G.add_edge(u,v)\n",
    "\n",
    "    return sub_G"
   ]
  },
  {
   "cell_type": "code",
   "execution_count": 20,
   "metadata": {},
   "outputs": [],
   "source": [
    "def load_subnetwork(file_path, sub_nodes, directed = False):\n",
    "\n",
    "    df = pd.read_csv(file_path, delimiter = ' ', names=['source', 'target', 'weight'])\n",
    "\n",
    "    sub_df = df[((df['source'].isin(sub_nodes)) & (df['target'].isin(sub_nodes)))]\n",
    "\n",
    "    return build_network(sub_df, directed)"
   ]
  },
  {
   "cell_type": "code",
   "execution_count": 21,
   "metadata": {},
   "outputs": [],
   "source": [
    "def get_friendships(G):\n",
    "\n",
    "    G = extract_bidirectional_subnetwork(G.to_undirected())\n",
    "\n",
    "    return G\n",
    "\n",
    "def get_lcc(G, directed = False):\n",
    "\n",
    "    lcc = largest_connected_component(G.to_undirected())\n",
    "\n",
    "    return lcc        "
   ]
  },
  {
   "cell_type": "code",
   "execution_count": 22,
   "metadata": {},
   "outputs": [],
   "source": [
    "# following/followers is a directed network\n",
    "social_network = load_subnetwork(social_file_path, reply_mention_retweet_nodes)\n",
    "lcc_social_network = get_lcc(social_network)\n",
    "\n",
    "friends_network = get_friendships(social_network)\n",
    "\n",
    "del social_network\n",
    "lcc_friends_network = get_lcc(friends_network)\n",
    "del friends_network\n",
    "\n",
    "nx.write_edgelist(lcc_friends_network, '../output/higgs-friends-lcc.edgelist')\n",
    "nx.write_edgelist(lcc_social_network, '../output/higgs-social-lcc.edgelist')"
   ]
  },
  {
   "cell_type": "code",
   "execution_count": null,
   "metadata": {},
   "outputs": [],
   "source": [
    "social_reply_network = load_subnetwork(reply_file_path, lcc_social_network.nodes)\n",
    "social_mention_network = load_subnetwork(mention_file_path, lcc_social_network.nodes)\n",
    "social_retweet_network = load_subnetwork(retweet_file_path, lcc_social_network.nodes)\n",
    "\n",
    "friends_reply_network = load_subnetwork(reply_file_path, lcc_friends_network.nodes)\n",
    "friends_mention_network = load_subnetwork(mention_file_path, lcc_friends_network.nodes)\n",
    "friends_retweet_network = load_subnetwork(retweet_file_path, lcc_friends_network.nodes)\n",
    "\n",
    "nx.write_edgelist(social_reply_network, '../output/higgs-social-reply.edgelist')\n",
    "nx.write_edgelist(social_mention_network, '../output/higgs-social-mention.edgelist')\n",
    "nx.write_edgelist(social_retweet_network, '../output/higgs-social-retweet.edgelist')\n",
    "nx.write_edgelist(friends_reply_network, '../output/higgs-friends-reply.edgelist')\n",
    "nx.write_edgelist(friends_mention_network, '../output/higgs-friends-mention.edgelist')\n",
    "nx.write_edgelist(friends_retweet_network, '../output/higgs-friends-retweet.edgelist')"
   ]
  },
  {
   "cell_type": "code",
   "execution_count": null,
   "metadata": {},
   "outputs": [],
   "source": []
  },
  {
   "cell_type": "code",
   "execution_count": null,
   "metadata": {},
   "outputs": [],
   "source": []
  }
 ],
 "metadata": {
  "kernelspec": {
   "display_name": "Python 3",
   "language": "python",
   "name": "python3"
  },
  "language_info": {
   "codemirror_mode": {
    "name": "ipython",
    "version": 3
   },
   "file_extension": ".py",
   "mimetype": "text/x-python",
   "name": "python",
   "nbconvert_exporter": "python",
   "pygments_lexer": "ipython3",
   "version": "3.9.2"
  },
  "orig_nbformat": 4
 },
 "nbformat": 4,
 "nbformat_minor": 2
}
