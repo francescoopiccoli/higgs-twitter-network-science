{
 "cells": [
  {
   "cell_type": "code",
   "execution_count": 1,
   "metadata": {},
   "outputs": [],
   "source": [
    "import networkx as nx\n",
    "import pandas as pd\n",
    "import numpy as np\n",
    "import matplotlib.pyplot as plt\n",
    "from scipy.signal import find_peaks\n",
    "from tqdm import tqdm\n",
    "from time import time"
   ]
  },
  {
   "cell_type": "code",
   "execution_count": 145,
   "metadata": {},
   "outputs": [],
   "source": [
    "def create_subgraphs():\n",
    "    \"\"\"\n",
    "    Creates subgraphs of the Higgs dataset with the full timestamps\n",
    "    :return: nothing\n",
    "    \"\"\"\n",
    "    activity_time_path = \"../network-data/higgs-activity_time.txt\"\n",
    "    activity_time = pd.read_csv(activity_time_path, delimiter = ' ', names=['target', 'source', 'time', 'type'])\n",
    "\n",
    "    # create high resolution timestamped datasets\n",
    "    reply_timestamps_file_path = \"../output/reply_timestamps.edgelist\"\n",
    "    mention_timestamps_file_path = \"../output/mention_timestamps.edgelist\"\n",
    "    retweet_timestamps_file_path = \"../output/retweet_timestamps.edgelist\"\n",
    "\n",
    "    activity_time[activity_time['type'] == 'RE'][['source', 'target', 'time']].to_csv(reply_timestamps_file_path, sep=' ', header=False, index=False)\n",
    "    # activity_time[activity_time['type'] == 'MT'][['source', 'target', 'time']]\\\n",
    "    # .to_csv(mention_timestamps_file_path, sep=' ', header=False, index=False)\n",
    "    activity_time[activity_time['type'] == 'MT'][['source', 'target', 'time']].to_csv(retweet_timestamps_file_path, sep=' ', header=False, index=False)\n",
    "    # Swap source and target columns in the retweet dataset to effectively simulate the dataflow (as mentioned on the website)\n",
    "    activity_time[activity_time['type'] == 'RT'][['source', 'target', 'time']].to_csv(retweet_timestamps_file_path, sep=' ', header=False, index=False)\n",
    "\n",
    "def largest_connected_component(G):\n",
    "    \"\"\"\n",
    "    Returns the largest connected component of a graph\n",
    "    :param G: graph\n",
    "    :return: largest connected component\n",
    "    \"\"\"\n",
    "    # not supported for directed networks\n",
    "    if isinstance(G, nx.DiGraph):\n",
    "        return G.subgraph(max(nx.weakly_connected_components(G), key=len))\n",
    "    else:\n",
    "        return G.subgraph(max(nx.connected_components(G), key=len))\n",
    "\n",
    "def build_df_from_graph(graph, bin_size=60*60):\n",
    "    graph_df = pd.DataFrame(graph.edges(data=True), columns=['source', 'target', 'attribute'])\n",
    "    # Extract the 'timestamp' attribute from the 'attribute' column and add it as a separate column\n",
    "    graph_df['timestamp'] = [d['time'] for d in graph_df['attribute']]\n",
    "    min_t = min(graph_df['timestamp'])\n",
    "\n",
    "    # Hardcoded normalizing to ~1000 timesteps\n",
    "    graph_df['timestamp'] = ((graph_df['timestamp'] - min_t) / bin_size).astype(int)\n",
    "    # subgraph_df['timestamp'] = ((subgraph_df['timestamp'] - min_t)).astype(int)\n",
    "    # Drop the 'attribute' column, which is no longer needed\n",
    "    graph_df.drop('attribute', axis=1, inplace=True)\n",
    "\n",
    "    graph_df = graph_df.sort_values(by=['timestamp'])\n",
    "    graph_df.reset_index(drop=True, inplace=True)\n",
    "\n",
    "    return graph_df\n",
    "\n",
    "def build_social_network_df(graph):\n",
    "    social_network_df = pd.DataFrame(graph.edges(data=True), columns=['source', 'target', 'attribute'])\n",
    "        # Drop the 'attribute' column, which is no longer needed\n",
    "    social_network_df.drop('attribute', axis=1, inplace=True)\n",
    "    social_network_df = social_network_df.drop_duplicates()\n",
    "    return social_network_df\n",
    "\n",
    "def simulate_spreading(graph_df, social_network_df, seed_node, start_timestamp, end_timestamp, number_of_component_nodes, number_of_total_nodes, name=\"name_not_given\", plot=True):\n",
    "\n",
    "    graph_nodes = np.zeros(max(social_network_df['source'].max(), social_network_df['target'].max()) + 1)\n",
    "#     print(graph_df['source'].unique())\n",
    "    #print(np.concatenate((np.array(graph_df['source'].unique()), np.array(graph_df['target'].unique()))))\n",
    "    graph_nodes[np.concatenate((np.array(graph_df['source'].unique()), np.array(graph_df['target'].unique())))] = 1\n",
    "    \n",
    "    social_network_np = social_network_df.to_numpy()\n",
    "\n",
    "    spreading_start_time = graph_df[graph_df['source'] == seed_node]['timestamp'].min()\n",
    "    min_timestamp = start_timestamp\n",
    "    max_timestamp = end_timestamp\n",
    "    # Get the number of nodes in the graph\n",
    "    infected_nodes = np.zeros(max(social_network_df['source'].max(), social_network_df['target'].max()) + 1)\n",
    "\n",
    "    informed_nodes =  np.zeros(max(social_network_df['source'].max(), social_network_df['target'].max()) + 1)\n",
    "    infected_nodes_time = [infected_nodes.sum()/number_of_component_nodes]\n",
    "    informed_nodes_time = [informed_nodes.sum()/number_of_total_nodes]\n",
    "    # Iterate over all timestamps\n",
    "    for timestamp in range(min_timestamp, max_timestamp+1):\n",
    "        if timestamp == spreading_start_time:\n",
    "            infected_nodes[seed_node] = 1\n",
    "            informed_nodes[seed_node] = 1\n",
    "            informed_nodes[social_network_df[social_network_df['target'] == seed_node]['source']] = 1\n",
    "            infected_nodes[social_network_df[social_network_df['target'] == seed_node]['source']] = 1\n",
    "            infected_nodes *= graph_nodes\n",
    "        print(f'Graph: {name} Timestamp: {timestamp}/{max_timestamp} --- ', end='\\r')\n",
    "\n",
    "        # For each timestamp get the edges that were created on that timestamp\n",
    "        edges = graph_df[graph_df['timestamp'] == timestamp]\n",
    "        # Take the dataframe subset where either the source or the target is in the infected nodes\n",
    "        susceptible_nodes= edges[(infected_nodes[edges['source']] == 1) |(informed_nodes[edges['source']] == 1)  ]['target']\n",
    "        # Add the susceptible nodes to the infected nodes\n",
    "        infected_nodes[susceptible_nodes] = 1\n",
    "        infected_nodes *= graph_nodes\n",
    "        # Add nodes to the informed nodes that are connected to the infected nodes\n",
    "        susceptible_informed_nodes = social_network_df[social_network_df['target'].isin(susceptible_nodes)]['source']\n",
    "        informed_nodes[susceptible_informed_nodes] = 1\n",
    "        \n",
    "#         sus_series = pd.Series(susceptible_nodes, name='target')\n",
    "        \n",
    "#         susceptible_informed_nodes = social_network_df.merge(sus_series, on='target', how='inner')['source']\n",
    "#         informed_nodes[susceptible_informed_nodes] = 1\n",
    "        \n",
    "#         susceptible_informed_nodes = social_network_np[np.isin(social_network_np[:, 1], susceptible_nodes)][:, 0]\n",
    "#         informed_nodes[susceptible_informed_nodes] = 1\n",
    "        \n",
    "        # Add the infected and informed nodes to the infected_nodes_time_dict\n",
    "        infected_nodes_time.append(infected_nodes.sum()/number_of_component_nodes)\n",
    "        informed_nodes_time.append(informed_nodes.sum()/number_of_total_nodes)\n",
    "\n",
    "    if plot:\n",
    "        plt.plot(np.arange(min_timestamp, max_timestamp+2), infected_nodes_time, label=f'{name}' + ' infected nodes', alpha=0.8)\n",
    "        plt.plot(np.arange(min_timestamp, max_timestamp+2), informed_nodes_time, label=f'{name}' + ' informed nodes', alpha=0.8)\n",
    "        plt.legend()\n",
    "    return infected_nodes, informed_nodes, infected_nodes_time, informed_nodes_time\n",
    "\n",
    "def get_start_end_combined(subgraph_reply_df, subgraph_mention_df, subgraph_retweet_df):\n",
    "    start_timestamp_reply = min(subgraph_reply_df['timestamp'])\n",
    "    start_timestamp_mention = min(subgraph_mention_df['timestamp'])\n",
    "    start_timestamp_retweet = min(subgraph_retweet_df['timestamp'])\n",
    "    end_timestamp_reply = max(subgraph_reply_df['timestamp'])\n",
    "    end_timestamp_mention = max(subgraph_mention_df['timestamp'])\n",
    "    end_timestamp_retweet = max(subgraph_retweet_df['timestamp'])\n",
    "\n",
    "    start_timestamp = min(start_timestamp_reply, start_timestamp_mention, start_timestamp_retweet)\n",
    "    end_timestamp = max(end_timestamp_reply, end_timestamp_mention, end_timestamp_retweet)\n",
    "    return start_timestamp, end_timestamp"
   ]
  },
  {
   "cell_type": "code",
   "execution_count": 3,
   "metadata": {},
   "outputs": [],
   "source": [
    "create_subgraphs()"
   ]
  },
  {
   "cell_type": "code",
   "execution_count": 4,
   "metadata": {},
   "outputs": [],
   "source": [
    "G_reply = nx.read_edgelist(\"../output/reply_timestamps.edgelist\", nodetype=int, data=(('time',int),), create_using=nx.DiGraph)\n",
    "G_mention = nx.read_edgelist(\"../output/mention_timestamps.edgelist\", nodetype=int, data=(('time', int),),  create_using=nx.DiGraph)\n",
    "G_retweet = nx.read_edgelist(\"../output/retweet_timestamps.edgelist\", nodetype=int, data=(('time', int),), create_using=nx.DiGraph)\n",
    "G_social = nx.read_edgelist(\"../network-data/higgs-social_network.edgelist\", nodetype=int, create_using=nx.DiGraph)\n",
    "\n",
    "G_reply_lcc = largest_connected_component(G_reply)\n",
    "G_mention_lcc = largest_connected_component(G_mention)\n",
    "G_retweet_lcc = largest_connected_component(G_retweet)"
   ]
  },
  {
   "cell_type": "code",
   "execution_count": 5,
   "metadata": {},
   "outputs": [],
   "source": [
    "G_reply_lcc_df = build_df_from_graph(G_reply_lcc)\n",
    "G_mention_lcc_df = build_df_from_graph(G_mention_lcc)\n",
    "G_retweet_lcc_df = build_df_from_graph(G_retweet_lcc)"
   ]
  },
  {
   "cell_type": "code",
   "execution_count": 6,
   "metadata": {},
   "outputs": [],
   "source": [
    "G_reply_df = build_df_from_graph(G_reply)\n",
    "G_mention_df = build_df_from_graph(G_mention)\n",
    "G_retweet_df = build_df_from_graph(G_retweet)"
   ]
  },
  {
   "cell_type": "code",
   "execution_count": 7,
   "metadata": {},
   "outputs": [],
   "source": [
    "G_social_df = build_social_network_df(G_social)"
   ]
  },
  {
   "cell_type": "code",
   "execution_count": 8,
   "metadata": {},
   "outputs": [
    {
     "name": "stdout",
     "output_type": "stream",
     "text": [
      "DiGraph with 223833 nodes and 308596 edges\n",
      "DiGraph with 91606 nodes and 132068 edges\n",
      "DiGraph with 12839 nodes and 14944 edges\n",
      "DiGraph with 456626 nodes and 14855842 edges\n"
     ]
    }
   ],
   "source": [
    "print(G_retweet_lcc)\n",
    "print(G_mention_lcc)\n",
    "print(G_reply_lcc)\n",
    "print(G_social)"
   ]
  },
  {
   "cell_type": "code",
   "execution_count": 156,
   "metadata": {},
   "outputs": [],
   "source": [
    "def get_subgraph(G, max_n_of_nodes=None, is_seed_node_most_connected=True, seed = None):\n",
    "    \"\"\"\n",
    "    Returns a subgraph of G with k nodes generated by BFS from a seed node\n",
    "    :param G: graph\n",
    "    :param k: number of nodes in the subgraph\n",
    "    :param is_seed_node_most_connected: whether the seed node is the most connected node or a random node\n",
    "    :param seed: seed node, random if None\n",
    "    :return: subgraph\n",
    "    \"\"\"\n",
    "    if max_n_of_nodes is None:\n",
    "        max_n_of_nodes = G.number_of_nodes() // 5\n",
    "\n",
    "    if seed:\n",
    "        seed_node = seed\n",
    "    elif is_seed_node_most_connected:\n",
    "        seed_node = max(G.degree(), key=lambda x: x[1])[0]\n",
    "    else:\n",
    "        # Choosing a random node does not guarantee getting a subgraph of the desired size\n",
    "        seed_node = random.choice(list(G.nodes()))\n",
    "    # Initialize a queue for BFS and a set for visited nodes\n",
    "    queue = [seed_node]\n",
    "    visited = set([seed_node])\n",
    "    # Initialize the subgraph with the starting node\n",
    "    subgraph = nx.Graph()\n",
    "    subgraph.add_node(seed_node)\n",
    "    # While the subgraph has fewer than n nodes and the queue is not empty\n",
    "    while len(subgraph) < max_n_of_nodes and queue:\n",
    "        # Get the next node from the queue\n",
    "        curr_node = queue.pop(0)\n",
    "        # Add its neighbors that have not been visited to the queue and the subgraph\n",
    "        for neighbor in G.neighbors(curr_node):\n",
    "            if len(subgraph) >= max_n_of_nodes:\n",
    "                break\n",
    "            visited.add(neighbor)\n",
    "            subgraph.add_node(neighbor)\n",
    "            subgraph.add_edge(curr_node, neighbor, day=G[curr_node][neighbor][\"time\"])\n",
    "            queue.append(neighbor)\n",
    "    # print n of nodes in the subgraph \n",
    "    print(f\"subgraph has {len(subgraph)} nodes\")\n",
    "    return subgraph"
   ]
  },
  {
   "cell_type": "code",
   "execution_count": null,
   "metadata": {},
   "outputs": [
    {
     "name": "stdout",
     "output_type": "stream",
     "text": [
      "1206\n",
      "14060\n",
      "169\n"
     ]
    }
   ],
   "source": [
    "# Start spreading from the node with the maximal out_degree in each of the networks\n",
    "max_degree_reply = max(G_reply.out_degree(), key=lambda x: x[1])[0]\n",
    "max_degree_retweet = max(G_retweet.out_degree(), key=lambda x: x[1])[0]\n",
    "max_degree_mention = max(G_mention.out_degree(), key=lambda x: x[1])[0]\n",
    "print(G_reply.out_degree(max_degree_reply))\n",
    "print(G_retweet.out_degree(max_degree_retweet))\n",
    "print(G_mention.out_degree(max_degree_mention))\n",
    "# Get the subgraph of the node with the maximum average degree\n",
    "subgraph_reply = get_subgraph(G_reply, max_n_of_nodes=5000, seed=max_degree_reply)\n",
    "subgraph_mention = get_subgraph(G_mention, max_n_of_nodes=5000, seed=max_degree_mention)\n",
    "subgraph_retweet = get_subgraph(G_retweet, max_n_of_nodes=5000, seed=max_degree_retweet)\n",
    "print(subgraph_retweet)\n",
    "print(subgraph_mention)\n",
    "print(subgraph_reply)"
   ]
  },
  {
   "cell_type": "code",
   "execution_count": 82,
   "metadata": {},
   "outputs": [],
   "source": [
    "def get_nodes_by_centrality(network, n_nodes, start=0, metric='degree_out'):\n",
    "    if metric == 'degree_out':\n",
    "        centr = G_reply.out_degree()\n",
    "    if metric == 'degree_in':\n",
    "        centr = G_reply.in_degree()\n",
    "    if metric == 'eigen':\n",
    "        centr = nx.eigenvector_centrality(G_reply)\n",
    "    return [v[0] for v in sorted(centr, key=lambda x: -x[1])][start:start + n_nodes]"
   ]
  },
  {
   "cell_type": "code",
   "execution_count": 10,
   "metadata": {},
   "outputs": [
    {
     "name": "stdout",
     "output_type": "stream",
     "text": [
      "[677, 88, 220, 3549, 317, 349, 1988, 7690, 3369, 16460, 2177, 4368, 2014, 4259, 6940, 5245, 216, 327, 12281, 3998, 9964, 13808, 7962, 1880, 2280, 1574, 511, 14454, 4446, 9021, 16188, 36436, 68278, 5335, 2941, 2353, 3419, 503, 459, 245, 2288, 2417, 408, 16527, 122488, 352, 1276, 13854, 11036, 2347]\n"
     ]
    }
   ],
   "source": [
    "n_nodes = 50\n",
    "metric = 'degree_in'\n",
    "\n",
    "max_degree_reply = get_nodes_by_centrality(G_reply, n_nodes)\n",
    "max_degree_retweet = get_nodes_by_centrality(G_retweet, n_nodes)\n",
    "max_degree_mention = get_nodes_by_centrality(G_mention, n_nodes)\n",
    "\n",
    "print(max_degree_reply)"
   ]
  },
  {
   "cell_type": "code",
   "execution_count": 11,
   "metadata": {},
   "outputs": [
    {
     "name": "stdout",
     "output_type": "stream",
     "text": [
      "0\n",
      "167\n"
     ]
    }
   ],
   "source": [
    "start_timestamp, end_timestamp = get_start_end_combined(G_reply_lcc_df, G_mention_lcc_df, G_retweet_lcc_df)\n",
    "print(start_timestamp)\n",
    "print(end_timestamp)"
   ]
  },
  {
   "cell_type": "code",
   "execution_count": 12,
   "metadata": {},
   "outputs": [
    {
     "name": "stdout",
     "output_type": "stream",
     "text": [
      "[ 18038 213163  33833 ...  34216 223125  97296]\n",
      "Graph: reply Timestamp: 167/167 --- \r"
     ]
    },
    {
     "data": {
      "image/png": "[encoded data removed]",
      "text/plain": [
       "<Figure size 432x288 with 1 Axes>"
      ]
     },
     "metadata": {
      "needs_background": "light"
     },
     "output_type": "display_data"
    }
   ],
   "source": [
    "infected_nodes, informed_nodes, infected_nodes_time, informed_nodes_time = simulate_spreading(G_reply_lcc_df,\\\n",
    "            G_social_df, max_degree_reply[0], start_timestamp, end_timestamp, len(G_reply_lcc.nodes()),\\\n",
    "            len(G_social.nodes()), name=\"reply\", plot=True)"
   ]
  },
  {
   "cell_type": "code",
   "execution_count": 13,
   "metadata": {},
   "outputs": [],
   "source": [
    "def simulate_spreading_n_nodes(graph_df, social_network_df, seed_nodes, start_timestamp, end_timestamp, number_of_component_nodes, number_of_total_nodes, name=\"name_not_given\", plot=True):\n",
    "    \n",
    "    infected_nodes_n, informed_nodes_n, infected_nodes_time_n, informed_nodes_time_n = [], [], [], []\n",
    "    \n",
    "    for node in seed_nodes:\n",
    "        infected_nodes, informed_nodes, infected_nodes_time, informed_nodes_time = simulate_spreading(\\\n",
    "                graph_df, social_network_df, node, start_timestamp, end_timestamp, number_of_component_nodes, number_of_total_nodes, name=name, plot=plot)\n",
    "        \n",
    "        infected_nodes_n.append(infected_nodes)\n",
    "        informed_nodes_n.append(informed_nodes)\n",
    "        infected_nodes_time_n.append(infected_nodes_time)\n",
    "        informed_nodes_time_n.append(informed_nodes_time)\n",
    "        \n",
    "    return infected_nodes_n, informed_nodes_n, infected_nodes_time_n, informed_nodes_time_n"
   ]
  },
  {
   "cell_type": "code",
   "execution_count": 14,
   "metadata": {},
   "outputs": [],
   "source": [
    "def cum_to_diff(time):\n",
    "    return np.array(time[1:]) - np.array(time[:-1])"
   ]
  },
  {
   "cell_type": "code",
   "execution_count": 28,
   "metadata": {},
   "outputs": [],
   "source": [
    "def get_crosscorr(proc_n_1, proc_n_2):\n",
    "    return [np.correlate(cum_to_diff(proc_1), cum_to_diff(proc_2), 'full') for proc_1, proc_2 in zip(proc_n_1, proc_n_2)]"
   ]
  },
  {
   "cell_type": "code",
   "execution_count": 146,
   "metadata": {},
   "outputs": [
    {
     "name": "stdout",
     "output_type": "stream",
     "text": [
      "Graph: reply Timestamp: 53/167 --- \r"
     ]
    },
    {
     "ename": "KeyboardInterrupt",
     "evalue": "",
     "output_type": "error",
     "traceback": [
      "\u001b[1;31m---------------------------------------------------------------------------\u001b[0m",
      "\u001b[1;31mKeyboardInterrupt\u001b[0m                         Traceback (most recent call last)",
      "Input \u001b[1;32mIn [146]\u001b[0m, in \u001b[0;36m<cell line: 1>\u001b[1;34m()\u001b[0m\n\u001b[1;32m----> 1\u001b[0m _, _, infected_nodes_time_rep, informed_nodes_time_rep \u001b[38;5;241m=\u001b[39m \u001b[43msimulate_spreading_n_nodes\u001b[49m\u001b[43m(\u001b[49m\u001b[43mG_reply_lcc_df\u001b[49m\u001b[43m,\u001b[49m\u001b[43m \u001b[49m\u001b[43mG_social_df\u001b[49m\u001b[43m,\u001b[49m\u001b[43m \u001b[49m\u001b[43mmax_degree_reply\u001b[49m\u001b[43m,\u001b[49m\u001b[43m \u001b[49m\u001b[43mstart_timestamp\u001b[49m\u001b[43m,\u001b[49m\u001b[43m \u001b[49m\u001b[43mend_timestamp\u001b[49m\u001b[43m,\u001b[49m\u001b[43m \u001b[49m\u001b[38;5;28;43mlen\u001b[39;49m\u001b[43m(\u001b[49m\u001b[43mG_reply_lcc\u001b[49m\u001b[38;5;241;43m.\u001b[39;49m\u001b[43mnodes\u001b[49m\u001b[43m(\u001b[49m\u001b[43m)\u001b[49m\u001b[43m)\u001b[49m\u001b[43m,\u001b[49m\u001b[43m \u001b[49m\u001b[38;5;28;43mlen\u001b[39;49m\u001b[43m(\u001b[49m\u001b[43mG_social\u001b[49m\u001b[38;5;241;43m.\u001b[39;49m\u001b[43mnodes\u001b[49m\u001b[43m(\u001b[49m\u001b[43m)\u001b[49m\u001b[43m)\u001b[49m\u001b[43m,\u001b[49m\u001b[43m \u001b[49m\u001b[43mname\u001b[49m\u001b[38;5;241;43m=\u001b[39;49m\u001b[38;5;124;43m\"\u001b[39;49m\u001b[38;5;124;43mreply\u001b[39;49m\u001b[38;5;124;43m\"\u001b[39;49m\u001b[43m,\u001b[49m\u001b[43m \u001b[49m\u001b[43mplot\u001b[49m\u001b[38;5;241;43m=\u001b[39;49m\u001b[38;5;28;43;01mFalse\u001b[39;49;00m\u001b[43m)\u001b[49m\n\u001b[0;32m      2\u001b[0m _, _, infected_nodes_time_ret, informed_nodes_time_ret \u001b[38;5;241m=\u001b[39m simulate_spreading_n_nodes(G_retweet_lcc_df, G_social_df, max_degree_retweet, start_timestamp, end_timestamp, \u001b[38;5;28mlen\u001b[39m(G_retweet_lcc\u001b[38;5;241m.\u001b[39mnodes()), \u001b[38;5;28mlen\u001b[39m(G_social\u001b[38;5;241m.\u001b[39mnodes()), name\u001b[38;5;241m=\u001b[39m\u001b[38;5;124m\"\u001b[39m\u001b[38;5;124mretweet\u001b[39m\u001b[38;5;124m\"\u001b[39m, plot\u001b[38;5;241m=\u001b[39m\u001b[38;5;28;01mFalse\u001b[39;00m)\n",
      "Input \u001b[1;32mIn [13]\u001b[0m, in \u001b[0;36msimulate_spreading_n_nodes\u001b[1;34m(graph_df, social_network_df, seed_nodes, start_timestamp, end_timestamp, number_of_component_nodes, number_of_total_nodes, name, plot)\u001b[0m\n\u001b[0;32m      3\u001b[0m infected_nodes_n, informed_nodes_n, infected_nodes_time_n, informed_nodes_time_n \u001b[38;5;241m=\u001b[39m [], [], [], []\n\u001b[0;32m      5\u001b[0m \u001b[38;5;28;01mfor\u001b[39;00m node \u001b[38;5;129;01min\u001b[39;00m seed_nodes:\n\u001b[1;32m----> 6\u001b[0m     infected_nodes, informed_nodes, infected_nodes_time, informed_nodes_time \u001b[38;5;241m=\u001b[39m \u001b[43msimulate_spreading\u001b[49m\u001b[43m(\u001b[49m\u001b[43m\\\u001b[49m\n\u001b[0;32m      7\u001b[0m \u001b[43m            \u001b[49m\u001b[43mgraph_df\u001b[49m\u001b[43m,\u001b[49m\u001b[43m \u001b[49m\u001b[43msocial_network_df\u001b[49m\u001b[43m,\u001b[49m\u001b[43m \u001b[49m\u001b[43mnode\u001b[49m\u001b[43m,\u001b[49m\u001b[43m \u001b[49m\u001b[43mstart_timestamp\u001b[49m\u001b[43m,\u001b[49m\u001b[43m \u001b[49m\u001b[43mend_timestamp\u001b[49m\u001b[43m,\u001b[49m\u001b[43m \u001b[49m\u001b[43mnumber_of_component_nodes\u001b[49m\u001b[43m,\u001b[49m\u001b[43m \u001b[49m\u001b[43mnumber_of_total_nodes\u001b[49m\u001b[43m,\u001b[49m\u001b[43m \u001b[49m\u001b[43mname\u001b[49m\u001b[38;5;241;43m=\u001b[39;49m\u001b[43mname\u001b[49m\u001b[43m,\u001b[49m\u001b[43m \u001b[49m\u001b[43mplot\u001b[49m\u001b[38;5;241;43m=\u001b[39;49m\u001b[43mplot\u001b[49m\u001b[43m)\u001b[49m\n\u001b[0;32m      9\u001b[0m     infected_nodes_n\u001b[38;5;241m.\u001b[39mappend(infected_nodes)\n\u001b[0;32m     10\u001b[0m     informed_nodes_n\u001b[38;5;241m.\u001b[39mappend(informed_nodes)\n",
      "Input \u001b[1;32mIn [145]\u001b[0m, in \u001b[0;36msimulate_spreading\u001b[1;34m(graph_df, social_network_df, seed_node, start_timestamp, end_timestamp, number_of_component_nodes, number_of_total_nodes, name, plot)\u001b[0m\n\u001b[0;32m     91\u001b[0m         infected_nodes \u001b[38;5;241m*\u001b[39m\u001b[38;5;241m=\u001b[39m graph_nodes\n\u001b[0;32m     92\u001b[0m         \u001b[38;5;66;03m# Add nodes to the informed nodes that are connected to the infected nodes\u001b[39;00m\n\u001b[1;32m---> 93\u001b[0m         susceptible_informed_nodes \u001b[38;5;241m=\u001b[39m social_network_df[\u001b[43msocial_network_df\u001b[49m\u001b[43m[\u001b[49m\u001b[38;5;124;43m'\u001b[39;49m\u001b[38;5;124;43mtarget\u001b[39;49m\u001b[38;5;124;43m'\u001b[39;49m\u001b[43m]\u001b[49m\u001b[38;5;241;43m.\u001b[39;49m\u001b[43misin\u001b[49m\u001b[43m(\u001b[49m\u001b[43msusceptible_nodes\u001b[49m\u001b[43m)\u001b[49m][\u001b[38;5;124m'\u001b[39m\u001b[38;5;124msource\u001b[39m\u001b[38;5;124m'\u001b[39m]\n\u001b[0;32m     94\u001b[0m         informed_nodes[susceptible_informed_nodes] \u001b[38;5;241m=\u001b[39m \u001b[38;5;241m1\u001b[39m\n\u001b[0;32m     96\u001b[0m \u001b[38;5;66;03m#         sus_series = pd.Series(susceptible_nodes, name='target')\u001b[39;00m\n\u001b[0;32m     97\u001b[0m         \n\u001b[0;32m     98\u001b[0m \u001b[38;5;66;03m#         susceptible_informed_nodes = social_network_df.merge(sus_series, on='target', how='inner')['source']\u001b[39;00m\n\u001b[1;32m   (...)\u001b[0m\n\u001b[0;32m    103\u001b[0m         \n\u001b[0;32m    104\u001b[0m         \u001b[38;5;66;03m# Add the infected and informed nodes to the infected_nodes_time_dict\u001b[39;00m\n",
      "File \u001b[1;32m~\\Anaconda3\\lib\\site-packages\\pandas\\core\\series.py:5141\u001b[0m, in \u001b[0;36mSeries.isin\u001b[1;34m(self, values)\u001b[0m\n\u001b[0;32m   5068\u001b[0m \u001b[38;5;28;01mdef\u001b[39;00m \u001b[38;5;21misin\u001b[39m(\u001b[38;5;28mself\u001b[39m, values) \u001b[38;5;241m-\u001b[39m\u001b[38;5;241m>\u001b[39m Series:\n\u001b[0;32m   5069\u001b[0m     \u001b[38;5;124;03m\"\"\"\u001b[39;00m\n\u001b[0;32m   5070\u001b[0m \u001b[38;5;124;03m    Whether elements in Series are contained in `values`.\u001b[39;00m\n\u001b[0;32m   5071\u001b[0m \n\u001b[1;32m   (...)\u001b[0m\n\u001b[0;32m   5139\u001b[0m \u001b[38;5;124;03m    dtype: bool\u001b[39;00m\n\u001b[0;32m   5140\u001b[0m \u001b[38;5;124;03m    \"\"\"\u001b[39;00m\n\u001b[1;32m-> 5141\u001b[0m     result \u001b[38;5;241m=\u001b[39m \u001b[43malgorithms\u001b[49m\u001b[38;5;241;43m.\u001b[39;49m\u001b[43misin\u001b[49m\u001b[43m(\u001b[49m\u001b[38;5;28;43mself\u001b[39;49m\u001b[38;5;241;43m.\u001b[39;49m\u001b[43m_values\u001b[49m\u001b[43m,\u001b[49m\u001b[43m \u001b[49m\u001b[43mvalues\u001b[49m\u001b[43m)\u001b[49m\n\u001b[0;32m   5142\u001b[0m     \u001b[38;5;28;01mreturn\u001b[39;00m \u001b[38;5;28mself\u001b[39m\u001b[38;5;241m.\u001b[39m_constructor(result, index\u001b[38;5;241m=\u001b[39m\u001b[38;5;28mself\u001b[39m\u001b[38;5;241m.\u001b[39mindex)\u001b[38;5;241m.\u001b[39m__finalize__(\n\u001b[0;32m   5143\u001b[0m         \u001b[38;5;28mself\u001b[39m, method\u001b[38;5;241m=\u001b[39m\u001b[38;5;124m\"\u001b[39m\u001b[38;5;124misin\u001b[39m\u001b[38;5;124m\"\u001b[39m\n\u001b[0;32m   5144\u001b[0m     )\n",
      "File \u001b[1;32m~\\Anaconda3\\lib\\site-packages\\pandas\\core\\algorithms.py:521\u001b[0m, in \u001b[0;36misin\u001b[1;34m(comps, values)\u001b[0m\n\u001b[0;32m    518\u001b[0m     comps \u001b[38;5;241m=\u001b[39m comps\u001b[38;5;241m.\u001b[39mastype(common, copy\u001b[38;5;241m=\u001b[39m\u001b[38;5;28;01mFalse\u001b[39;00m)\n\u001b[0;32m    519\u001b[0m     f \u001b[38;5;241m=\u001b[39m htable\u001b[38;5;241m.\u001b[39mismember\n\u001b[1;32m--> 521\u001b[0m \u001b[38;5;28;01mreturn\u001b[39;00m \u001b[43mf\u001b[49m\u001b[43m(\u001b[49m\u001b[43mcomps\u001b[49m\u001b[43m,\u001b[49m\u001b[43m \u001b[49m\u001b[43mvalues\u001b[49m\u001b[43m)\u001b[49m\n",
      "File \u001b[1;32m<__array_function__ internals>:5\u001b[0m, in \u001b[0;36min1d\u001b[1;34m(*args, **kwargs)\u001b[0m\n",
      "File \u001b[1;32m~\\Anaconda3\\lib\\site-packages\\numpy\\lib\\arraysetops.py:608\u001b[0m, in \u001b[0;36min1d\u001b[1;34m(ar1, ar2, assume_unique, invert)\u001b[0m\n\u001b[0;32m    606\u001b[0m         mask \u001b[38;5;241m=\u001b[39m np\u001b[38;5;241m.\u001b[39mzeros(\u001b[38;5;28mlen\u001b[39m(ar1), dtype\u001b[38;5;241m=\u001b[39m\u001b[38;5;28mbool\u001b[39m)\n\u001b[0;32m    607\u001b[0m         \u001b[38;5;28;01mfor\u001b[39;00m a \u001b[38;5;129;01min\u001b[39;00m ar2:\n\u001b[1;32m--> 608\u001b[0m             mask \u001b[38;5;241m|\u001b[39m\u001b[38;5;241m=\u001b[39m (\u001b[43mar1\u001b[49m\u001b[43m \u001b[49m\u001b[38;5;241;43m==\u001b[39;49m\u001b[43m \u001b[49m\u001b[43ma\u001b[49m)\n\u001b[0;32m    609\u001b[0m     \u001b[38;5;28;01mreturn\u001b[39;00m mask\n\u001b[0;32m    611\u001b[0m \u001b[38;5;66;03m# Otherwise use sorting\u001b[39;00m\n",
      "\u001b[1;31mKeyboardInterrupt\u001b[0m: "
     ]
    }
   ],
   "source": [
    "_, _, infected_nodes_time_rep, informed_nodes_time_rep = simulate_spreading_n_nodes(G_reply_lcc_df, G_social_df, max_degree_reply, start_timestamp, end_timestamp, len(G_reply_lcc.nodes()), len(G_social.nodes()), name=\"reply\", plot=False)\n",
    "_, _, infected_nodes_time_ret, informed_nodes_time_ret = simulate_spreading_n_nodes(G_retweet_lcc_df, G_social_df, max_degree_retweet, start_timestamp, end_timestamp, len(G_retweet_lcc.nodes()), len(G_social.nodes()), name=\"retweet\", plot=False)"
   ]
  },
  {
   "cell_type": "code",
   "execution_count": 17,
   "metadata": {},
   "outputs": [],
   "source": [
    "infected_nodes_time_rep, informed_nodes_time_rep = np.array(infected_nodes_time_rep), np.array(informed_nodes_time_rep)\n",
    "infected_nodes_time_ret, informed_nodes_time_ret = np.array(infected_nodes_time_ret), np.array(informed_nodes_time_ret)"
   ]
  },
  {
   "cell_type": "code",
   "execution_count": 124,
   "metadata": {},
   "outputs": [],
   "source": [
    "min_x = \n",
    "max_x = -1\n",
    "corr_n = get_crosscorr(np.array(infected_nodes_time_rep)[:, min_x:max_x], np.array(infected_nodes_time_ret)[:, min_x:max_x])"
   ]
  },
  {
   "cell_type": "code",
   "execution_count": 125,
   "metadata": {},
   "outputs": [
    {
     "name": "stderr",
     "output_type": "stream",
     "text": [
      "C:\\Users\\drobi\\AppData\\Local\\Temp\\ipykernel_20668\\1895130831.py:1: RuntimeWarning: invalid value encountered in true_divide\n",
      "  corr_n = np.nan_to_num([c/np.max(c) for c in corr_n[:]])\n"
     ]
    }
   ],
   "source": [
    "corr_n = np.nan_to_num([c/np.max(c) for c in corr_n[:]])"
   ]
  },
  {
   "cell_type": "code",
   "execution_count": 126,
   "metadata": {
    "scrolled": false
   },
   "outputs": [
    {
     "data": {
      "image/png": "[encoded data removed]",
      "text/plain": [
       "<Figure size 432x288 with 1 Axes>"
      ]
     },
     "metadata": {
      "needs_background": "light"
     },
     "output_type": "display_data"
    }
   ],
   "source": [
    "[plt.plot(c) for c in corr_n[:]]\n",
    "plt.show()"
   ]
  },
  {
   "cell_type": "code",
   "execution_count": 127,
   "metadata": {},
   "outputs": [],
   "source": [
    "corr = np.mean(corr_n[:], axis=0)"
   ]
  },
  {
   "cell_type": "code",
   "execution_count": 128,
   "metadata": {},
   "outputs": [
    {
     "data": {
      "text/plain": [
       "<matplotlib.collections.PathCollection at 0x2e73c4293a0>"
      ]
     },
     "execution_count": 128,
     "metadata": {},
     "output_type": "execute_result"
    },
    {
     "data": {
      "image/png": "[encoded data removed]",
      "text/plain": [
       "<Figure size 432x288 with 1 Axes>"
      ]
     },
     "metadata": {
      "needs_background": "light"
     },
     "output_type": "display_data"
    }
   ],
   "source": [
    "d = len(corr) // 2\n",
    "plt.plot(np.arange(-d, d + 1), corr)\n",
    "peaks = find_peaks(corr, distance=5)[0]\n",
    "plt.scatter(peaks - d, corr[peaks])\n",
    "plt.scatter(peaks - d, [0]*len(peaks))\n",
    "# plt.yscale('log')"
   ]
  },
  {
   "cell_type": "code",
   "execution_count": 130,
   "metadata": {},
   "outputs": [
    {
     "data": {
      "text/plain": [
       "[(0, 0.4056515588928507),\n",
       " (-5, 0.205613609475602),\n",
       " (6, 0.1629966299896914),\n",
       " (-12, 0.1530683164550091),\n",
       " (11, 0.13617227407348984),\n",
       " (-18, 0.11014866022744513),\n",
       " (-42, 0.10362229954018909),\n",
       " (-25, 0.09537619135126746),\n",
       " (-35, 0.08007298754268413),\n",
       " (27, 0.08006576813082779),\n",
       " (-67, 0.07798807661299974),\n",
       " (17, 0.07259546329981703),\n",
       " (34, 0.07052978285387285),\n",
       " (-61, 0.06898613000130313),\n",
       " (-72, 0.06869277788901326),\n",
       " (-51, 0.06621984068486948),\n",
       " (-30, 0.06198322338657427),\n",
       " (50, 0.05656209691981884),\n",
       " (41, 0.046897960981816755),\n",
       " (-81, 0.038799425792134364),\n",
       " (59, 0.028725884550013955),\n",
       " (72, 0.024118030769731544),\n",
       " (65, 0.0213139820320495),\n",
       " (-95, 0.01719491965076581),\n",
       " (-88, 0.01571700632867455),\n",
       " (79, 0.01425370236485623),\n",
       " (-100, 0.009469632153916977),\n",
       " (-115, 0.00756052747483611),\n",
       " (87, 0.0059863130242768835),\n",
       " (-106, 0.0051650874573547865),\n",
       " (93, 0.004425782601683096),\n",
       " (100, 0.00319017840621178),\n",
       " (114, 0.002409534621036314),\n",
       " (106, 0.0024057459676533996),\n",
       " (-133, 0.0019241307699014469),\n",
       " (-139, 0.0017808585841435653),\n",
       " (119, 0.0016035060257912652),\n",
       " (126, 0.0012072218590251037),\n",
       " (-145, 0.0011596827077533574),\n",
       " (131, 0.0004304960075569651),\n",
       " (146, 0.0003452482875430065),\n",
       " (137, 0.00031033031396360657),\n",
       " (152, 0.0001520248234310266),\n",
       " (-156, 7.238358180130348e-05),\n",
       " (159, 4.709241378417821e-05),\n",
       " (-162, 4.173788334495093e-05)]"
      ]
     },
     "execution_count": 130,
     "metadata": {},
     "output_type": "execute_result"
    }
   ],
   "source": [
    "sorted([(x, y) for x, y in zip(peaks - d, corr[peaks])], key=lambda x: -x[1])"
   ]
  },
  {
   "cell_type": "code",
   "execution_count": null,
   "metadata": {},
   "outputs": [],
   "source": [
    "[plt.plot(i) for i in informed_nodes_time_rep[:, cutoff:]]"
   ]
  },
  {
   "cell_type": "code",
   "execution_count": 129,
   "metadata": {},
   "outputs": [
    {
     "data": {
      "image/png": "[encoded data removed]",
      "text/plain": [
       "<Figure size 432x288 with 1 Axes>"
      ]
     },
     "metadata": {
      "needs_background": "light"
     },
     "output_type": "display_data"
    }
   ],
   "source": [
    "plt.hist(G_retweet_df['timestamp'], bins=167)\n",
    "plt.yscale('log')"
   ]
  },
  {
   "cell_type": "code",
   "execution_count": null,
   "metadata": {},
   "outputs": [],
   "source": []
  }
 ],
 "metadata": {
  "kernelspec": {
   "display_name": "Python 3 (ipykernel)",
   "language": "python",
   "name": "python3"
  },
  "language_info": {
   "codemirror_mode": {
    "name": "ipython",
    "version": 3
   },
   "file_extension": ".py",
   "mimetype": "text/x-python",
   "name": "python",
   "nbconvert_exporter": "python",
   "pygments_lexer": "ipython3",
   "version": "3.9.12"
  }
 },
 "nbformat": 4,
 "nbformat_minor": 1
}
