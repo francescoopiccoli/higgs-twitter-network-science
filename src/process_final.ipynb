{
 "cells": [
  {
   "cell_type": "code",
   "execution_count": 67,
   "outputs": [],
   "source": [
    "import networkx as nx\n",
    "import pandas as pd\n",
    "import numpy as np\n",
    "import matplotlib.pyplot as plt\n",
    "from tqdm import tqdm\n",
    "from time import time"
   ],
   "metadata": {
    "collapsed": false
   }
  },
  {
   "cell_type": "code",
   "execution_count": 81,
   "outputs": [],
   "source": [
    "def create_subgraphs():\n",
    "    \"\"\"\n",
    "    Creates subgraphs of the Higgs dataset with the full timestamps\n",
    "    :return: nothing\n",
    "    \"\"\"\n",
    "    activity_time_path = \"../network-data/higgs-activity_time.txt\"\n",
    "    activity_time = pd.read_csv(activity_time_path, delimiter = ' ', names=['target', 'source', 'time', 'type'])\n",
    "\n",
    "    # create high resolution timestamped datasets\n",
    "    reply_timestamps_file_path = \"../output/reply_timestamps.edgelist\"\n",
    "    mention_timestamps_file_path = \"../output/mention_timestamps.edgelist\"\n",
    "    retweet_timestamps_file_path = \"../output/retweet_timestamps.edgelist\"\n",
    "\n",
    "    activity_time[activity_time['type'] == 'RE'][['source', 'target', 'time']].to_csv(reply_timestamps_file_path, sep=' ', header=False, index=False)\n",
    "    # activity_time[activity_time['type'] == 'MT'][['source', 'target', 'time']]\\\n",
    "    # .to_csv(mention_timestamps_file_path, sep=' ', header=False, index=False)\n",
    "    activity_time[activity_time['type'] == 'MT'][['source', 'target', 'time']].to_csv(retweet_timestamps_file_path, sep=' ', header=False, index=False)\n",
    "    # Swap source and target columns in the retweet dataset to effectively simulate the dataflow (as mentioned on the website)\n",
    "    activity_time[activity_time['type'] == 'RT'][['source', 'target', 'time']].to_csv(retweet_timestamps_file_path, sep=' ', header=False, index=False)\n",
    "\n",
    "def largest_connected_component(G):\n",
    "    \"\"\"\n",
    "    Returns the largest connected component of a graph\n",
    "    :param G: graph\n",
    "    :return: largest connected component\n",
    "    \"\"\"\n",
    "    # not supported for directed networks\n",
    "    if isinstance(G, nx.DiGraph):\n",
    "        return G.subgraph(max(nx.weakly_connected_components(G), key=len))\n",
    "    else:\n",
    "        return G.subgraph(max(nx.connected_components(G), key=len))\n",
    "\n",
    "def build_df_from_graph(graph, bin_size=1000):\n",
    "    graph_df = pd.DataFrame(graph.edges(data=True), columns=['source', 'target', 'attribute'])\n",
    "    # Extract the 'timestamp' attribute from the 'attribute' column and add it as a separate column\n",
    "    graph_df['timestamp'] = [d['time'] for d in graph_df['attribute']]\n",
    "    min_t = min(graph_df['timestamp'])\n",
    "\n",
    "    # Hardcoded normalizing to ~1000 timesteps\n",
    "    graph_df['timestamp'] = ((graph_df['timestamp'] - min_t) / bin_size).astype(int)\n",
    "    # subgraph_df['timestamp'] = ((subgraph_df['timestamp'] - min_t)).astype(int)\n",
    "    # Drop the 'attribute' column, which is no longer needed\n",
    "    graph_df.drop('attribute', axis=1, inplace=True)\n",
    "\n",
    "    graph_df = graph_df.sort_values(by=['timestamp'])\n",
    "    graph_df.reset_index(drop=True, inplace=True)\n",
    "\n",
    "    return graph_df\n",
    "\n",
    "def build_social_network_df(graph):\n",
    "    social_network_df = pd.DataFrame(graph.edges(data=True), columns=['source', 'target', 'attribute'])\n",
    "        # Drop the 'attribute' column, which is no longer needed\n",
    "    social_network_df.drop('attribute', axis=1, inplace=True)\n",
    "    social_network_df = social_network_df.drop_duplicates()\n",
    "    return social_network_df\n",
    "\n",
    "def simulate_spreading(graph_df, social_network_df, seed_node, start_timestamp, end_timestamp, number_of_nodes, name=\"name_not_given\", plot=True):\n",
    "\n",
    "    min_timestamp = start_timestamp\n",
    "    max_timestamp = end_timestamp\n",
    "    # Get the number of nodes in the graph\n",
    "    infected_nodes = np.zeros(max(social_network_df['source'].max(), social_network_df['target'].max()) + 1)\n",
    "    infected_nodes[seed_node] = 1\n",
    "\n",
    "    informed_nodes =  np.zeros(max(social_network_df['source'].max(), social_network_df['target'].max()) + 1)\n",
    "    informed_nodes[seed_node] = 1\n",
    "    informed_nodes[social_network_df[social_network_df['source'] == seed_node]['target'].values[0]] = 1\n",
    "\n",
    "    infected_nodes_time = [infected_nodes.sum()/number_of_nodes]\n",
    "    informed_nodes_time = [informed_nodes.sum()/number_of_nodes]\n",
    "    # Iterate over all timestamps\n",
    "    for timestamp in range(min_timestamp, max_timestamp+1):\n",
    "        print(f'Graph: {name} Timestamp: {timestamp}/{max_timestamp} --- ', end='\\r')\n",
    "        # For each timestamp get the edges that were created on that timestamp\n",
    "        edges = graph_df[graph_df['timestamp'] == timestamp]\n",
    "        # Take the dataframe subset where either the source or the target is in the infected nodes\n",
    "        susceptible_nodes= edges[(infected_nodes[edges['source']] == 1)]['target']\n",
    "        # Add the susceptible nodes to the infected nodes\n",
    "        infected_nodes[susceptible_nodes] = 1\n",
    "        # Add nodes to the informed nodes that are connected to the infected nodes\n",
    "        susceptible_informed_nodes = social_network_df[social_network_df['source'].isin(susceptible_nodes)]['target']\n",
    "        informed_nodes[susceptible_informed_nodes] = 1\n",
    "        # Add the infected and informed nodes to the infected_nodes_time_dict\n",
    "        infected_nodes_time.append(infected_nodes.sum()/number_of_nodes)\n",
    "        informed_nodes_time.append(informed_nodes.sum()/number_of_nodes)\n",
    "\n",
    "    # TODO: Add modelling of change in the number of infected and informed nodes\n",
    "\n",
    "    # last_infected_n = 0\n",
    "    # infected_nodes_new_it = []\n",
    "    #\n",
    "    # # add the difference between current infected and last infected\n",
    "    # for inf_nodes in infected_nodes_time:\n",
    "    #     n_inf = len(inf_nodes) - last_infected_n\n",
    "    #     infected_nodes_new_it.append(n_inf/number_of_nodes)\n",
    "    #     last_infected_n = len(inf_nodes)\n",
    "    #\n",
    "    # infected_nodes_ratio_time_count.append(infected_nodes_ratio_time_count_it)\n",
    "    # infected_nodes_new.append(infected_nodes_new_it)\n",
    "    #\n",
    "    # # average over iterations\n",
    "    # infected_nodes_ratio_time_count = np.mean(infected_nodes_ratio_time_count, axis=0)\n",
    "    # infected_nodes_new = np.mean(infected_nodes_new, axis=0)\n",
    "\n",
    "    if plot:\n",
    "        plt.plot(np.arange(min_timestamp, max_timestamp+2), infected_nodes_time, label=f'{name}' + ' infected nodes', alpha=0.8)\n",
    "        plt.plot(np.arange(min_timestamp, max_timestamp+2), informed_nodes_time, label=f'{name}' + ' informed nodes', alpha=0.8)\n",
    "        plt.legend()\n",
    "    return infected_nodes, informed_nodes\n",
    "\n",
    "def get_start_end_combined(subgraph_reply_df, subgraph_mention_df, subgraph_retweet_df):\n",
    "    start_timestamp_reply = min(subgraph_reply_df['timestamp'])\n",
    "    start_timestamp_mention = min(subgraph_mention_df['timestamp'])\n",
    "    start_timestamp_retweet = min(subgraph_retweet_df['timestamp'])\n",
    "    end_timestamp_reply = max(subgraph_reply_df['timestamp'])\n",
    "    end_timestamp_mention = max(subgraph_mention_df['timestamp'])\n",
    "    end_timestamp_retweet = max(subgraph_retweet_df['timestamp'])\n",
    "\n",
    "    start_timestamp = min(start_timestamp_reply, start_timestamp_mention, start_timestamp_retweet)\n",
    "    end_timestamp = max(end_timestamp_reply, end_timestamp_mention, end_timestamp_retweet)\n",
    "    return start_timestamp, end_timestamp"
   ],
   "metadata": {
    "collapsed": false
   }
  },
  {
   "cell_type": "code",
   "execution_count": 38,
   "outputs": [],
   "source": [
    "create_subgraphs()"
   ],
   "metadata": {
    "collapsed": false
   }
  },
  {
   "cell_type": "code",
   "execution_count": 20,
   "outputs": [],
   "source": [
    "G_reply = nx.read_edgelist(\"../output/reply_timestamps.edgelist\", nodetype=int, data=(('time',int),), create_using=nx.DiGraph)\n",
    "G_mention = nx.read_edgelist(\"../output/mention_timestamps.edgelist\", nodetype=int, data=(('time', int),),  create_using=nx.DiGraph)\n",
    "G_retweet = nx.read_edgelist(\"../output/retweet_timestamps.edgelist\", nodetype=int, data=(('time', int),), create_using=nx.DiGraph)\n",
    "G_social = nx.read_edgelist(\"../network-data/higgs-social_network.edgelist\", nodetype=int)\n",
    "\n",
    "G_reply_lcc = largest_connected_component(G_reply)\n",
    "G_mention_lcc = largest_connected_component(G_mention)\n",
    "G_retweet_lcc = largest_connected_component(G_retweet)"
   ],
   "metadata": {
    "collapsed": false
   }
  },
  {
   "cell_type": "code",
   "execution_count": 58,
   "outputs": [],
   "source": [
    "G_reply_lcc_df = build_df_from_graph(G_reply_lcc)\n",
    "G_mention_lcc_df = build_df_from_graph(G_mention_lcc)\n",
    "G_retweet_lcc_df = build_df_from_graph(G_retweet_lcc)"
   ],
   "metadata": {
    "collapsed": false
   }
  },
  {
   "cell_type": "code",
   "execution_count": 55,
   "outputs": [],
   "source": [
    "G_social_df = build_social_network_df(G_social)"
   ],
   "metadata": {
    "collapsed": false
   }
  },
  {
   "cell_type": "code",
   "execution_count": 56,
   "outputs": [
    {
     "name": "stdout",
     "output_type": "stream",
     "text": [
      "DiGraph with 223833 nodes and 308596 edges\n",
      "DiGraph with 91606 nodes and 132068 edges\n",
      "DiGraph with 12839 nodes and 14944 edges\n",
      "Graph with 456626 nodes and 12508436 edges\n"
     ]
    }
   ],
   "source": [
    "print(G_retweet_lcc)\n",
    "print(G_mention_lcc)\n",
    "print(G_reply_lcc)\n",
    "print(G_social)"
   ],
   "metadata": {
    "collapsed": false
   }
  },
  {
   "cell_type": "code",
   "execution_count": 32,
   "outputs": [
    {
     "name": "stdout",
     "output_type": "stream",
     "text": [
      "677\n"
     ]
    }
   ],
   "source": [
    "max_degree_reply = max(G_reply.out_degree(), key=lambda x: x[1])[0]\n",
    "max_degree_retweet = max(G_retweet.out_degree(), key=lambda x: x[1])[0]\n",
    "max_degree_mention = max(G_mention.out_degree(), key=lambda x: x[1])[0]\n",
    "\n",
    "print(max_degree_reply)"
   ],
   "metadata": {
    "collapsed": false
   }
  },
  {
   "cell_type": "code",
   "execution_count": 59,
   "outputs": [
    {
     "name": "stdout",
     "output_type": "stream",
     "text": [
      "0\n",
      "604\n"
     ]
    }
   ],
   "source": [
    "start_timestamp, end_timestamp = get_start_end_combined(G_reply_lcc_df, G_mention_lcc_df, G_retweet_lcc_df)\n",
    "print(start_timestamp)\n",
    "print(end_timestamp)"
   ],
   "metadata": {
    "collapsed": false
   }
  },
  {
   "cell_type": "code",
   "execution_count": 82,
   "outputs": [
    {
     "name": "stdout",
     "output_type": "stream",
     "text": [
      "Graph: reply Timestamp: 604/604 --- \r"
     ]
    },
    {
     "data": {
      "text/plain": "<Figure size 640x480 with 1 Axes>",
      "image/png": "[encoded data removed]"
     },
     "metadata": {},
     "output_type": "display_data"
    }
   ],
   "source": [
    "infected_nodes, informed_nodes = simulate_spreading(G_reply_lcc_df, G_social_df, max_degree_reply, start_timestamp, end_timestamp, len(G_social.nodes()), name=\"reply\", plot=True)"
   ],
   "metadata": {
    "collapsed": false
   }
  },
  {
   "cell_type": "code",
   "execution_count": null,
   "outputs": [],
   "source": [],
   "metadata": {
    "collapsed": false
   }
  }
 ],
 "metadata": {
  "kernelspec": {
   "display_name": "Python 3",
   "language": "python",
   "name": "python3"
  },
  "language_info": {
   "codemirror_mode": {
    "name": "ipython",
    "version": 2
   },
   "file_extension": ".py",
   "mimetype": "text/x-python",
   "name": "python",
   "nbconvert_exporter": "python",
   "pygments_lexer": "ipython2",
   "version": "2.7.6"
  }
 },
 "nbformat": 4,
 "nbformat_minor": 0
}
