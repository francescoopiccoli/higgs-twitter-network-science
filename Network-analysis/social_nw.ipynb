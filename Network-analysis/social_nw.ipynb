{
 "cells": [
  {
   "cell_type": "code",
   "execution_count": 1,
   "id": "41d0865f",
   "metadata": {},
   "outputs": [
    {
     "name": "stdout",
     "output_type": "stream",
     "text": [
      "['C:\\\\Users\\\\drobi\\\\Desktop\\\\uni\\\\CS4195\\\\higgs-twitter-network-science\\\\Network-analysis', 'C:\\\\Users\\\\drobi\\\\Anaconda3\\\\python39.zip', 'C:\\\\Users\\\\drobi\\\\Anaconda3\\\\DLLs', 'C:\\\\Users\\\\drobi\\\\Anaconda3\\\\lib', 'C:\\\\Users\\\\drobi\\\\Anaconda3', '', 'C:\\\\Users\\\\drobi\\\\AppData\\\\Roaming\\\\Python\\\\Python39\\\\site-packages', 'C:\\\\Users\\\\drobi\\\\Anaconda3\\\\lib\\\\site-packages', 'C:\\\\Users\\\\drobi\\\\Anaconda3\\\\lib\\\\site-packages\\\\win32', 'C:\\\\Users\\\\drobi\\\\Anaconda3\\\\lib\\\\site-packages\\\\win32\\\\lib', 'C:\\\\Users\\\\drobi\\\\Anaconda3\\\\lib\\\\site-packages\\\\Pythonwin', '../']\n"
     ]
    }
   ],
   "source": [
    "import numpy as np\n",
    "import utilities as util\n",
    "import os\n",
    "import seaborn as sns"
   ]
  },
  {
   "cell_type": "code",
   "execution_count": null,
   "id": "3ee9632c",
   "metadata": {},
   "outputs": [],
   "source": [
    "os.chdir('../')\n",
    "df_social_network = util.create_df_from_edge_list('network-data/higgs-social_network.edgelist', names=['ID1','ID2'])\n",
    "os.chdir('Network-analysis/')\n",
    "G_social_network = util.create_graph_from_df(df_social_network, source='ID1', target='ID2')"
   ]
  },
  {
   "cell_type": "code",
   "execution_count": null,
   "id": "a63d9327",
   "metadata": {},
   "outputs": [],
   "source": [
    "num_nodes = G_social_network.number_of_nodes()\n",
    "num_edges = G_social_network.number_of_edges()\n",
    "avg_degree = util.get_avg_degree(G_social_network)\n",
    "var_degree = util.get_var_degree_distribution(G_social_network)\n",
    "std_degree = np.sqrt(var_degree)"
   ]
  },
  {
   "cell_type": "code",
   "execution_count": null,
   "id": "839f470a",
   "metadata": {},
   "outputs": [],
   "source": [
    "degree_distribution = util.get_degree_distribution(G_social_network)\n",
    "print(degree_distribution)\n",
    "ax = sns.displot(degree_distribution, kde=True, log_scale=True)\n",
    "ax.set(xlabel='Degree', ylabel='Count')"
   ]
  },
  {
   "cell_type": "code",
   "execution_count": null,
   "id": "cd95a814",
   "metadata": {},
   "outputs": [],
   "source": []
  }
 ],
 "metadata": {
  "jupytext": {
   "cell_metadata_filter": "-all",
   "main_language": "python",
   "notebook_metadata_filter": "-all"
  },
  "kernelspec": {
   "display_name": "Python 3 (ipykernel)",
   "language": "python",
   "name": "python3"
  },
  "language_info": {
   "codemirror_mode": {
    "name": "ipython",
    "version": 3
   },
   "file_extension": ".py",
   "mimetype": "text/x-python",
   "name": "python",
   "nbconvert_exporter": "python",
   "pygments_lexer": "ipython3",
   "version": "3.9.12"
  }
 },
 "nbformat": 4,
 "nbformat_minor": 5
}
