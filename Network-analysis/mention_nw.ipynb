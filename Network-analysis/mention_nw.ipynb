{
 "cells": [
  {
   "cell_type": "code",
   "execution_count": 5,
   "id": "50e80fae",
   "metadata": {},
   "outputs": [],
   "source": [
    "import numpy as np\n",
    "import utilities as util\n",
    "import os\n",
    "import seaborn as sns"
   ]
  },
  {
   "cell_type": "code",
   "execution_count": 6,
   "id": "175cc15c",
   "metadata": {},
   "outputs": [],
   "source": [
    "os.chdir('../')\n",
    "df_mention = util.create_df_from_edge_list('network-data/higgs-mention_network.edgelist')\n",
    "os.chdir('Network-analysis/')\n",
    "G_mention = util.create_graph_from_df(df_mention, edge_attr='Day')"
   ]
  },
  {
   "cell_type": "code",
   "execution_count": 7,
   "id": "a967f0f1",
   "metadata": {},
   "outputs": [],
   "source": [
    "num_nodes = G_mention.number_of_nodes()\n",
    "num_edges = G_mention.number_of_edges()\n",
    "avg_degree = util.get_avg_degree(G_mention)\n",
    "var_degree = util.get_var_degree_distribution(G_mention)\n",
    "std_degree = np.sqrt(var_degree)"
   ]
  },
  {
   "cell_type": "code",
   "execution_count": 8,
   "id": "48044db0",
   "metadata": {},
   "outputs": [
    {
     "name": "stdout",
     "output_type": "stream",
     "text": [
      "11957\n",
      "{11957: 1, 3914: 1, 2537: 1, 1603: 1, 1591: 1, 1529: 1, 1358: 1, 1190: 1, 1067: 1, 805: 1, 781: 1, 745: 1, 737: 1, 718: 1, 705: 1, 685: 1, 680: 1, 625: 1, 621: 1, 573: 1, 563: 1, 515: 1, 500: 1, 499: 1, 456: 1, 455: 1, 419: 1, 406: 1, 398: 1, 394: 1, 386: 1, 383: 1, 381: 1, 365: 1, 362: 1, 360: 1, 352: 1, 346: 1, 343: 1, 340: 1, 336: 2, 324: 1, 284: 1, 274: 1, 273: 1, 272: 1, 268: 1, 259: 1, 256: 1, 254: 1, 253: 1, 252: 1, 250: 2, 249: 1, 245: 1, 236: 1, 232: 1, 230: 1, 228: 1, 223: 1, 220: 2, 213: 1, 212: 1, 211: 1, 210: 1, 204: 2, 203: 1, 190: 1, 189: 1, 188: 1, 185: 2, 184: 1, 181: 1, 180: 1, 179: 1, 178: 2, 174: 1, 171: 1, 170: 1, 169: 3, 168: 1, 167: 1, 166: 1, 165: 1, 164: 1, 163: 1, 161: 1, 160: 1, 158: 1, 156: 4, 155: 1, 153: 1, 152: 2, 150: 1, 149: 1, 148: 1, 147: 2, 146: 1, 142: 1, 141: 1, 138: 2, 137: 2, 136: 1, 134: 1, 131: 3, 130: 2, 129: 3, 128: 2, 127: 2, 126: 1, 125: 2, 124: 2, 123: 3, 122: 2, 121: 1, 119: 2, 118: 2, 117: 1, 113: 2, 112: 5, 111: 3, 110: 3, 109: 1, 108: 4, 107: 2, 106: 1, 104: 3, 103: 2, 102: 2, 101: 3, 100: 1, 99: 4, 98: 1, 97: 2, 96: 2, 95: 3, 94: 1, 93: 3, 92: 1, 91: 6, 90: 3, 89: 2, 88: 2, 87: 1, 86: 1, 85: 1, 84: 7, 83: 2, 82: 4, 81: 1, 80: 2, 79: 3, 76: 6, 74: 3, 73: 6, 72: 2, 71: 3, 70: 7, 69: 4, 68: 2, 67: 4, 66: 1, 65: 4, 64: 4, 63: 4, 62: 6, 61: 2, 60: 3, 59: 5, 58: 6, 57: 9, 56: 6, 55: 4, 54: 6, 53: 3, 52: 9, 51: 10, 50: 10, 49: 6, 48: 6, 47: 8, 46: 7, 45: 8, 44: 8, 43: 10, 42: 12, 41: 5, 40: 9, 39: 8, 38: 10, 37: 15, 36: 15, 35: 20, 34: 16, 33: 18, 32: 20, 31: 21, 30: 15, 29: 24, 28: 26, 27: 28, 26: 27, 25: 37, 24: 27, 23: 36, 22: 25, 21: 38, 20: 54, 19: 55, 18: 58, 17: 69, 16: 104, 15: 95, 14: 106, 13: 134, 12: 189, 11: 210, 10: 262, 9: 403, 8: 484, 7: 699, 6: 1070, 5: 1758, 4: 3439, 3: 7368, 2: 18319, 1: 80667}\n"
     ]
    },
    {
     "ename": "KeyboardInterrupt",
     "evalue": "",
     "output_type": "error",
     "traceback": [
      "\u001b[0;31m---------------------------------------------------------------------------\u001b[0m",
      "\u001b[0;31mKeyboardInterrupt\u001b[0m                         Traceback (most recent call last)",
      "Cell \u001b[0;32mIn[8], line 5\u001b[0m\n\u001b[1;32m      3\u001b[0m degree_distribution \u001b[39m=\u001b[39m util\u001b[39m.\u001b[39mget_degree_distribution(G_mention)\n\u001b[1;32m      4\u001b[0m \u001b[39mprint\u001b[39m(degree_distribution)\n\u001b[0;32m----> 5\u001b[0m ax \u001b[39m=\u001b[39m sns\u001b[39m.\u001b[39;49mdisplot(degree_distribution, kde\u001b[39m=\u001b[39;49m\u001b[39mTrue\u001b[39;49;00m)\n\u001b[1;32m      6\u001b[0m ax\u001b[39m.\u001b[39mset(xlabel\u001b[39m=\u001b[39m\u001b[39m'\u001b[39m\u001b[39mDegree\u001b[39m\u001b[39m'\u001b[39m, ylabel\u001b[39m=\u001b[39m\u001b[39m'\u001b[39m\u001b[39mCount\u001b[39m\u001b[39m'\u001b[39m)\n",
      "File \u001b[0;32m~/opt/anaconda3/envs/higgs-twitter-project-env/lib/python3.10/site-packages/seaborn/distributions.py:2210\u001b[0m, in \u001b[0;36mdisplot\u001b[0;34m(data, x, y, hue, row, col, weights, kind, rug, rug_kws, log_scale, legend, palette, hue_order, hue_norm, color, col_wrap, row_order, col_order, height, aspect, facet_kws, **kwargs)\u001b[0m\n\u001b[1;32m   2207\u001b[0m \u001b[39mif\u001b[39;00m p\u001b[39m.\u001b[39munivariate:\n\u001b[1;32m   2209\u001b[0m     _assign_default_kwargs(hist_kws, p\u001b[39m.\u001b[39mplot_univariate_histogram, histplot)\n\u001b[0;32m-> 2210\u001b[0m     p\u001b[39m.\u001b[39;49mplot_univariate_histogram(\u001b[39m*\u001b[39;49m\u001b[39m*\u001b[39;49mhist_kws)\n\u001b[1;32m   2212\u001b[0m \u001b[39melse\u001b[39;00m:\n\u001b[1;32m   2214\u001b[0m     _assign_default_kwargs(hist_kws, p\u001b[39m.\u001b[39mplot_bivariate_histogram, histplot)\n",
      "File \u001b[0;32m~/opt/anaconda3/envs/higgs-twitter-project-env/lib/python3.10/site-packages/seaborn/distributions.py:575\u001b[0m, in \u001b[0;36m_DistributionPlotter.plot_univariate_histogram\u001b[0;34m(self, multiple, element, fill, common_norm, common_bins, shrink, kde, kde_kws, color, legend, line_kws, estimate_kws, **plot_kws)\u001b[0m\n\u001b[1;32m    570\u001b[0m \u001b[39mif\u001b[39;00m element \u001b[39m==\u001b[39m \u001b[39m\"\u001b[39m\u001b[39mbars\u001b[39m\u001b[39m\"\u001b[39m:\n\u001b[1;32m    571\u001b[0m \n\u001b[1;32m    572\u001b[0m     \u001b[39m# Use matplotlib bar plotting\u001b[39;00m\n\u001b[1;32m    574\u001b[0m     plot_func \u001b[39m=\u001b[39m ax\u001b[39m.\u001b[39mbar \u001b[39mif\u001b[39;00m \u001b[39mself\u001b[39m\u001b[39m.\u001b[39mdata_variable \u001b[39m==\u001b[39m \u001b[39m\"\u001b[39m\u001b[39mx\u001b[39m\u001b[39m\"\u001b[39m \u001b[39melse\u001b[39;00m ax\u001b[39m.\u001b[39mbarh\n\u001b[0;32m--> 575\u001b[0m     artists \u001b[39m=\u001b[39m plot_func(\n\u001b[1;32m    576\u001b[0m         hist[\u001b[39m\"\u001b[39;49m\u001b[39medges\u001b[39;49m\u001b[39m\"\u001b[39;49m],\n\u001b[1;32m    577\u001b[0m         hist[\u001b[39m\"\u001b[39;49m\u001b[39mheights\u001b[39;49m\u001b[39m\"\u001b[39;49m] \u001b[39m-\u001b[39;49m bottom,\n\u001b[1;32m    578\u001b[0m         hist[\u001b[39m\"\u001b[39;49m\u001b[39mwidths\u001b[39;49m\u001b[39m\"\u001b[39;49m],\n\u001b[1;32m    579\u001b[0m         bottom,\n\u001b[1;32m    580\u001b[0m         align\u001b[39m=\u001b[39;49m\u001b[39m\"\u001b[39;49m\u001b[39medge\u001b[39;49m\u001b[39m\"\u001b[39;49m,\n\u001b[1;32m    581\u001b[0m         \u001b[39m*\u001b[39;49m\u001b[39m*\u001b[39;49martist_kws,\n\u001b[1;32m    582\u001b[0m     )\n\u001b[1;32m    584\u001b[0m     \u001b[39mfor\u001b[39;00m bar \u001b[39min\u001b[39;00m artists:\n\u001b[1;32m    585\u001b[0m         \u001b[39mif\u001b[39;00m \u001b[39mself\u001b[39m\u001b[39m.\u001b[39mdata_variable \u001b[39m==\u001b[39m \u001b[39m\"\u001b[39m\u001b[39mx\u001b[39m\u001b[39m\"\u001b[39m:\n",
      "File \u001b[0;32m~/opt/anaconda3/envs/higgs-twitter-project-env/lib/python3.10/site-packages/matplotlib/__init__.py:1442\u001b[0m, in \u001b[0;36m_preprocess_data.<locals>.inner\u001b[0;34m(ax, data, *args, **kwargs)\u001b[0m\n\u001b[1;32m   1439\u001b[0m \u001b[39m@functools\u001b[39m\u001b[39m.\u001b[39mwraps(func)\n\u001b[1;32m   1440\u001b[0m \u001b[39mdef\u001b[39;00m \u001b[39minner\u001b[39m(ax, \u001b[39m*\u001b[39margs, data\u001b[39m=\u001b[39m\u001b[39mNone\u001b[39;00m, \u001b[39m*\u001b[39m\u001b[39m*\u001b[39mkwargs):\n\u001b[1;32m   1441\u001b[0m     \u001b[39mif\u001b[39;00m data \u001b[39mis\u001b[39;00m \u001b[39mNone\u001b[39;00m:\n\u001b[0;32m-> 1442\u001b[0m         \u001b[39mreturn\u001b[39;00m func(ax, \u001b[39m*\u001b[39;49m\u001b[39mmap\u001b[39;49m(sanitize_sequence, args), \u001b[39m*\u001b[39;49m\u001b[39m*\u001b[39;49mkwargs)\n\u001b[1;32m   1444\u001b[0m     bound \u001b[39m=\u001b[39m new_sig\u001b[39m.\u001b[39mbind(ax, \u001b[39m*\u001b[39margs, \u001b[39m*\u001b[39m\u001b[39m*\u001b[39mkwargs)\n\u001b[1;32m   1445\u001b[0m     auto_label \u001b[39m=\u001b[39m (bound\u001b[39m.\u001b[39marguments\u001b[39m.\u001b[39mget(label_namer)\n\u001b[1;32m   1446\u001b[0m                   \u001b[39mor\u001b[39;00m bound\u001b[39m.\u001b[39mkwargs\u001b[39m.\u001b[39mget(label_namer))\n",
      "File \u001b[0;32m~/opt/anaconda3/envs/higgs-twitter-project-env/lib/python3.10/site-packages/matplotlib/axes/_axes.py:2494\u001b[0m, in \u001b[0;36mAxes.bar\u001b[0;34m(self, x, height, width, bottom, align, **kwargs)\u001b[0m\n\u001b[1;32m   2492\u001b[0m     \u001b[39melse\u001b[39;00m:  \u001b[39m# horizontal\u001b[39;00m\n\u001b[1;32m   2493\u001b[0m         r\u001b[39m.\u001b[39msticky_edges\u001b[39m.\u001b[39mx\u001b[39m.\u001b[39mappend(l)\n\u001b[0;32m-> 2494\u001b[0m     \u001b[39mself\u001b[39;49m\u001b[39m.\u001b[39;49madd_patch(r)\n\u001b[1;32m   2495\u001b[0m     patches\u001b[39m.\u001b[39mappend(r)\n\u001b[1;32m   2497\u001b[0m \u001b[39mif\u001b[39;00m xerr \u001b[39mis\u001b[39;00m \u001b[39mnot\u001b[39;00m \u001b[39mNone\u001b[39;00m \u001b[39mor\u001b[39;00m yerr \u001b[39mis\u001b[39;00m \u001b[39mnot\u001b[39;00m \u001b[39mNone\u001b[39;00m:\n",
      "File \u001b[0;32m~/opt/anaconda3/envs/higgs-twitter-project-env/lib/python3.10/site-packages/matplotlib/axes/_base.py:2379\u001b[0m, in \u001b[0;36m_AxesBase.add_patch\u001b[0;34m(self, p)\u001b[0m\n\u001b[1;32m   2377\u001b[0m \u001b[39mif\u001b[39;00m p\u001b[39m.\u001b[39mget_clip_path() \u001b[39mis\u001b[39;00m \u001b[39mNone\u001b[39;00m:\n\u001b[1;32m   2378\u001b[0m     p\u001b[39m.\u001b[39mset_clip_path(\u001b[39mself\u001b[39m\u001b[39m.\u001b[39mpatch)\n\u001b[0;32m-> 2379\u001b[0m \u001b[39mself\u001b[39;49m\u001b[39m.\u001b[39;49m_update_patch_limits(p)\n\u001b[1;32m   2380\u001b[0m \u001b[39mself\u001b[39m\u001b[39m.\u001b[39m_children\u001b[39m.\u001b[39mappend(p)\n\u001b[1;32m   2381\u001b[0m p\u001b[39m.\u001b[39m_remove_method \u001b[39m=\u001b[39m \u001b[39mself\u001b[39m\u001b[39m.\u001b[39m_children\u001b[39m.\u001b[39mremove\n",
      "File \u001b[0;32m~/opt/anaconda3/envs/higgs-twitter-project-env/lib/python3.10/site-packages/matplotlib/axes/_base.py:2401\u001b[0m, in \u001b[0;36m_AxesBase._update_patch_limits\u001b[0;34m(self, patch)\u001b[0m\n\u001b[1;32m   2398\u001b[0m \u001b[39m# Get all vertices on the path\u001b[39;00m\n\u001b[1;32m   2399\u001b[0m \u001b[39m# Loop through each segment to get extrema for Bezier curve sections\u001b[39;00m\n\u001b[1;32m   2400\u001b[0m vertices \u001b[39m=\u001b[39m []\n\u001b[0;32m-> 2401\u001b[0m \u001b[39mfor\u001b[39;00m curve, code \u001b[39min\u001b[39;00m p\u001b[39m.\u001b[39miter_bezier(simplify\u001b[39m=\u001b[39m\u001b[39mFalse\u001b[39;00m):\n\u001b[1;32m   2402\u001b[0m     \u001b[39m# Get distance along the curve of any extrema\u001b[39;00m\n\u001b[1;32m   2403\u001b[0m     _, dzeros \u001b[39m=\u001b[39m curve\u001b[39m.\u001b[39maxis_aligned_extrema()\n\u001b[1;32m   2404\u001b[0m     \u001b[39m# Calculate vertices of start, end and any extrema in between\u001b[39;00m\n",
      "File \u001b[0;32m~/opt/anaconda3/envs/higgs-twitter-project-env/lib/python3.10/site-packages/matplotlib/path.py:451\u001b[0m, in \u001b[0;36mPath.iter_bezier\u001b[0;34m(self, **kwargs)\u001b[0m\n\u001b[1;32m    449\u001b[0m     \u001b[39myield\u001b[39;00m BezierSegment(np\u001b[39m.\u001b[39marray([first_vert])), code\n\u001b[1;32m    450\u001b[0m \u001b[39melif\u001b[39;00m code \u001b[39m==\u001b[39m Path\u001b[39m.\u001b[39mLINETO:  \u001b[39m# \"CURVE2\"\u001b[39;00m\n\u001b[0;32m--> 451\u001b[0m     \u001b[39myield\u001b[39;00m BezierSegment(np\u001b[39m.\u001b[39;49marray([prev_vert, verts])), code\n\u001b[1;32m    452\u001b[0m \u001b[39melif\u001b[39;00m code \u001b[39m==\u001b[39m Path\u001b[39m.\u001b[39mCURVE3:\n\u001b[1;32m    453\u001b[0m     \u001b[39myield\u001b[39;00m BezierSegment(np\u001b[39m.\u001b[39marray([prev_vert, verts[:\u001b[39m2\u001b[39m],\n\u001b[1;32m    454\u001b[0m                                   verts[\u001b[39m2\u001b[39m:]])), code\n",
      "File \u001b[0;32m~/opt/anaconda3/envs/higgs-twitter-project-env/lib/python3.10/site-packages/matplotlib/bezier.py:194\u001b[0m, in \u001b[0;36mBezierSegment.__init__\u001b[0;34m(self, control_points)\u001b[0m\n\u001b[1;32m    192\u001b[0m \u001b[39mself\u001b[39m\u001b[39m.\u001b[39m_cpoints \u001b[39m=\u001b[39m np\u001b[39m.\u001b[39masarray(control_points)\n\u001b[1;32m    193\u001b[0m \u001b[39mself\u001b[39m\u001b[39m.\u001b[39m_N, \u001b[39mself\u001b[39m\u001b[39m.\u001b[39m_d \u001b[39m=\u001b[39m \u001b[39mself\u001b[39m\u001b[39m.\u001b[39m_cpoints\u001b[39m.\u001b[39mshape\n\u001b[0;32m--> 194\u001b[0m \u001b[39mself\u001b[39m\u001b[39m.\u001b[39m_orders \u001b[39m=\u001b[39m np\u001b[39m.\u001b[39;49marange(\u001b[39mself\u001b[39;49m\u001b[39m.\u001b[39;49m_N)\n\u001b[1;32m    195\u001b[0m coeff \u001b[39m=\u001b[39m [math\u001b[39m.\u001b[39mfactorial(\u001b[39mself\u001b[39m\u001b[39m.\u001b[39m_N \u001b[39m-\u001b[39m \u001b[39m1\u001b[39m)\n\u001b[1;32m    196\u001b[0m          \u001b[39m/\u001b[39m\u001b[39m/\u001b[39m (math\u001b[39m.\u001b[39mfactorial(i) \u001b[39m*\u001b[39m math\u001b[39m.\u001b[39mfactorial(\u001b[39mself\u001b[39m\u001b[39m.\u001b[39m_N \u001b[39m-\u001b[39m \u001b[39m1\u001b[39m \u001b[39m-\u001b[39m i))\n\u001b[1;32m    197\u001b[0m          \u001b[39mfor\u001b[39;00m i \u001b[39min\u001b[39;00m \u001b[39mrange\u001b[39m(\u001b[39mself\u001b[39m\u001b[39m.\u001b[39m_N)]\n\u001b[1;32m    198\u001b[0m \u001b[39mself\u001b[39m\u001b[39m.\u001b[39m_px \u001b[39m=\u001b[39m (\u001b[39mself\u001b[39m\u001b[39m.\u001b[39m_cpoints\u001b[39m.\u001b[39mT \u001b[39m*\u001b[39m coeff)\u001b[39m.\u001b[39mT\n",
      "\u001b[0;31mKeyboardInterrupt\u001b[0m: "
     ]
    }
   ],
   "source": [
    "degree_dict = dict(G_mention.degree())\n",
    "print(max(degree_dict.values()))\n",
    "degree_distribution = util.get_degree_distribution(G_mention)\n",
    "print(degree_distribution)\n",
    "ax = sns.displot(degree_distribution, kde=True)\n",
    "ax.set(xlabel='Degree', ylabel='Count')"
   ]
  },
  {
   "cell_type": "markdown",
   "id": "09d3903b",
   "metadata": {},
   "source": [
    "betweenness_centrality = nx.betweenness_centrality(G_mention)\n",
    "clustering = nx.clustering(G_mention)\n",
    "shortest_paths = dict(nx.all_pairs_shortest_path_length(G_mention))"
   ]
  }
 ],
 "metadata": {
  "jupytext": {
   "cell_metadata_filter": "-all",
   "main_language": "python",
   "notebook_metadata_filter": "-all"
  },
  "kernelspec": {
   "display_name": "higgs-twitter-project-env",
   "language": "python",
   "name": "python3"
  },
  "language_info": {
   "codemirror_mode": {
    "name": "ipython",
    "version": 3
   },
   "file_extension": ".py",
   "mimetype": "text/x-python",
   "name": "python",
   "nbconvert_exporter": "python",
   "pygments_lexer": "ipython3",
   "version": "3.10.10"
  }
 },
 "nbformat": 4,
 "nbformat_minor": 5
}
