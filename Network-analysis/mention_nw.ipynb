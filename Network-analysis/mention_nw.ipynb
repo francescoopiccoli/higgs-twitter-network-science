{
 "cells": [
  {
   "cell_type": "code",
   "execution_count": 1,
   "id": "50e80fae",
   "metadata": {},
   "outputs": [
    {
     "name": "stdout",
     "output_type": "stream",
     "text": [
      "['C:\\\\Users\\\\drobi\\\\Desktop\\\\uni\\\\CS4195\\\\higgs-twitter-network-science\\\\Network-analysis', 'C:\\\\Users\\\\drobi\\\\Anaconda3\\\\python39.zip', 'C:\\\\Users\\\\drobi\\\\Anaconda3\\\\DLLs', 'C:\\\\Users\\\\drobi\\\\Anaconda3\\\\lib', 'C:\\\\Users\\\\drobi\\\\Anaconda3', '', 'C:\\\\Users\\\\drobi\\\\AppData\\\\Roaming\\\\Python\\\\Python39\\\\site-packages', 'C:\\\\Users\\\\drobi\\\\Anaconda3\\\\lib\\\\site-packages', 'C:\\\\Users\\\\drobi\\\\Anaconda3\\\\lib\\\\site-packages\\\\win32', 'C:\\\\Users\\\\drobi\\\\Anaconda3\\\\lib\\\\site-packages\\\\win32\\\\lib', 'C:\\\\Users\\\\drobi\\\\Anaconda3\\\\lib\\\\site-packages\\\\Pythonwin', '../']\n"
     ]
    }
   ],
   "source": [
    "import numpy as np\n",
    "import utilities as util\n",
    "import os\n",
    "import seaborn as sns"
   ]
  },
  {
   "cell_type": "code",
   "execution_count": 2,
   "id": "175cc15c",
   "metadata": {},
   "outputs": [],
   "source": [
    "os.chdir('../')\n",
    "df_mention = util.create_df_from_edge_list('network-data/higgs-mention_network.edgelist')\n",
    "os.chdir('Network-analysis/')\n",
    "G_mention = util.create_graph_from_df(df_mention, edge_attr='Day', isDirected=True)"
   ]
  },
  {
   "cell_type": "code",
   "execution_count": 3,
   "id": "a967f0f1",
   "metadata": {},
   "outputs": [],
   "source": [
    "num_nodes = G_mention.number_of_nodes()\n",
    "num_edges = G_mention.number_of_edges()\n",
    "avg_degree = util.get_avg_degree(G_mention)\n",
    "var_degree = util.get_var_degree_distribution(G_mention)\n",
    "std_degree = np.sqrt(var_degree)"
   ]
  },
  {
   "cell_type": "code",
   "execution_count": 5,
   "id": "48044db0",
   "metadata": {},
   "outputs": [
    {
     "name": "stdout",
     "output_type": "stream",
     "text": [
      "11960\n",
      "{11960: 1, 3920: 1, 2538: 1, 1604: 1, 1592: 1, 1530: 1, 1358: 1, 1191: 1, 1067: 1, 805: 1, 794: 1, 745: 1, 737: 1, 719: 1, 706: 1, 685: 1, 680: 1, 630: 1, 625: 1, 576: 1, 571: 1, 516: 1, 500: 1, 499: 1, 459: 1, 458: 1, 433: 1, 406: 1, 399: 1, 394: 1, 388: 1, 383: 1, 381: 1, 375: 1, 362: 1, 360: 1, 352: 1, 346: 1, 343: 1, 341: 1, 336: 2, 324: 1, 292: 1, 290: 1, 278: 1, 274: 1, 273: 1, 262: 1, 260: 1, 256: 1, 254: 1, 253: 1, 251: 1, 250: 2, 248: 1, 236: 1, 232: 1, 230: 1, 228: 2, 220: 2, 214: 1, 212: 1, 211: 2, 207: 1, 205: 1, 203: 1, 193: 1, 191: 1, 190: 1, 189: 1, 188: 1, 185: 2, 182: 1, 181: 2, 180: 1, 179: 1, 178: 1, 177: 1, 174: 1, 172: 1, 171: 1, 169: 2, 168: 1, 167: 1, 166: 1, 163: 2, 162: 1, 161: 1, 160: 1, 159: 1, 158: 1, 156: 4, 154: 1, 152: 1, 150: 2, 149: 1, 147: 2, 146: 1, 142: 1, 141: 1, 139: 2, 138: 2, 137: 2, 136: 1, 134: 2, 131: 1, 130: 4, 129: 3, 128: 2, 127: 2, 126: 3, 125: 1, 123: 3, 122: 1, 120: 2, 119: 1, 118: 2, 117: 1, 114: 2, 113: 3, 112: 5, 111: 3, 110: 1, 109: 2, 108: 2, 107: 2, 106: 1, 104: 5, 103: 1, 101: 6, 100: 1, 99: 4, 97: 3, 96: 2, 95: 3, 94: 2, 93: 1, 92: 3, 91: 4, 90: 2, 89: 3, 88: 1, 87: 2, 86: 1, 85: 2, 84: 5, 83: 2, 82: 4, 81: 1, 80: 1, 79: 2, 77: 1, 76: 7, 75: 2, 74: 5, 73: 5, 72: 3, 71: 8, 70: 3, 69: 3, 68: 3, 67: 5, 66: 1, 65: 3, 64: 2, 63: 3, 62: 5, 61: 6, 60: 8, 59: 6, 58: 6, 57: 5, 56: 5, 55: 7, 54: 5, 53: 4, 52: 6, 51: 9, 50: 13, 49: 5, 48: 4, 47: 8, 46: 9, 45: 10, 44: 7, 43: 6, 42: 12, 41: 5, 40: 10, 39: 12, 38: 12, 37: 16, 36: 19, 35: 14, 34: 17, 33: 26, 32: 21, 31: 15, 30: 25, 29: 29, 28: 31, 27: 21, 26: 24, 25: 33, 24: 33, 23: 36, 22: 32, 21: 44, 20: 59, 19: 48, 18: 72, 17: 78, 16: 110, 15: 100, 14: 127, 13: 168, 12: 190, 11: 233, 10: 301, 9: 429, 8: 550, 7: 802, 6: 1234, 5: 1940, 4: 3913, 3: 7533, 2: 20084, 1: 77531}\n"
     ]
    },
    {
     "data": {
      "text/plain": [
       "<seaborn.axisgrid.FacetGrid at 0x1db8d71fbb0>"
      ]
     },
     "execution_count": 5,
     "metadata": {},
     "output_type": "execute_result"
    },
    {
     "data": {
      "image/png": "[encoded data removed]",
      "text/plain": [
       "<Figure size 360x360 with 1 Axes>"
      ]
     },
     "metadata": {
      "needs_background": "light"
     },
     "output_type": "display_data"
    }
   ],
   "source": [
    "degree_dict = dict(G_mention.degree())\n",
    "print(max(degree_dict.values()))\n",
    "degree_distribution = util.get_degree_distribution(G_mention)\n",
    "print(degree_distribution)\n",
    "ax = sns.displot(degree_distribution)\n",
    "ax.set(xlabel='Degree', ylabel='Count')"
   ]
  },
  {
   "cell_type": "markdown",
   "id": "09d3903b",
   "metadata": {},
   "source": [
    "betweenness_centrality = nx.betweenness_centrality(G_mention)\n",
    "clustering = nx.clustering(G_mention)\n",
    "shortest_paths = dict(nx.all_pairs_shortest_path_length(G_mention))"
   ]
  }
 ],
 "metadata": {
  "jupytext": {
   "cell_metadata_filter": "-all",
   "main_language": "python",
   "notebook_metadata_filter": "-all"
  },
  "kernelspec": {
   "display_name": "Python 3 (ipykernel)",
   "language": "python",
   "name": "python3"
  },
  "language_info": {
   "codemirror_mode": {
    "name": "ipython",
    "version": 3
   },
   "file_extension": ".py",
   "mimetype": "text/x-python",
   "name": "python",
   "nbconvert_exporter": "python",
   "pygments_lexer": "ipython3",
   "version": "3.9.12"
  }
 },
 "nbformat": 4,
 "nbformat_minor": 5
}
