{
 "cells": [
  {
   "cell_type": "code",
   "execution_count": 16,
   "id": "08a6de31",
   "metadata": {},
   "outputs": [
    {
     "name": "stdout",
     "output_type": "stream",
     "text": [
      "['C:\\\\Users\\\\drobi\\\\Desktop\\\\uni\\\\CS4195\\\\higgs-twitter-network-science\\\\Network-analysis', 'C:\\\\Users\\\\drobi\\\\Anaconda3\\\\python39.zip', 'C:\\\\Users\\\\drobi\\\\Anaconda3\\\\DLLs', 'C:\\\\Users\\\\drobi\\\\Anaconda3\\\\lib', 'C:\\\\Users\\\\drobi\\\\Anaconda3', '', 'C:\\\\Users\\\\drobi\\\\AppData\\\\Roaming\\\\Python\\\\Python39\\\\site-packages', 'C:\\\\Users\\\\drobi\\\\Anaconda3\\\\lib\\\\site-packages', 'C:\\\\Users\\\\drobi\\\\Anaconda3\\\\lib\\\\site-packages\\\\win32', 'C:\\\\Users\\\\drobi\\\\Anaconda3\\\\lib\\\\site-packages\\\\win32\\\\lib', 'C:\\\\Users\\\\drobi\\\\Anaconda3\\\\lib\\\\site-packages\\\\Pythonwin', '../', '../', '../', '../']\n"
     ]
    }
   ],
   "source": [
    "import networkx as nx\n",
    "import pandas as pd\n",
    "import numpy as np\n",
    "import utilities as util\n",
    "import matplotlib.pyplot as plt\n",
    "import sys\n",
    "import os\n",
    "sys.path.append('../')\n",
    "print(sys.path)"
   ]
  },
  {
   "cell_type": "code",
   "execution_count": 2,
   "id": "e78b8b7e",
   "metadata": {},
   "outputs": [],
   "source": [
    "os.chdir('../')\n",
    "activity_time = util.load_activity_time('network-data/higgs-activity_time.txt')\n",
    "os.chdir('Network-analysis/')"
   ]
  },
  {
   "cell_type": "code",
   "execution_count": 20,
   "id": "b2b0526b",
   "metadata": {},
   "outputs": [
    {
     "data": {
      "image/png": "[encoded data removed]",
      "text/plain": [
       "<Figure size 432x288 with 1 Axes>"
      ]
     },
     "metadata": {
      "needs_background": "light"
     },
     "output_type": "display_data"
    }
   ],
   "source": [
    "plt.hist(activity_time['Timestamp'], bins=200, density=True)\n",
    "plt.show()"
   ]
  },
  {
   "cell_type": "code",
   "execution_count": 11,
   "id": "d717d7c9",
   "metadata": {},
   "outputs": [
    {
     "data": {
      "text/plain": [
       "<matplotlib.legend.Legend at 0x1c2ce415190>"
      ]
     },
     "execution_count": 11,
     "metadata": {},
     "output_type": "execute_result"
    },
    {
     "data": {
      "image/png": "[encoded data removed]",
      "text/plain": [
       "<Figure size 432x288 with 1 Axes>"
      ]
     },
     "metadata": {
      "needs_background": "light"
     },
     "output_type": "display_data"
    }
   ],
   "source": [
    "plt.hist(activity_time[activity_time['Type'] == 'RT']['Timestamp'], bins=200, density=True, label='RT', alpha=0.3)\n",
    "plt.hist(activity_time[activity_time['Type'] == 'MT']['Timestamp'], bins=200, density=True, label='MT', alpha=0.3)\n",
    "plt.hist(activity_time[activity_time['Type'] == 'RE']['Timestamp'], bins=200, density=True, label='RE', alpha=0.3)\n",
    "plt.legend()"
   ]
  },
  {
   "cell_type": "code",
   "execution_count": null,
   "id": "edcb0645",
   "metadata": {},
   "outputs": [],
   "source": []
  }
 ],
 "metadata": {
  "kernelspec": {
   "display_name": "Python 3 (ipykernel)",
   "language": "python",
   "name": "python3"
  },
  "language_info": {
   "codemirror_mode": {
    "name": "ipython",
    "version": 3
   },
   "file_extension": ".py",
   "mimetype": "text/x-python",
   "name": "python",
   "nbconvert_exporter": "python",
   "pygments_lexer": "ipython3",
   "version": "3.9.12"
  }
 },
 "nbformat": 4,
 "nbformat_minor": 5
}
