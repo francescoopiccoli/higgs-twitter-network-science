{
 "cells": [
  {
   "cell_type": "code",
   "execution_count": 1,
   "id": "1af32475",
   "metadata": {},
   "outputs": [
    {
     "name": "stdout",
     "output_type": "stream",
     "text": [
      "['C:\\\\Users\\\\drobi\\\\Desktop\\\\uni\\\\CS4195\\\\higgs-twitter-network-science\\\\Network-analysis', 'C:\\\\Users\\\\drobi\\\\Anaconda3\\\\python39.zip', 'C:\\\\Users\\\\drobi\\\\Anaconda3\\\\DLLs', 'C:\\\\Users\\\\drobi\\\\Anaconda3\\\\lib', 'C:\\\\Users\\\\drobi\\\\Anaconda3', '', 'C:\\\\Users\\\\drobi\\\\AppData\\\\Roaming\\\\Python\\\\Python39\\\\site-packages', 'C:\\\\Users\\\\drobi\\\\Anaconda3\\\\lib\\\\site-packages', 'C:\\\\Users\\\\drobi\\\\Anaconda3\\\\lib\\\\site-packages\\\\win32', 'C:\\\\Users\\\\drobi\\\\Anaconda3\\\\lib\\\\site-packages\\\\win32\\\\lib', 'C:\\\\Users\\\\drobi\\\\Anaconda3\\\\lib\\\\site-packages\\\\Pythonwin', '../']\n"
     ]
    }
   ],
   "source": [
    "import numpy as np\n",
    "import utilities as util\n",
    "import os\n",
    "import seaborn as sns"
   ]
  },
  {
   "cell_type": "code",
   "execution_count": 2,
   "id": "e3622870",
   "metadata": {},
   "outputs": [],
   "source": [
    "os.chdir('../')\n",
    "df_retweet = util.create_df_from_edge_list('network-data/higgs-retweet_network.edgelist')\n",
    "os.chdir('Network-analysis/')\n",
    "G_retweet = util.create_graph_from_df(df_retweet, edge_attr='Day', isDirected=True)"
   ]
  },
  {
   "cell_type": "code",
   "execution_count": 3,
   "id": "1af08bc7",
   "metadata": {},
   "outputs": [],
   "source": [
    "num_nodes = G_retweet.number_of_nodes()\n",
    "num_edges = G_retweet.number_of_edges()\n",
    "avg_degree = util.get_avg_degree(G_retweet)\n",
    "var_degree = util.get_var_degree_distribution(G_retweet)\n",
    "std_degree = np.sqrt(var_degree)"
   ]
  },
  {
   "cell_type": "code",
   "execution_count": null,
   "id": "f0f32bca",
   "metadata": {},
   "outputs": [
    {
     "name": "stdout",
     "output_type": "stream",
     "text": [
      "{14063: 1, 6190: 1, 5621: 1, 4337: 1, 2803: 1, 2039: 1, 1981: 1, 1959: 1, 1692: 1, 1689: 1, 1677: 1, 1671: 1, 1666: 1, 1663: 1, 1646: 1, 1623: 1, 1545: 1, 1517: 1, 1431: 1, 1407: 1, 1032: 1, 1024: 1, 979: 2, 950: 1, 933: 1, 917: 1, 906: 1, 898: 1, 872: 1, 854: 1, 853: 1, 841: 1, 840: 1, 810: 1, 803: 1, 789: 1, 774: 1, 767: 1, 766: 1, 762: 1, 760: 1, 743: 1, 731: 1, 730: 1, 729: 1, 715: 1, 707: 1, 686: 1, 676: 1, 662: 1, 651: 2, 641: 1, 616: 1, 611: 1, 609: 1, 606: 1, 602: 2, 590: 1, 570: 1, 568: 1, 556: 1, 541: 1, 536: 1, 525: 1, 524: 1, 523: 1, 521: 1, 519: 1, 513: 1, 509: 1, 507: 1, 503: 1, 497: 1, 494: 1, 492: 1, 485: 1, 483: 1, 481: 1, 472: 1, 459: 1, 458: 1, 446: 1, 445: 3, 442: 1, 440: 1, 437: 1, 432: 1, 431: 2, 429: 1, 425: 1, 424: 1, 422: 1, 421: 1, 413: 1, 411: 1, 405: 1, 401: 1, 400: 1, 398: 1, 385: 2, 380: 2, 376: 1, 374: 1, 366: 1, 365: 1, 360: 2, 351: 1, 350: 1, 349: 1, 348: 1, 340: 1, 338: 2, 337: 1, 335: 2, 334: 1, 331: 1, 330: 1, 329: 1, 328: 1, 327: 1, 322: 1, 317: 1, 314: 1, 311: 1, 307: 1, 306: 1, 305: 1, 303: 1, 300: 1, 299: 1, 297: 1, 294: 2, 293: 2, 292: 1, 291: 1, 289: 2, 288: 2, 287: 1, 286: 1, 285: 1, 283: 1, 282: 1, 281: 1, 278: 1, 277: 1, 275: 1, 274: 1, 271: 2, 269: 1, 268: 1, 263: 2, 260: 1, 255: 1, 254: 2, 249: 1, 248: 3, 247: 2, 246: 1, 244: 1, 243: 1, 241: 2, 240: 2, 239: 1, 238: 2, 237: 1, 235: 1, 233: 1, 232: 1, 231: 1, 230: 3, 228: 4, 224: 1, 223: 2, 222: 1, 221: 1, 220: 1, 217: 1, 216: 1, 215: 1, 213: 1, 210: 1, 209: 1, 208: 5, 206: 1, 205: 1, 204: 2, 203: 2, 202: 2, 200: 1, 199: 1, 198: 1, 197: 1, 196: 1, 194: 3, 193: 3, 192: 1, 191: 2, 190: 1, 188: 3, 186: 1, 185: 1, 184: 4, 183: 2, 182: 1, 181: 4, 179: 1, 178: 1, 177: 1, 176: 2, 175: 1, 173: 4, 171: 2, 170: 2, 168: 2, 167: 2, 166: 2, 165: 2, 164: 1, 163: 2, 162: 1, 161: 3, 160: 2, 159: 3, 158: 2, 157: 2, 156: 1, 155: 2, 154: 4, 153: 2, 152: 3, 151: 2, 150: 3, 149: 4, 148: 2, 146: 4, 145: 3, 144: 1, 142: 3, 140: 1, 138: 1, 137: 6, 136: 5, 135: 4, 134: 4, 133: 8, 132: 3, 131: 4, 130: 1, 129: 3, 128: 3, 127: 7, 126: 4, 125: 5, 124: 5, 123: 3, 121: 2, 120: 7, 119: 2, 118: 7, 117: 2, 116: 4, 115: 4, 114: 3, 113: 4, 112: 6, 111: 6, 110: 1, 109: 2, 108: 3, 107: 3, 106: 5, 105: 2, 104: 4, 103: 4, 102: 4, 101: 4, 100: 3, 99: 4, 98: 3, 97: 6, 96: 8, 95: 5, 94: 3, 93: 1, 92: 3, 91: 4, 90: 2, 89: 6, 88: 6, 87: 4, 85: 7, 84: 9, 83: 9, 82: 7, 81: 4, 80: 10, 79: 6, 78: 12, 77: 10, 76: 7, 75: 5, 74: 8, 73: 7, 72: 6, 71: 2, 70: 7, 69: 3, 68: 11, 67: 8, 66: 7, 65: 9, 64: 13, 63: 5, 62: 9, 61: 17, 60: 10, 59: 13, 58: 12, 57: 15, 56: 14, 55: 8, 54: 14, 53: 11, 52: 20, 51: 25, 50: 15, 49: 13, 48: 18, 47: 18, 46: 25, 45: 36, 44: 16, 43: 21, 42: 26, 41: 18, 40: 25, 39: 31, 38: 23, 37: 31, 36: 36, 35: 27, 34: 37, 33: 39, 32: 36, 31: 42, 30: 47, 29: 47, 28: 49, 27: 51, 26: 48, 25: 59, 24: 88, 23: 86, 22: 88, 21: 93, 20: 90, 19: 137, 18: 137, 17: 170, 16: 157, 15: 202, 14: 257, 13: 283, 12: 349, 11: 427, 10: 565, 9: 752, 8: 1010, 7: 1425, 6: 2085, 5: 3334, 4: 5964, 3: 12690, 2: 36107, 1: 188289}\n"
     ]
    },
    {
     "data": {
      "text/plain": [
       "<seaborn.axisgrid.FacetGrid at 0x2174eea93d0>"
      ]
     },
     "execution_count": 4,
     "metadata": {},
     "output_type": "execute_result"
    }
   ],
   "source": [
    "degree_distribution = util.get_degree_distribution(G_retweet)\n",
    "print(degree_distribution)\n",
    "ax = sns.displot(degree_distribution, kde=True, log_scale=True)\n",
    "ax.set(xlabel='Degree', ylabel='Count')"
   ]
  },
  {
   "cell_type": "code",
   "execution_count": null,
   "id": "8bad372c",
   "metadata": {},
   "outputs": [],
   "source": []
  }
 ],
 "metadata": {
  "jupytext": {
   "cell_metadata_filter": "-all",
   "main_language": "python",
   "notebook_metadata_filter": "-all"
  },
  "kernelspec": {
   "display_name": "Python 3 (ipykernel)",
   "language": "python",
   "name": "python3"
  },
  "language_info": {
   "codemirror_mode": {
    "name": "ipython",
    "version": 3
   },
   "file_extension": ".py",
   "mimetype": "text/x-python",
   "name": "python",
   "nbconvert_exporter": "python",
   "pygments_lexer": "ipython3",
   "version": "3.9.12"
  }
 },
 "nbformat": 4,
 "nbformat_minor": 5
}
