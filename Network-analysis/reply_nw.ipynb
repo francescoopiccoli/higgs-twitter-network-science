{
 "cells": [
  {
   "cell_type": "code",
   "execution_count": 1,
   "id": "43090f18",
   "metadata": {},
   "outputs": [
    {
     "name": "stdout",
     "output_type": "stream",
     "text": [
      "['C:\\\\Users\\\\drobi\\\\Desktop\\\\uni\\\\CS4195\\\\higgs-twitter-network-science\\\\Network-analysis', 'C:\\\\Users\\\\drobi\\\\Anaconda3\\\\python39.zip', 'C:\\\\Users\\\\drobi\\\\Anaconda3\\\\DLLs', 'C:\\\\Users\\\\drobi\\\\Anaconda3\\\\lib', 'C:\\\\Users\\\\drobi\\\\Anaconda3', '', 'C:\\\\Users\\\\drobi\\\\AppData\\\\Roaming\\\\Python\\\\Python39\\\\site-packages', 'C:\\\\Users\\\\drobi\\\\Anaconda3\\\\lib\\\\site-packages', 'C:\\\\Users\\\\drobi\\\\Anaconda3\\\\lib\\\\site-packages\\\\win32', 'C:\\\\Users\\\\drobi\\\\Anaconda3\\\\lib\\\\site-packages\\\\win32\\\\lib', 'C:\\\\Users\\\\drobi\\\\Anaconda3\\\\lib\\\\site-packages\\\\Pythonwin', '../']\n"
     ]
    }
   ],
   "source": [
    "import networkx as nx\n",
    "import numpy as np\n",
    "import utilities as util\n",
    "import os\n",
    "import seaborn as sns\n",
    "from tabulate import tabulate"
   ]
  },
  {
   "cell_type": "code",
   "execution_count": 2,
   "id": "10967ae5",
   "metadata": {},
   "outputs": [],
   "source": [
    "os.chdir('../')\n",
    "df_reply = util.create_df_from_edge_list('network-data/higgs-reply_network.edgelist')\n",
    "os.chdir('Network-analysis/')\n",
    "G_reply = util.create_graph_from_df(df_reply, edge_attr='Day', isDirected=True)"
   ]
  },
  {
   "cell_type": "code",
   "execution_count": 4,
   "id": "870c6c93",
   "metadata": {},
   "outputs": [],
   "source": [
    "num_nodes = G_reply.number_of_nodes()\n",
    "num_edges = G_reply.number_of_edges()\n",
    "avg_degree = util.get_avg_degree(G_reply)\n",
    "var_degree = util.get_var_degree_distribution(G_reply)\n",
    "std_degree = np.sqrt(var_degree)"
   ]
  },
  {
   "cell_type": "code",
   "execution_count": 5,
   "id": "bc6ecdbd",
   "metadata": {},
   "outputs": [
    {
     "data": {
      "text/plain": [
       "<seaborn.axisgrid.FacetGrid at 0x29c081ad340>"
      ]
     },
     "execution_count": 5,
     "metadata": {},
     "output_type": "execute_result"
    },
    {
     "data": {
      "image/png": "[encoded data removed]",
      "text/plain": [
       "<Figure size 360x360 with 1 Axes>"
      ]
     },
     "metadata": {
      "needs_background": "light"
     },
     "output_type": "display_data"
    }
   ],
   "source": [
    "degree_distribution = util.get_degree_distribution(G_reply)\n",
    "ax = sns.displot(degree_distribution, kde=True, log_scale=True)\n",
    "ax.set(xlabel='Degree', ylabel='Count')"
   ]
  },
  {
   "cell_type": "code",
   "execution_count": 6,
   "id": "6f163a58",
   "metadata": {},
   "outputs": [
    {
     "ename": "NetworkXNotImplemented",
     "evalue": "not implemented for directed type",
     "output_type": "error",
     "traceback": [
      "\u001b[1;31m---------------------------------------------------------------------------\u001b[0m",
      "\u001b[1;31mNetworkXNotImplemented\u001b[0m                    Traceback (most recent call last)",
      "Input \u001b[1;32mIn [6]\u001b[0m, in \u001b[0;36m<cell line: 1>\u001b[1;34m()\u001b[0m\n\u001b[1;32m----> 1\u001b[0m \u001b[38;5;28mprint\u001b[39m(\u001b[43mnx\u001b[49m\u001b[38;5;241;43m.\u001b[39;49m\u001b[43mis_connected\u001b[49m\u001b[43m(\u001b[49m\u001b[43mG_reply\u001b[49m\u001b[43m)\u001b[49m)\n",
      "File \u001b[1;32m~\\Anaconda3\\lib\\site-packages\\networkx\\utils\\decorators.py:816\u001b[0m, in \u001b[0;36margmap.__call__.<locals>.func\u001b[1;34m(_argmap__wrapper, *args, **kwargs)\u001b[0m\n\u001b[0;32m    815\u001b[0m \u001b[38;5;28;01mdef\u001b[39;00m \u001b[38;5;21mfunc\u001b[39m(\u001b[38;5;241m*\u001b[39margs, __wrapper\u001b[38;5;241m=\u001b[39m\u001b[38;5;28;01mNone\u001b[39;00m, \u001b[38;5;241m*\u001b[39m\u001b[38;5;241m*\u001b[39mkwargs):\n\u001b[1;32m--> 816\u001b[0m     \u001b[38;5;28;01mreturn\u001b[39;00m argmap\u001b[38;5;241m.\u001b[39m_lazy_compile(__wrapper)(\u001b[38;5;241m*\u001b[39margs, \u001b[38;5;241m*\u001b[39m\u001b[38;5;241m*\u001b[39mkwargs)\n",
      "File \u001b[1;32m<class 'networkx.utils.decorators.argmap'> compilation 16:3\u001b[0m, in \u001b[0;36margmap_is_connected_13\u001b[1;34m(G)\u001b[0m\n\u001b[0;32m      1\u001b[0m \u001b[38;5;28;01mfrom\u001b[39;00m \u001b[38;5;21;01mcollections\u001b[39;00m \u001b[38;5;28;01mimport\u001b[39;00m defaultdict\n\u001b[0;32m      2\u001b[0m \u001b[38;5;28;01mfrom\u001b[39;00m \u001b[38;5;21;01mos\u001b[39;00m\u001b[38;5;21;01m.\u001b[39;00m\u001b[38;5;21;01mpath\u001b[39;00m \u001b[38;5;28;01mimport\u001b[39;00m splitext\n\u001b[1;32m----> 3\u001b[0m \u001b[38;5;28;01mfrom\u001b[39;00m \u001b[38;5;21;01mcontextlib\u001b[39;00m \u001b[38;5;28;01mimport\u001b[39;00m contextmanager\n\u001b[0;32m      4\u001b[0m \u001b[38;5;28;01mfrom\u001b[39;00m \u001b[38;5;21;01mpathlib\u001b[39;00m \u001b[38;5;28;01mimport\u001b[39;00m Path\n\u001b[0;32m      6\u001b[0m \u001b[38;5;28;01mimport\u001b[39;00m \u001b[38;5;21;01mnetworkx\u001b[39;00m \u001b[38;5;28;01mas\u001b[39;00m \u001b[38;5;21;01mnx\u001b[39;00m\n",
      "File \u001b[1;32m~\\Anaconda3\\lib\\site-packages\\networkx\\utils\\decorators.py:86\u001b[0m, in \u001b[0;36mnot_implemented_for.<locals>._not_implemented_for\u001b[1;34m(g)\u001b[0m\n\u001b[0;32m     82\u001b[0m \u001b[38;5;28;01mdef\u001b[39;00m \u001b[38;5;21m_not_implemented_for\u001b[39m(g):\n\u001b[0;32m     83\u001b[0m     \u001b[38;5;28;01mif\u001b[39;00m (mval \u001b[38;5;129;01mis\u001b[39;00m \u001b[38;5;28;01mNone\u001b[39;00m \u001b[38;5;129;01mor\u001b[39;00m mval \u001b[38;5;241m==\u001b[39m g\u001b[38;5;241m.\u001b[39mis_multigraph()) \u001b[38;5;129;01mand\u001b[39;00m (\n\u001b[0;32m     84\u001b[0m         dval \u001b[38;5;129;01mis\u001b[39;00m \u001b[38;5;28;01mNone\u001b[39;00m \u001b[38;5;129;01mor\u001b[39;00m dval \u001b[38;5;241m==\u001b[39m g\u001b[38;5;241m.\u001b[39mis_directed()\n\u001b[0;32m     85\u001b[0m     ):\n\u001b[1;32m---> 86\u001b[0m         \u001b[38;5;28;01mraise\u001b[39;00m nx\u001b[38;5;241m.\u001b[39mNetworkXNotImplemented(errmsg)\n\u001b[0;32m     88\u001b[0m     \u001b[38;5;28;01mreturn\u001b[39;00m g\n",
      "\u001b[1;31mNetworkXNotImplemented\u001b[0m: not implemented for directed type"
     ]
    }
   ],
   "source": [
    "print(nx.is_connected(G_reply))"
   ]
  },
  {
   "cell_type": "code",
   "execution_count": null,
   "id": "34a9459c",
   "metadata": {},
   "outputs": [],
   "source": [
    "# Average shortest path length\n",
    "# avg_shortest_path = nx.average_shortest_path_length(G_reply) NetworkXError: Graph is not fully connected\n",
    "# Get all shortest paths\n",
    "# shortest_paths = dict(nx.all_pairs_shortest_path_length(G_reply))\n",
    "# Diameter\n",
    "# diameter = nx.diameter(G_reply) NetworkXError: Found infinite path length because the digraph is not strongly connected.\n",
    "# Betweenness centrality\n",
    "betweenness = nx.betweenness_centrality(G_reply)\n",
    "# Clustering coefficient\n",
    "clustering = nx.average_clustering(G_reply)\n",
    "# Calculate the degree correlation coefficient\n",
    "degree_assortativity = nx.degree_assortativity_coefficient(G_reply)\n",
    "# Largest eigenvalue\n",
    "A = nx.adjacency_matrix(G_reply).todense()\n",
    "eigenvalues, _ = np.linalg.eig(A)\n",
    "lambda1 = max(eigenvalues)"
   ]
  },
  {
   "cell_type": "code",
   "execution_count": 6,
   "id": "b9eea274",
   "metadata": {},
   "outputs": [
    {
     "ename": "NameError",
     "evalue": "name 'betweenness' is not defined",
     "output_type": "error",
     "traceback": [
      "\u001b[0;31m---------------------------------------------------------------------------\u001b[0m",
      "\u001b[0;31mNameError\u001b[0m                                 Traceback (most recent call last)",
      "Cell \u001b[0;32mIn[6], line 7\u001b[0m\n\u001b[1;32m      1\u001b[0m \u001b[39m# Put all metrics in a table, to implement this in the report.\u001b[39;00m\n\u001b[1;32m      2\u001b[0m table \u001b[39m=\u001b[39m [\n\u001b[1;32m      3\u001b[0m     [\u001b[39m\"\u001b[39m\u001b[39mNumber of nodes\u001b[39m\u001b[39m\"\u001b[39m, num_nodes],\n\u001b[1;32m      4\u001b[0m     [\u001b[39m\"\u001b[39m\u001b[39mNumber of edges\u001b[39m\u001b[39m\"\u001b[39m, num_edges],\n\u001b[1;32m      5\u001b[0m     [\u001b[39m\"\u001b[39m\u001b[39mAverage degree\u001b[39m\u001b[39m\"\u001b[39m, \u001b[39mround\u001b[39m(avg_degree, \u001b[39m2\u001b[39m)],\n\u001b[1;32m      6\u001b[0m     [\u001b[39m\"\u001b[39m\u001b[39mStandard deviation degree\u001b[39m\u001b[39m\"\u001b[39m,\u001b[39mround\u001b[39m(std_degree, \u001b[39m2\u001b[39m)],\n\u001b[0;32m----> 7\u001b[0m     [\u001b[39m\"\u001b[39m\u001b[39mBetweenness\u001b[39m\u001b[39m\"\u001b[39m,\u001b[39mround\u001b[39m(betweenness, \u001b[39m2\u001b[39m)],\n\u001b[1;32m      8\u001b[0m     [\u001b[39m\"\u001b[39m\u001b[39mDegree assortativity\u001b[39m\u001b[39m\"\u001b[39m, \u001b[39mround\u001b[39m(degree_assortativity, \u001b[39m2\u001b[39m)],\n\u001b[1;32m      9\u001b[0m     [\u001b[39m\"\u001b[39m\u001b[39mClustering coefficient\u001b[39m\u001b[39m\"\u001b[39m,\u001b[39mround\u001b[39m(clustering, \u001b[39m2\u001b[39m)],\n\u001b[1;32m     10\u001b[0m     [\u001b[39m\"\u001b[39m\u001b[39mLargest eigenvalue\u001b[39m\u001b[39m\"\u001b[39m,\u001b[39mround\u001b[39m(lambda1, \u001b[39m2\u001b[39m)]\n\u001b[1;32m     11\u001b[0m     ]\n\u001b[1;32m     12\u001b[0m headers \u001b[39m=\u001b[39m [\u001b[39m\"\u001b[39m\u001b[39mMetric\u001b[39m\u001b[39m\"\u001b[39m, \u001b[39m\"\u001b[39m\u001b[39mValue\u001b[39m\u001b[39m\"\u001b[39m]\n\u001b[1;32m     13\u001b[0m \u001b[39mprint\u001b[39m(tabulate(table, headers, tablefmt\u001b[39m=\u001b[39m\u001b[39m\"\u001b[39m\u001b[39mfancy_grid\u001b[39m\u001b[39m\"\u001b[39m, numalign\u001b[39m=\u001b[39m\u001b[39m\"\u001b[39m\u001b[39mright\u001b[39m\u001b[39m\"\u001b[39m))\n",
      "\u001b[0;31mNameError\u001b[0m: name 'betweenness' is not defined"
     ]
    }
   ],
   "source": [
    "# Put all metrics in a table, to implement this in the report.\n",
    "table = [\n",
    "    [\"Number of nodes\", num_nodes],\n",
    "    [\"Number of edges\", num_edges],\n",
    "    [\"Average degree\", round(avg_degree, 2)],\n",
    "    [\"Standard deviation degree\",round(std_degree, 2)],\n",
    "    [\"Betweenness\",round(betweenness, 2)],\n",
    "    [\"Degree assortativity\", round(degree_assortativity, 2)],\n",
    "    [\"Clustering coefficient\",round(clustering, 2)],\n",
    "    [\"Largest eigenvalue\",round(lambda1, 2)]\n",
    "    ]\n",
    "headers = [\"Metric\", \"Value\"]\n",
    "print(tabulate(table, headers, tablefmt=\"fancy_grid\", numalign=\"right\"))"
   ]
  }
 ],
 "metadata": {
  "jupytext": {
   "cell_metadata_filter": "-all",
   "main_language": "python",
   "notebook_metadata_filter": "-all"
  },
  "kernelspec": {
   "display_name": "Python 3 (ipykernel)",
   "language": "python",
   "name": "python3"
  },
  "language_info": {
   "codemirror_mode": {
    "name": "ipython",
    "version": 3
   },
   "file_extension": ".py",
   "mimetype": "text/x-python",
   "name": "python",
   "nbconvert_exporter": "python",
   "pygments_lexer": "ipython3",
   "version": "3.9.12"
  }
 },
 "nbformat": 4,
 "nbformat_minor": 5
}
